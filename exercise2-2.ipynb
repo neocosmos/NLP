{
 "cells": [
  {
   "cell_type": "markdown",
   "metadata": {
    "deletable": true,
    "editable": true
   },
   "source": [
    "Q15 至少n次的词"
   ]
  },
  {
   "cell_type": "code",
   "execution_count": 158,
   "metadata": {
    "collapsed": true,
    "deletable": true,
    "editable": true
   },
   "outputs": [],
   "source": [
    "import nltk\n",
    "from nltk.corpus import brown"
   ]
  },
  {
   "cell_type": "code",
   "execution_count": 4,
   "metadata": {
    "collapsed": false,
    "deletable": true,
    "editable": true
   },
   "outputs": [],
   "source": [
    "fdist  = nltk.FreqDist( w.lower() for w in brown.words())"
   ]
  },
  {
   "cell_type": "code",
   "execution_count": 11,
   "metadata": {
    "collapsed": false,
    "deletable": true,
    "editable": true
   },
   "outputs": [],
   "source": [
    "words = [w for w in fdist if fdist[w]>=3]"
   ]
  },
  {
   "cell_type": "markdown",
   "metadata": {
    "collapsed": true,
    "deletable": true,
    "editable": true
   },
   "source": [
    "Q16 词汇多样性"
   ]
  },
  {
   "cell_type": "code",
   "execution_count": 4,
   "metadata": {
    "collapsed": false,
    "deletable": true,
    "editable": true
   },
   "outputs": [
    {
     "name": "stdout",
     "output_type": "stream",
     "text": [
      "adventure, 69342, 8874, 7.814064\n",
      "belles_lettres, 173096, 18421, 9.396667\n",
      "editorial, 61604, 9890, 6.228918\n",
      "fiction, 68488, 9302, 7.362718\n",
      "government, 70117, 8181, 8.570713\n",
      "hobbies, 82345, 11935, 6.899455\n",
      "humor, 21695, 5017, 4.324297\n",
      "learned, 181888, 16859, 10.788778\n",
      "lore, 110299, 14503, 7.605254\n",
      "mystery, 57169, 6982, 8.188055\n",
      "news, 100554, 14394, 6.985827\n",
      "religion, 39399, 6373, 6.182175\n",
      "reviews, 40704, 8626, 4.718757\n",
      "romance, 70022, 8452, 8.284666\n",
      "science_fiction, 14470, 3233, 4.475719\n"
     ]
    }
   ],
   "source": [
    "for genre in brown.categories():\n",
    "    w = brown.words(categories=genre)\n",
    "    x = len(w)\n",
    "    y = len(set(w))\n",
    "    print '%s, %d, %d, %f' % (genre, x, y, (x *1./ y))"
   ]
  },
  {
   "cell_type": "markdown",
   "metadata": {
    "deletable": true,
    "editable": true
   },
   "source": [
    "Q17 文本中最常出现词 "
   ]
  },
  {
   "cell_type": "code",
   "execution_count": 156,
   "metadata": {
    "collapsed": false,
    "deletable": true,
    "editable": true
   },
   "outputs": [
    {
     "name": "stdout",
     "output_type": "stream",
     "text": [
      "*** Introductory Examples for the NLTK Book ***\n",
      "Loading text1, ..., text9 and sent1, ..., sent9\n",
      "Type the name of the text or sentence to view it.\n",
      "Type: 'texts()' or 'sents()' to list the materials.\n",
      "text1: Moby Dick by Herman Melville 1851\n",
      "text2: Sense and Sensibility by Jane Austen 1811\n",
      "text3: The Book of Genesis\n",
      "text4: Inaugural Address Corpus\n",
      "text5: Chat Corpus\n",
      "text6: Monty Python and the Holy Grail\n",
      "text7: Wall Street Journal\n",
      "text8: Personals Corpus\n",
      "text9: The Man Who Was Thursday by G . K . Chesterton 1908\n"
     ]
    }
   ],
   "source": [
    "from nltk.book import *"
   ]
  },
  {
   "cell_type": "code",
   "execution_count": 17,
   "metadata": {
    "collapsed": false,
    "deletable": true,
    "editable": true
   },
   "outputs": [],
   "source": [
    "from nltk.corpus import stopwords\n",
    "stopwords = nltk.corpus.stopwords.words('english')\n",
    "def max_freq(text, num):\n",
    "    fdist = FreqDist([w.lower() for w in text if w.isalpha() and w.lower() not in stopwords])\n",
    "    return fdist.most_common()[:num]"
   ]
  },
  {
   "cell_type": "code",
   "execution_count": 18,
   "metadata": {
    "collapsed": false,
    "deletable": true,
    "editable": true
   },
   "outputs": [
    {
     "data": {
      "text/plain": [
       "[(u'whale', 1226),\n",
       " (u'one', 921),\n",
       " (u'like', 647),\n",
       " (u'upon', 566),\n",
       " (u'man', 527),\n",
       " (u'ship', 518),\n",
       " (u'ahab', 511),\n",
       " (u'ye', 472),\n",
       " (u'sea', 455),\n",
       " (u'old', 450)]"
      ]
     },
     "execution_count": 18,
     "metadata": {},
     "output_type": "execute_result"
    }
   ],
   "source": [
    "max_freq(text1,10)"
   ]
  },
  {
   "cell_type": "markdown",
   "metadata": {
    "deletable": true,
    "editable": true
   },
   "source": [
    "Q18 文本中最常出现双连词"
   ]
  },
  {
   "cell_type": "code",
   "execution_count": 28,
   "metadata": {
    "collapsed": true,
    "deletable": true,
    "editable": true
   },
   "outputs": [],
   "source": [
    "def max_freq_bi(text, num):\n",
    "    stopwords = nltk.corpus.stopwords.words('english')\n",
    "    bigrams = nltk.bigrams([w.lower() for w in text if w.isalpha() and w not in stopwords])\n",
    "    fdist = FreqDist((w1, w2) for (w1,w2) in bigrams)\n",
    "    return fdist.most_common()[:num]"
   ]
  },
  {
   "cell_type": "code",
   "execution_count": 29,
   "metadata": {
    "collapsed": false,
    "deletable": true,
    "editable": true
   },
   "outputs": [
    {
     "data": {
      "text/plain": [
       "[((u'mrs', u'jennings'), 230),\n",
       " ((u'colonel', u'brandon'), 132),\n",
       " ((u'mrs', u'dashwood'), 121),\n",
       " ((u'sir', u'john'), 112),\n",
       " ((u'lady', u'middleton'), 95),\n",
       " ((u'every', u'thing'), 80),\n",
       " ((u'i', u'sure'), 79),\n",
       " ((u'i', u'know'), 79),\n",
       " ((u'mrs', u'ferrars'), 75),\n",
       " ((u'i', u'think'), 71)]"
      ]
     },
     "execution_count": 29,
     "metadata": {},
     "output_type": "execute_result"
    }
   ],
   "source": [
    "max_freq_bi(text2, 10)"
   ]
  },
  {
   "cell_type": "markdown",
   "metadata": {
    "collapsed": true,
    "deletable": true,
    "editable": true
   },
   "source": [
    "Q20"
   ]
  },
  {
   "cell_type": "code",
   "execution_count": 2,
   "metadata": {
    "collapsed": true,
    "deletable": true,
    "editable": true
   },
   "outputs": [],
   "source": [
    "def word_freq(word, genre):\n",
    "    fdist = nltk.FreqDist([w.lower() for w in brown.words(categories=genre)])\n",
    "    return fdist[word]"
   ]
  },
  {
   "cell_type": "code",
   "execution_count": 9,
   "metadata": {
    "collapsed": false,
    "deletable": true,
    "editable": true
   },
   "outputs": [
    {
     "data": {
      "text/plain": [
       "36"
      ]
     },
     "execution_count": 9,
     "metadata": {},
     "output_type": "execute_result"
    }
   ],
   "source": [
    "word_freq(\"love\", \"romance\")"
   ]
  },
  {
   "cell_type": "markdown",
   "metadata": {
    "deletable": true,
    "editable": true
   },
   "source": [
    "Q21 CMU发音词典估算文本中音节数"
   ]
  },
  {
   "cell_type": "code",
   "execution_count": 12,
   "metadata": {
    "collapsed": false,
    "deletable": true,
    "editable": true
   },
   "outputs": [],
   "source": [
    "from nltk.corpus import cmudict"
   ]
  },
  {
   "cell_type": "code",
   "execution_count": 31,
   "metadata": {
    "collapsed": true,
    "deletable": true,
    "editable": true
   },
   "outputs": [],
   "source": [
    "cmu_dict =  cmudict.dict()\n",
    "cmu_word =  cmudict.words()\n",
    "def syllable(text):\n",
    "    cnt = 0\n",
    "    for w in text:\n",
    "        if w.isalpha() and w.lower() in cmu_word: \n",
    "            cnt += len(cmu_dict[w.lower()][0])\n",
    "    return cnt"
   ]
  },
  {
   "cell_type": "code",
   "execution_count": 32,
   "metadata": {
    "collapsed": false,
    "deletable": true,
    "editable": true
   },
   "outputs": [
    {
     "data": {
      "text/plain": [
       "426005"
      ]
     },
     "execution_count": 32,
     "metadata": {},
     "output_type": "execute_result"
    }
   ],
   "source": [
    "syllable(text2)"
   ]
  },
  {
   "cell_type": "markdown",
   "metadata": {
    "deletable": true,
    "editable": true
   },
   "source": [
    "Q22 在文本中每三个词插入一个单词"
   ]
  },
  {
   "cell_type": "code",
   "execution_count": 36,
   "metadata": {
    "collapsed": false,
    "deletable": true,
    "editable": true
   },
   "outputs": [],
   "source": [
    "def hedge(text):\n",
    "    new_text = []\n",
    "    cnt = 0\n",
    "    for w in text:\n",
    "        if(cnt!=0 and cnt%3 ==0):\n",
    "            new_text.append('like')\n",
    "        new_text.append(w)\n",
    "        cnt += 1\n",
    "    return new_text"
   ]
  },
  {
   "cell_type": "code",
   "execution_count": 38,
   "metadata": {
    "collapsed": false,
    "deletable": true,
    "editable": true
   },
   "outputs": [
    {
     "data": {
      "text/plain": [
       "['Your', 'friend', 'looks', 'like', 'a', 'genius']"
      ]
     },
     "execution_count": 38,
     "metadata": {},
     "output_type": "execute_result"
    }
   ],
   "source": [
    "test = [\"Your\", \"friend\", \"looks\", \"a\", \"genius\" ]\n",
    "hedge(test)"
   ]
  },
  {
   "cell_type": "markdown",
   "metadata": {
    "deletable": true,
    "editable": true
   },
   "source": [
    "Q23 齐夫定律"
   ]
  },
  {
   "cell_type": "code",
   "execution_count": 60,
   "metadata": {
    "collapsed": true,
    "deletable": true,
    "editable": true
   },
   "outputs": [],
   "source": [
    "import numpy as np\n",
    "\n",
    "def zipf(text, num):\n",
    "    fdist = FreqDist([w.lower() for w in text if w.isalpha()])\n",
    "    flist = fdist.most_common()\n",
    "    x = []\n",
    "    y = []\n",
    "    for i in range(num):\n",
    "        x.append(i+1)\n",
    "        y.append(np.log(flist[i][1]))\n",
    "    pylab.plot(x, y)\n",
    "    return pylab.show()"
   ]
  },
  {
   "cell_type": "code",
   "execution_count": 62,
   "metadata": {
    "collapsed": false,
    "deletable": true,
    "editable": true
   },
   "outputs": [
    {
     "data": {
      "image/png": "[encoded data removed]",
      "text/plain": [
       "<matplotlib.figure.Figure at 0x7f0ce402c450>"
      ]
     },
     "metadata": {},
     "output_type": "display_data"
    }
   ],
   "source": [
    "zipf(text2, 200)"
   ]
  },
  {
   "cell_type": "code",
   "execution_count": 77,
   "metadata": {
    "collapsed": false,
    "deletable": true,
    "editable": true
   },
   "outputs": [],
   "source": [
    "def zipf_rdm(text, length):\n",
    "    n = 0\n",
    "    gen_text = ''\n",
    "    while n < length:\n",
    "        gen_text = gen_text + ' ' + random.choice(text)\n",
    "        n += 1\n",
    "    gen_text = gen_text.split()\n",
    "    return zipf(gen_text, 200)"
   ]
  },
  {
   "cell_type": "code",
   "execution_count": 78,
   "metadata": {
    "collapsed": false,
    "deletable": true,
    "editable": true
   },
   "outputs": [
    {
     "data": {
      "image/png": "[encoded data removed]",
      "text/plain": [
       "<matplotlib.figure.Figure at 0x7f0ce4091bd0>"
      ]
     },
     "metadata": {},
     "output_type": "display_data"
    }
   ],
   "source": [
    "zipf_rdm(text2, 1000)"
   ]
  },
  {
   "cell_type": "markdown",
   "metadata": {
    "deletable": true,
    "editable": true
   },
   "source": [
    "Q25"
   ]
  },
  {
   "cell_type": "code",
   "execution_count": 6,
   "metadata": {
    "collapsed": true,
    "deletable": true,
    "editable": true
   },
   "outputs": [],
   "source": [
    "from nltk.corpus import udhr"
   ]
  },
  {
   "cell_type": "code",
   "execution_count": 23,
   "metadata": {
    "collapsed": true,
    "deletable": true,
    "editable": true
   },
   "outputs": [],
   "source": [
    "def find_language(string):\n",
    "    file_list = [] \n",
    "    for lang in udhr.fileids():\n",
    "        if lang.endswith('-Latin1'):\n",
    "            if (string.lower() in [w.lower() for w in udhr.words(lang)]):\n",
    "                file_list.append(lang)\n",
    "    return file_list"
   ]
  },
  {
   "cell_type": "code",
   "execution_count": 28,
   "metadata": {
    "collapsed": false,
    "deletable": true,
    "editable": true
   },
   "outputs": [
    {
     "data": {
      "text/plain": [
       "[u'English-Latin1', u'Frisian-Latin1', u'Luxembourgish_Letzebuergeusch-Latin1']"
      ]
     },
     "execution_count": 28,
     "metadata": {},
     "output_type": "execute_result"
    }
   ],
   "source": [
    "find_language('him')"
   ]
  },
  {
   "cell_type": "markdown",
   "metadata": {
    "deletable": true,
    "editable": true
   },
   "source": [
    "Q26 平均下位词"
   ]
  },
  {
   "cell_type": "code",
   "execution_count": 2,
   "metadata": {
    "collapsed": false,
    "deletable": true,
    "editable": true
   },
   "outputs": [
    {
     "data": {
      "text/plain": [
       "<generator object all_synsets at 0x7fc4a990b8c0>"
      ]
     },
     "execution_count": 2,
     "metadata": {},
     "output_type": "execute_result"
    }
   ],
   "source": [
    "from nltk.corpus import wordnet as wn"
   ]
  },
  {
   "cell_type": "code",
   "execution_count": 16,
   "metadata": {
    "collapsed": false,
    "deletable": true,
    "editable": true
   },
   "outputs": [
    {
     "data": {
      "text/plain": [
       "0.9237045606770992"
      ]
     },
     "execution_count": 16,
     "metadata": {},
     "output_type": "execute_result"
    }
   ],
   "source": [
    "def aver_nyms():\n",
    "    cnt = 0\n",
    "    total = 0\n",
    "    for synset in wn.all_synsets('n'):    \n",
    "        cnt += 1\n",
    "        total += len(synset.hypernyms())\n",
    "    return total*1.0/cnt \n",
    "\n",
    "aver_nyms()"
   ]
  },
  {
   "cell_type": "markdown",
   "metadata": {},
   "source": [
    "Q27"
   ]
  },
  {
   "cell_type": "code",
   "execution_count": 118,
   "metadata": {
    "collapsed": false,
    "scrolled": true
   },
   "outputs": [
    {
     "data": {
      "text/plain": [
       "7"
      ]
     },
     "execution_count": 118,
     "metadata": {},
     "output_type": "execute_result"
    }
   ],
   "source": [
    "len(wn.synsets('dog','n'))"
   ]
  },
  {
   "cell_type": "code",
   "execution_count": 130,
   "metadata": {
    "collapsed": false
   },
   "outputs": [],
   "source": [
    "def diversity(pos = 'n'):\n",
    "    cnt = 0\n",
    "    total = 0\n",
    "    for synset in wn.all_synsets(pos):\n",
    "        total += len(wn.synsets(synset.lemma_names()[0], 'n'))\n",
    "        cnt += 1\n",
    "    return round(total*1./cnt,2)"
   ]
  },
  {
   "cell_type": "code",
   "execution_count": 131,
   "metadata": {
    "collapsed": false
   },
   "outputs": [
    {
     "data": {
      "text/plain": [
       "1.97"
      ]
     },
     "execution_count": 131,
     "metadata": {},
     "output_type": "execute_result"
    }
   ],
   "source": [
    "diversity()"
   ]
  },
  {
   "cell_type": "code",
   "execution_count": 132,
   "metadata": {
    "collapsed": false
   },
   "outputs": [
    {
     "data": {
      "text/plain": [
       "2.3"
      ]
     },
     "execution_count": 132,
     "metadata": {},
     "output_type": "execute_result"
    }
   ],
   "source": [
    "diversity('v')"
   ]
  },
  {
   "cell_type": "code",
   "execution_count": 133,
   "metadata": {
    "collapsed": false
   },
   "outputs": [
    {
     "data": {
      "text/plain": [
       "0.44"
      ]
     },
     "execution_count": 133,
     "metadata": {},
     "output_type": "execute_result"
    }
   ],
   "source": [
    "diversity('a')"
   ]
  },
  {
   "cell_type": "code",
   "execution_count": 134,
   "metadata": {
    "collapsed": false
   },
   "outputs": [
    {
     "data": {
      "text/plain": [
       "0.22"
      ]
     },
     "execution_count": 134,
     "metadata": {},
     "output_type": "execute_result"
    }
   ],
   "source": [
    "diversity('r')"
   ]
  },
  {
   "cell_type": "code",
   "execution_count": 137,
   "metadata": {
    "collapsed": false
   },
   "outputs": [
    {
     "data": {
      "text/plain": [
       "0"
      ]
     },
     "execution_count": 137,
     "metadata": {},
     "output_type": "execute_result"
    }
   ],
   "source": [
    "# some adj/adv words has no meaning\n",
    "len(wn.synsets('the','v'))"
   ]
  },
  {
   "cell_type": "markdown",
   "metadata": {
    "deletable": true,
    "editable": true
   },
   "source": [
    "Q28"
   ]
  },
  {
   "cell_type": "code",
   "execution_count": 147,
   "metadata": {
    "collapsed": true,
    "deletable": true,
    "editable": true
   },
   "outputs": [],
   "source": [
    "string = 'car-automobile, gem-jewel, journey-voyage, boy-lad, coast-shore, asylum-madhouse, magician-wizard, midday-noon, furnace-stove, food-fruit, bird-cock, bird-crane, tool-implement, brother-monk, lad-brother, crane-implement, journey-car, monk-oracle, cemetery-woodland, food-rooster, coast-hill, forest-graveyard, shore-woodland, monk-slave, coast-forest, lad-wizard, chord-smile, glass-magician, rooster-voyage, noon-string'\n",
    "pairs = string.split(', ')"
   ]
  },
  {
   "cell_type": "code",
   "execution_count": 148,
   "metadata": {
    "collapsed": false,
    "deletable": true,
    "editable": true,
    "scrolled": true
   },
   "outputs": [],
   "source": [
    "similarity = dict()\n",
    "for item in pairs:\n",
    "    pair = item.split('-')\n",
    "    i = wn.synset(pair[0] + '.n.01')\n",
    "    j = wn.synset(pair[1] + '.n.01')\n",
    "    similarity[item] = i.path_similarity(j)"
   ]
  },
  {
   "cell_type": "code",
   "execution_count": 154,
   "metadata": {
    "collapsed": false,
    "scrolled": true
   },
   "outputs": [
    {
     "data": {
      "text/plain": [
       "[('midday-noon', 1.0),\n",
       " ('car-automobile', 1.0),\n",
       " ('tool-implement', 0.5),\n",
       " ('coast-shore', 0.5),\n",
       " ('boy-lad', 0.3333333333333333),\n",
       " ('journey-voyage', 0.25),\n",
       " ('coast-hill', 0.2),\n",
       " ('lad-wizard', 0.2),\n",
       " ('monk-slave', 0.2),\n",
       " ('shore-woodland', 0.2),\n",
       " ('magician-wizard', 0.16666666666666666),\n",
       " ('lad-brother', 0.14285714285714285),\n",
       " ('brother-monk', 0.125),\n",
       " ('monk-oracle', 0.125),\n",
       " ('asylum-madhouse', 0.125),\n",
       " ('gem-jewel', 0.125),\n",
       " ('cemetery-woodland', 0.1111111111111111),\n",
       " ('bird-crane', 0.1111111111111111),\n",
       " ('glass-magician', 0.1111111111111111),\n",
       " ('crane-implement', 0.1),\n",
       " ('chord-smile', 0.09090909090909091),\n",
       " ('food-fruit', 0.09090909090909091),\n",
       " ('coast-forest', 0.09090909090909091),\n",
       " ('furnace-stove', 0.07692307692307693),\n",
       " ('forest-graveyard', 0.07142857142857142),\n",
       " ('bird-cock', 0.0625),\n",
       " ('food-rooster', 0.0625),\n",
       " ('noon-string', 0.058823529411764705),\n",
       " ('journey-car', 0.05),\n",
       " ('rooster-voyage', 0.041666666666666664)]"
      ]
     },
     "execution_count": 154,
     "metadata": {},
     "output_type": "execute_result"
    }
   ],
   "source": [
    "import operator\n",
    "sorted(similarity.items(), key=operator.itemgetter(1), reverse=True)"
   ]
  }
 ],
 "metadata": {
  "kernelspec": {
   "display_name": "Python 2",
   "language": "python",
   "name": "python2"
  },
  "language_info": {
   "codemirror_mode": {
    "name": "ipython",
    "version": 2
   },
   "file_extension": ".py",
   "mimetype": "text/x-python",
   "name": "python",
   "nbconvert_exporter": "python",
   "pygments_lexer": "ipython2",
   "version": "2.7.6"
  }
 },
 "nbformat": 4,
 "nbformat_minor": 2
}
