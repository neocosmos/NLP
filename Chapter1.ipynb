{
 "cells": [
  {
   "cell_type": "code",
   "execution_count": 1,
   "metadata": {
    "collapsed": false,
    "deletable": true,
    "editable": true
   },
   "outputs": [
    {
     "name": "stdout",
     "output_type": "stream",
     "text": [
      "*** Introductory Examples for the NLTK Book ***\n",
      "Loading text1, ..., text9 and sent1, ..., sent9\n",
      "Type the name of the text or sentence to view it.\n",
      "Type: 'texts()' or 'sents()' to list the materials.\n",
      "text1: Moby Dick by Herman Melville 1851\n",
      "text2: Sense and Sensibility by Jane Austen 1811\n",
      "text3: The Book of Genesis\n",
      "text4: Inaugural Address Corpus\n",
      "text5: Chat Corpus\n",
      "text6: Monty Python and the Holy Grail\n",
      "text7: Wall Street Journal\n",
      "text8: Personals Corpus\n",
      "text9: The Man Who Was Thursday by G . K . Chesterton 1908\n"
     ]
    }
   ],
   "source": [
    "from nltk.book import *"
   ]
  },
  {
   "cell_type": "markdown",
   "metadata": {
    "deletable": true,
    "editable": true
   },
   "source": [
    "### 1.1 搜索文本"
   ]
  },
  {
   "cell_type": "code",
   "execution_count": 2,
   "metadata": {
    "collapsed": false,
    "deletable": true,
    "editable": true
   },
   "outputs": [
    {
     "name": "stdout",
     "output_type": "stream",
     "text": [
      "Displaying 11 of 11 matches:\n",
      "ong the former , one was of a most monstrous size . ... This came towards us , \n",
      "ON OF THE PSALMS . \" Touching that monstrous bulk of the whale or ork we have r\n",
      "ll over with a heathenish array of monstrous clubs and spears . Some were thick\n",
      "d as you gazed , and wondered what monstrous cannibal and savage could ever hav\n",
      "that has survived the flood ; most monstrous and most mountainous ! That Himmal\n",
      "they might scout at Moby Dick as a monstrous fable , or still worse and more de\n",
      "th of Radney .'\" CHAPTER 55 Of the Monstrous Pictures of Whales . I shall ere l\n",
      "ing Scenes . In connexion with the monstrous pictures of whales , I am strongly\n",
      "ere to enter upon those still more monstrous stories of them which are to be fo\n",
      "ght have been rummaged out of this monstrous cabinet there is no telling . But \n",
      "of Whale - Bones ; for Whales of a monstrous size are oftentimes cast up dead u\n"
     ]
    }
   ],
   "source": [
    "text1.concordance(\"monstrous\")"
   ]
  },
  {
   "cell_type": "markdown",
   "metadata": {
    "deletable": true,
    "editable": true
   },
   "source": [
    "### 出现在相似上下文的其他词"
   ]
  },
  {
   "cell_type": "code",
   "execution_count": 3,
   "metadata": {
    "collapsed": false,
    "deletable": true,
    "editable": true
   },
   "outputs": [
    {
     "name": "stdout",
     "output_type": "stream",
     "text": [
      "very exceedingly so heartily a great good amazingly as sweet\n",
      "remarkably extremely vast\n"
     ]
    }
   ],
   "source": [
    "text2.similar(\"monstrous\")"
   ]
  },
  {
   "cell_type": "code",
   "execution_count": 4,
   "metadata": {
    "collapsed": false
   },
   "outputs": [
    {
     "name": "stdout",
     "output_type": "stream",
     "text": [
      "a_pretty is_pretty a_lucky am_glad be_glad\n"
     ]
    }
   ],
   "source": [
    "text2.common_contexts([\"monstrous\", \"very\"])"
   ]
  },
  {
   "cell_type": "markdown",
   "metadata": {},
   "source": [
    "eg. be monstrous good/ be very good"
   ]
  },
  {
   "cell_type": "markdown",
   "metadata": {},
   "source": [
    "### 词在文本中出现的位置"
   ]
  },
  {
   "cell_type": "code",
   "execution_count": 6,
   "metadata": {
    "collapsed": false
   },
   "outputs": [
    {
     "data": {
      "image/png": "[encoded data removed]",
      "text/plain": [
       "<matplotlib.figure.Figure at 0x7fbab57e5190>"
      ]
     },
     "metadata": {},
     "output_type": "display_data"
    }
   ],
   "source": [
    "text4.dispersion_plot([\"citizens\", \"democracy\", \"freedom\"])"
   ]
  },
  {
   "cell_type": "markdown",
   "metadata": {},
   "source": [
    "排序时所有大写字母出现在小写之前"
   ]
  },
  {
   "cell_type": "code",
   "execution_count": 8,
   "metadata": {
    "collapsed": false
   },
   "outputs": [
    {
     "data": {
      "text/plain": [
       "[u'!',\n",
       " u\"'\",\n",
       " u'(',\n",
       " u')',\n",
       " u',',\n",
       " u',)',\n",
       " u'.',\n",
       " u'.)',\n",
       " u':',\n",
       " u';',\n",
       " u';)',\n",
       " u'?',\n",
       " u'?)',\n",
       " u'A',\n",
       " u'Abel',\n",
       " u'Abelmizraim',\n",
       " u'Abidah',\n",
       " u'Abide',\n",
       " u'Abimael',\n",
       " u'Abimelech',\n",
       " u'Abr',\n",
       " u'Abrah',\n",
       " u'Abraham',\n",
       " u'Abram',\n",
       " u'Accad',\n",
       " u'Achbor',\n",
       " u'Adah',\n",
       " u'Adam',\n",
       " u'Adbeel',\n",
       " u'Admah',\n",
       " u'Adullamite',\n",
       " u'After',\n",
       " u'Aholibamah',\n",
       " u'Ahuzzath',\n",
       " u'Ajah',\n",
       " u'Akan',\n",
       " u'All',\n",
       " u'Allonbachuth',\n",
       " u'Almighty',\n",
       " u'Almodad',\n",
       " u'Also',\n",
       " u'Alvah',\n",
       " u'Alvan',\n",
       " u'Am',\n",
       " u'Amal',\n",
       " u'Amalek',\n",
       " u'Amalekites',\n",
       " u'Ammon',\n",
       " u'Amorite',\n",
       " u'Amorites',\n",
       " u'Amraphel',\n",
       " u'An',\n",
       " u'Anah',\n",
       " u'Anamim',\n",
       " u'And',\n",
       " u'Aner',\n",
       " u'Angel',\n",
       " u'Appoint',\n",
       " u'Aram',\n",
       " u'Aran',\n",
       " u'Ararat',\n",
       " u'Arbah',\n",
       " u'Ard',\n",
       " u'Are',\n",
       " u'Areli',\n",
       " u'Arioch',\n",
       " u'Arise',\n",
       " u'Arkite',\n",
       " u'Arodi',\n",
       " u'Arphaxad',\n",
       " u'Art',\n",
       " u'Arvadite',\n",
       " u'As',\n",
       " u'Asenath',\n",
       " u'Ashbel',\n",
       " u'Asher',\n",
       " u'Ashkenaz',\n",
       " u'Ashteroth',\n",
       " u'Ask',\n",
       " u'Asshur',\n",
       " u'Asshurim',\n",
       " u'Assyr',\n",
       " u'Assyria',\n",
       " u'At',\n",
       " u'Atad',\n",
       " u'Avith',\n",
       " u'Baalhanan',\n",
       " u'Babel',\n",
       " u'Bashemath',\n",
       " u'Be',\n",
       " u'Because',\n",
       " u'Becher',\n",
       " u'Bedad',\n",
       " u'Beeri',\n",
       " u'Beerlahairoi',\n",
       " u'Beersheba',\n",
       " u'Behold',\n",
       " u'Bela',\n",
       " u'Belah',\n",
       " u'Benam',\n",
       " u'Benjamin',\n",
       " u'Beno',\n",
       " u'Beor',\n",
       " u'Bera',\n",
       " u'Bered',\n",
       " u'Beriah',\n",
       " u'Bethel',\n",
       " u'Bethlehem',\n",
       " u'Bethuel',\n",
       " u'Beware',\n",
       " u'Bilhah',\n",
       " u'Bilhan',\n",
       " u'Binding',\n",
       " u'Birsha',\n",
       " u'Bless',\n",
       " u'Blessed',\n",
       " u'Both',\n",
       " u'Bow',\n",
       " u'Bozrah',\n",
       " u'Bring',\n",
       " u'But',\n",
       " u'Buz',\n",
       " u'By',\n",
       " u'Cain',\n",
       " u'Cainan',\n",
       " u'Calah',\n",
       " u'Calneh',\n",
       " u'Can',\n",
       " u'Cana',\n",
       " u'Canaan',\n",
       " u'Canaanite',\n",
       " u'Canaanites',\n",
       " u'Canaanitish',\n",
       " u'Caphtorim',\n",
       " u'Carmi',\n",
       " u'Casluhim',\n",
       " u'Cast',\n",
       " u'Cause',\n",
       " u'Chaldees',\n",
       " u'Chedorlaomer',\n",
       " u'Cheran',\n",
       " u'Cherubims',\n",
       " u'Chesed',\n",
       " u'Chezib',\n",
       " u'Come',\n",
       " u'Cursed',\n",
       " u'Cush',\n",
       " u'Damascus',\n",
       " u'Dan',\n",
       " u'Day',\n",
       " u'Deborah',\n",
       " u'Dedan',\n",
       " u'Deliver',\n",
       " u'Diklah',\n",
       " u'Din',\n",
       " u'Dinah',\n",
       " u'Dinhabah',\n",
       " u'Discern',\n",
       " u'Dishan',\n",
       " u'Dishon',\n",
       " u'Do',\n",
       " u'Dodanim',\n",
       " u'Dothan',\n",
       " u'Drink',\n",
       " u'Duke',\n",
       " u'Dumah',\n",
       " u'Earth',\n",
       " u'Ebal',\n",
       " u'Eber',\n",
       " u'Edar',\n",
       " u'Eden',\n",
       " u'Edom',\n",
       " u'Edomites',\n",
       " u'Egy',\n",
       " u'Egypt',\n",
       " u'Egyptia',\n",
       " u'Egyptian',\n",
       " u'Egyptians',\n",
       " u'Ehi',\n",
       " u'Elah',\n",
       " u'Elam',\n",
       " u'Elbethel',\n",
       " u'Eldaah',\n",
       " u'EleloheIsrael',\n",
       " u'Eliezer',\n",
       " u'Eliphaz',\n",
       " u'Elishah',\n",
       " u'Ellasar',\n",
       " u'Elon',\n",
       " u'Elparan',\n",
       " u'Emins',\n",
       " u'En',\n",
       " u'Enmishpat',\n",
       " u'Eno',\n",
       " u'Enoch',\n",
       " u'Enos',\n",
       " u'Ephah',\n",
       " u'Epher',\n",
       " u'Ephra',\n",
       " u'Ephraim',\n",
       " u'Ephrath',\n",
       " u'Ephron',\n",
       " u'Er',\n",
       " u'Erech',\n",
       " u'Eri',\n",
       " u'Es',\n",
       " u'Esau',\n",
       " u'Escape',\n",
       " u'Esek',\n",
       " u'Eshban',\n",
       " u'Eshcol',\n",
       " u'Ethiopia',\n",
       " u'Euphrat',\n",
       " u'Euphrates',\n",
       " u'Eve',\n",
       " u'Even',\n",
       " u'Every',\n",
       " u'Except',\n",
       " u'Ezbon',\n",
       " u'Ezer',\n",
       " u'Fear',\n",
       " u'Feed',\n",
       " u'Fifteen',\n",
       " u'Fill',\n",
       " u'For',\n",
       " u'Forasmuch',\n",
       " u'Forgive',\n",
       " u'From',\n",
       " u'Fulfil',\n",
       " u'G',\n",
       " u'Gad',\n",
       " u'Gaham',\n",
       " u'Galeed',\n",
       " u'Gatam',\n",
       " u'Gather',\n",
       " u'Gaza',\n",
       " u'Gentiles',\n",
       " u'Gera',\n",
       " u'Gerar',\n",
       " u'Gershon',\n",
       " u'Get',\n",
       " u'Gether',\n",
       " u'Gihon',\n",
       " u'Gilead',\n",
       " u'Girgashites',\n",
       " u'Girgasite',\n",
       " u'Give',\n",
       " u'Go',\n",
       " u'God',\n",
       " u'Gomer',\n",
       " u'Gomorrah',\n",
       " u'Goshen',\n",
       " u'Guni',\n",
       " u'Hadad',\n",
       " u'Hadar',\n",
       " u'Hadoram',\n",
       " u'Hagar',\n",
       " u'Haggi',\n",
       " u'Hai',\n",
       " u'Ham',\n",
       " u'Hamathite',\n",
       " u'Hamor',\n",
       " u'Hamul',\n",
       " u'Hanoch',\n",
       " u'Happy',\n",
       " u'Haran',\n",
       " u'Hast',\n",
       " u'Haste',\n",
       " u'Have',\n",
       " u'Havilah',\n",
       " u'Hazarmaveth',\n",
       " u'Hazezontamar',\n",
       " u'Hazo',\n",
       " u'He',\n",
       " u'Hear',\n",
       " u'Heaven',\n",
       " u'Heber',\n",
       " u'Hebrew',\n",
       " u'Hebrews',\n",
       " u'Hebron',\n",
       " u'Hemam',\n",
       " u'Hemdan',\n",
       " u'Here',\n",
       " u'Hereby',\n",
       " u'Heth',\n",
       " u'Hezron',\n",
       " u'Hiddekel',\n",
       " u'Hinder',\n",
       " u'Hirah',\n",
       " u'His',\n",
       " u'Hitti',\n",
       " u'Hittite',\n",
       " u'Hittites',\n",
       " u'Hivite',\n",
       " u'Hobah',\n",
       " u'Hori',\n",
       " u'Horite',\n",
       " u'Horites',\n",
       " u'How',\n",
       " u'Hul',\n",
       " u'Huppim',\n",
       " u'Husham',\n",
       " u'Hushim',\n",
       " u'Huz',\n",
       " u'I',\n",
       " u'If',\n",
       " u'In',\n",
       " u'Irad',\n",
       " u'Iram',\n",
       " u'Is',\n",
       " u'Isa',\n",
       " u'Isaac',\n",
       " u'Iscah',\n",
       " u'Ishbak',\n",
       " u'Ishmael',\n",
       " u'Ishmeelites',\n",
       " u'Ishuah',\n",
       " u'Isra',\n",
       " u'Israel',\n",
       " u'Issachar',\n",
       " u'Isui',\n",
       " u'It',\n",
       " u'Ithran',\n",
       " u'Jaalam',\n",
       " u'Jabal',\n",
       " u'Jabbok',\n",
       " u'Jac',\n",
       " u'Jachin',\n",
       " u'Jacob',\n",
       " u'Jahleel',\n",
       " u'Jahzeel',\n",
       " u'Jamin',\n",
       " u'Japhe',\n",
       " u'Japheth',\n",
       " u'Jared',\n",
       " u'Javan',\n",
       " u'Jebusite',\n",
       " u'Jebusites',\n",
       " u'Jegarsahadutha',\n",
       " u'Jehovahjireh',\n",
       " u'Jemuel',\n",
       " u'Jerah',\n",
       " u'Jetheth',\n",
       " u'Jetur',\n",
       " u'Jeush',\n",
       " u'Jezer',\n",
       " u'Jidlaph',\n",
       " u'Jimnah',\n",
       " u'Job',\n",
       " u'Jobab',\n",
       " u'Jokshan',\n",
       " u'Joktan',\n",
       " u'Jordan',\n",
       " u'Joseph',\n",
       " u'Jubal',\n",
       " u'Judah',\n",
       " u'Judge',\n",
       " u'Judith',\n",
       " u'Kadesh',\n",
       " u'Kadmonites',\n",
       " u'Karnaim',\n",
       " u'Kedar',\n",
       " u'Kedemah',\n",
       " u'Kemuel',\n",
       " u'Kenaz',\n",
       " u'Kenites',\n",
       " u'Kenizzites',\n",
       " u'Keturah',\n",
       " u'Kiriathaim',\n",
       " u'Kirjatharba',\n",
       " u'Kittim',\n",
       " u'Know',\n",
       " u'Kohath',\n",
       " u'Kor',\n",
       " u'Korah',\n",
       " u'LO',\n",
       " u'LORD',\n",
       " u'Laban',\n",
       " u'Lahairoi',\n",
       " u'Lamech',\n",
       " u'Lasha',\n",
       " u'Lay',\n",
       " u'Leah',\n",
       " u'Lehabim',\n",
       " u'Lest',\n",
       " u'Let',\n",
       " u'Letushim',\n",
       " u'Leummim',\n",
       " u'Levi',\n",
       " u'Lie',\n",
       " u'Lift',\n",
       " u'Lo',\n",
       " u'Look',\n",
       " u'Lot',\n",
       " u'Lotan',\n",
       " u'Lud',\n",
       " u'Ludim',\n",
       " u'Luz',\n",
       " u'Maachah',\n",
       " u'Machir',\n",
       " u'Machpelah',\n",
       " u'Madai',\n",
       " u'Magdiel',\n",
       " u'Magog',\n",
       " u'Mahalaleel',\n",
       " u'Mahalath',\n",
       " u'Mahanaim',\n",
       " u'Make',\n",
       " u'Malchiel',\n",
       " u'Male',\n",
       " u'Mam',\n",
       " u'Mamre',\n",
       " u'Man',\n",
       " u'Manahath',\n",
       " u'Manass',\n",
       " u'Manasseh',\n",
       " u'Mash',\n",
       " u'Masrekah',\n",
       " u'Massa',\n",
       " u'Matred',\n",
       " u'Me',\n",
       " u'Medan',\n",
       " u'Mehetabel',\n",
       " u'Mehujael',\n",
       " u'Melchizedek',\n",
       " u'Merari',\n",
       " u'Mesha',\n",
       " u'Meshech',\n",
       " u'Mesopotamia',\n",
       " u'Methusa',\n",
       " u'Methusael',\n",
       " u'Methuselah',\n",
       " u'Mezahab',\n",
       " u'Mibsam',\n",
       " u'Mibzar',\n",
       " u'Midian',\n",
       " u'Midianites',\n",
       " u'Milcah',\n",
       " u'Mishma',\n",
       " u'Mizpah',\n",
       " u'Mizraim',\n",
       " u'Mizz',\n",
       " u'Moab',\n",
       " u'Moabites',\n",
       " u'Moreh',\n",
       " u'Moreover',\n",
       " u'Moriah',\n",
       " u'Muppim',\n",
       " u'My',\n",
       " u'Naamah',\n",
       " u'Naaman',\n",
       " u'Nahath',\n",
       " u'Nahor',\n",
       " u'Naphish',\n",
       " u'Naphtali',\n",
       " u'Naphtuhim',\n",
       " u'Nay',\n",
       " u'Nebajoth',\n",
       " u'Neither',\n",
       " u'Night',\n",
       " u'Nimrod',\n",
       " u'Nineveh',\n",
       " u'Noah',\n",
       " u'Nod',\n",
       " u'Not',\n",
       " u'Now',\n",
       " u'O',\n",
       " u'Obal',\n",
       " u'Of',\n",
       " u'Oh',\n",
       " u'Ohad',\n",
       " u'Omar',\n",
       " u'On',\n",
       " u'Onam',\n",
       " u'Onan',\n",
       " u'Only',\n",
       " u'Ophir',\n",
       " u'Our',\n",
       " u'Out',\n",
       " u'Padan',\n",
       " u'Padanaram',\n",
       " u'Paran',\n",
       " u'Pass',\n",
       " u'Pathrusim',\n",
       " u'Pau',\n",
       " u'Peace',\n",
       " u'Peleg',\n",
       " u'Peniel',\n",
       " u'Penuel',\n",
       " u'Peradventure',\n",
       " u'Perizzit',\n",
       " u'Perizzite',\n",
       " u'Perizzites',\n",
       " u'Phallu',\n",
       " u'Phara',\n",
       " u'Pharaoh',\n",
       " u'Pharez',\n",
       " u'Phichol',\n",
       " u'Philistim',\n",
       " u'Philistines',\n",
       " u'Phut',\n",
       " u'Phuvah',\n",
       " u'Pildash',\n",
       " u'Pinon',\n",
       " u'Pison',\n",
       " u'Potiphar',\n",
       " u'Potipherah',\n",
       " u'Put',\n",
       " u'Raamah',\n",
       " u'Rachel',\n",
       " u'Rameses',\n",
       " u'Rebek',\n",
       " u'Rebekah',\n",
       " u'Rehoboth',\n",
       " u'Remain',\n",
       " u'Rephaims',\n",
       " u'Resen',\n",
       " u'Return',\n",
       " u'Reu',\n",
       " u'Reub',\n",
       " u'Reuben',\n",
       " u'Reuel',\n",
       " u'Reumah',\n",
       " u'Riphath',\n",
       " u'Rosh',\n",
       " u'Sabtah',\n",
       " u'Sabtech',\n",
       " u'Said',\n",
       " u'Salah',\n",
       " u'Salem',\n",
       " u'Samlah',\n",
       " u'Sarah',\n",
       " u'Sarai',\n",
       " u'Saul',\n",
       " u'Save',\n",
       " u'Say',\n",
       " u'Se',\n",
       " u'Seba',\n",
       " u'See',\n",
       " u'Seeing',\n",
       " u'Seir',\n",
       " u'Sell',\n",
       " u'Send',\n",
       " u'Sephar',\n",
       " u'Serah',\n",
       " u'Sered',\n",
       " u'Serug',\n",
       " u'Set',\n",
       " u'Seth',\n",
       " u'Shalem',\n",
       " u'Shall',\n",
       " u'Shalt',\n",
       " u'Shammah',\n",
       " u'Shaul',\n",
       " u'Shaveh',\n",
       " u'She',\n",
       " u'Sheba',\n",
       " u'Shebah',\n",
       " u'Shechem',\n",
       " u'Shed',\n",
       " u'Shel',\n",
       " u'Shelah',\n",
       " u'Sheleph',\n",
       " u'Shem',\n",
       " u'Shemeber',\n",
       " u'Shepho',\n",
       " u'Shillem',\n",
       " u'Shiloh',\n",
       " u'Shimron',\n",
       " u'Shinab',\n",
       " u'Shinar',\n",
       " u'Shobal',\n",
       " u'Should',\n",
       " u'Shuah',\n",
       " u'Shuni',\n",
       " u'Shur',\n",
       " u'Sichem',\n",
       " u'Siddim',\n",
       " u'Sidon',\n",
       " u'Simeon',\n",
       " u'Sinite',\n",
       " u'Sitnah',\n",
       " u'Slay',\n",
       " u'So',\n",
       " u'Sod',\n",
       " u'Sodom',\n",
       " u'Sojourn',\n",
       " u'Some',\n",
       " u'Spake',\n",
       " u'Speak',\n",
       " u'Spirit',\n",
       " u'Stand',\n",
       " u'Succoth',\n",
       " u'Surely',\n",
       " u'Swear',\n",
       " u'Syrian',\n",
       " u'Take',\n",
       " u'Tamar',\n",
       " u'Tarshish',\n",
       " u'Tebah',\n",
       " u'Tell',\n",
       " u'Tema',\n",
       " u'Teman',\n",
       " u'Temani',\n",
       " u'Terah',\n",
       " u'Thahash',\n",
       " u'That',\n",
       " u'The',\n",
       " u'Then',\n",
       " u'There',\n",
       " u'Therefore',\n",
       " u'These',\n",
       " u'They',\n",
       " u'Thirty',\n",
       " u'This',\n",
       " u'Thorns',\n",
       " u'Thou',\n",
       " u'Thus',\n",
       " u'Thy',\n",
       " u'Tidal',\n",
       " u'Timna',\n",
       " u'Timnah',\n",
       " u'Timnath',\n",
       " u'Tiras',\n",
       " u'To',\n",
       " u'Togarmah',\n",
       " u'Tola',\n",
       " u'Tubal',\n",
       " u'Tubalcain',\n",
       " u'Twelve',\n",
       " u'Two',\n",
       " u'Unstable',\n",
       " u'Until',\n",
       " u'Unto',\n",
       " u'Up',\n",
       " u'Upon',\n",
       " u'Ur',\n",
       " u'Uz',\n",
       " u'Uzal',\n",
       " u'We',\n",
       " u'What',\n",
       " u'When',\n",
       " u'Whence',\n",
       " u'Where',\n",
       " u'Whereas',\n",
       " u'Wherefore',\n",
       " u'Which',\n",
       " u'While',\n",
       " u'Who',\n",
       " u'Whose',\n",
       " u'Whoso',\n",
       " u'Why',\n",
       " u'Wilt',\n",
       " u'With',\n",
       " u'Woman',\n",
       " u'Ye',\n",
       " u'Yea',\n",
       " u'Yet',\n",
       " u'Zaavan',\n",
       " u'Zaphnathpaaneah',\n",
       " u'Zar',\n",
       " u'Zarah',\n",
       " u'Zeboiim',\n",
       " u'Zeboim',\n",
       " u'Zebul',\n",
       " u'Zebulun',\n",
       " u'Zemarite',\n",
       " u'Zepho',\n",
       " u'Zerah',\n",
       " u'Zibeon',\n",
       " u'Zidon',\n",
       " u'Zillah',\n",
       " u'Zilpah',\n",
       " u'Zimran',\n",
       " u'Ziphion',\n",
       " u'Zo',\n",
       " u'Zoar',\n",
       " u'Zohar',\n",
       " u'Zuzims',\n",
       " u'a',\n",
       " u'abated',\n",
       " u'abide',\n",
       " u'able',\n",
       " u'abode',\n",
       " u'abomination',\n",
       " u'about',\n",
       " u'above',\n",
       " u'abroad',\n",
       " u'absent',\n",
       " u'abundantly',\n",
       " u'accept',\n",
       " u'accepted',\n",
       " u'according',\n",
       " u'acknowledged',\n",
       " u'activity',\n",
       " u'add',\n",
       " u'adder',\n",
       " u'afar',\n",
       " u'afflict',\n",
       " u'affliction',\n",
       " u'afraid',\n",
       " u'after',\n",
       " u'afterward',\n",
       " u'afterwards',\n",
       " u'aga',\n",
       " u'again',\n",
       " u'against',\n",
       " u'age',\n",
       " u'aileth',\n",
       " u'air',\n",
       " u'al',\n",
       " u'alive',\n",
       " u'all',\n",
       " u'almon',\n",
       " u'alo',\n",
       " u'alone',\n",
       " u'aloud',\n",
       " u'also',\n",
       " u'altar',\n",
       " u'altogether',\n",
       " u'always',\n",
       " u'am',\n",
       " u'among',\n",
       " u'amongst',\n",
       " u'an',\n",
       " u'and',\n",
       " u'angel',\n",
       " u'angels',\n",
       " u'anger',\n",
       " u'angry',\n",
       " u'anguish',\n",
       " u'anointedst',\n",
       " u'anoth',\n",
       " u'another',\n",
       " u'answer',\n",
       " u'answered',\n",
       " u'any',\n",
       " u'anything',\n",
       " u'appe',\n",
       " u'appear',\n",
       " u'appeared',\n",
       " u'appease',\n",
       " u'appoint',\n",
       " u'appointed',\n",
       " u'aprons',\n",
       " u'archer',\n",
       " u'archers',\n",
       " u'are',\n",
       " u'arise',\n",
       " u'ark',\n",
       " u'armed',\n",
       " u'arms',\n",
       " u'army',\n",
       " u'arose',\n",
       " u'arrayed',\n",
       " u'art',\n",
       " u'artificer',\n",
       " u'as',\n",
       " u'ascending',\n",
       " u'ash',\n",
       " u'ashamed',\n",
       " u'ask',\n",
       " u'asked',\n",
       " u'asketh',\n",
       " u'ass',\n",
       " u'assembly',\n",
       " u'asses',\n",
       " u'assigned',\n",
       " u'asswaged',\n",
       " u'at',\n",
       " u'attained',\n",
       " u'audience',\n",
       " u'avenged',\n",
       " u'aw',\n",
       " u'awaked',\n",
       " u'away',\n",
       " u'awoke',\n",
       " u'back',\n",
       " u'backward',\n",
       " u'bad',\n",
       " u'bade',\n",
       " u'badest',\n",
       " u'badne',\n",
       " u'bak',\n",
       " u'bake',\n",
       " u'bakemeats',\n",
       " u'baker',\n",
       " u'bakers',\n",
       " u'balm',\n",
       " u'bands',\n",
       " u'bank',\n",
       " u'bare',\n",
       " u'barr',\n",
       " u'barren',\n",
       " u'basket',\n",
       " u'baskets',\n",
       " u'battle',\n",
       " u'bdellium',\n",
       " u'be',\n",
       " u'bear',\n",
       " u'beari',\n",
       " u'bearing',\n",
       " u'beast',\n",
       " u'beasts',\n",
       " u'beautiful',\n",
       " u'became',\n",
       " u'because',\n",
       " u'become',\n",
       " u'bed',\n",
       " u'been',\n",
       " u'befall',\n",
       " u'befell',\n",
       " u'before',\n",
       " u'began',\n",
       " u'begat',\n",
       " u'beget',\n",
       " u'begettest',\n",
       " u'begin',\n",
       " u'beginning',\n",
       " u'begotten',\n",
       " u'beguiled',\n",
       " u'beheld',\n",
       " u'behind',\n",
       " u'behold',\n",
       " u'being',\n",
       " u'believed',\n",
       " u'belly',\n",
       " u'belong',\n",
       " u'beneath',\n",
       " u'bereaved',\n",
       " u'beside',\n",
       " u'besides',\n",
       " u'besought',\n",
       " u'best',\n",
       " u'betimes',\n",
       " u'better',\n",
       " u'between',\n",
       " u'betwixt',\n",
       " u'beyond',\n",
       " u'binding',\n",
       " u'bird',\n",
       " u'birds',\n",
       " u'birthday',\n",
       " u'birthright',\n",
       " u'biteth',\n",
       " u'bitter',\n",
       " u'blame',\n",
       " u'blameless',\n",
       " u'blasted',\n",
       " u'bless',\n",
       " u'blessed',\n",
       " u'blesseth',\n",
       " u'blessi',\n",
       " u'blessing',\n",
       " u'blessings',\n",
       " u'blindness',\n",
       " u'blood',\n",
       " u'blossoms',\n",
       " u'bodies',\n",
       " u'boldly',\n",
       " u'bondman',\n",
       " u'bondmen',\n",
       " u'bondwoman',\n",
       " u'bone',\n",
       " u'bones',\n",
       " u'book',\n",
       " u'booths',\n",
       " u'border',\n",
       " u'borders',\n",
       " u'born',\n",
       " u'bosom',\n",
       " u'both',\n",
       " u'bottle',\n",
       " u'bou',\n",
       " u'boug',\n",
       " u'bough',\n",
       " u'bought',\n",
       " u'bound',\n",
       " u'bow',\n",
       " u'bowed',\n",
       " u'bowels',\n",
       " u'bowing',\n",
       " u'boys',\n",
       " u'bracelets',\n",
       " u'branches',\n",
       " u'brass',\n",
       " u'bre',\n",
       " u'breach',\n",
       " u'bread',\n",
       " u'breadth',\n",
       " u'break',\n",
       " u'breaketh',\n",
       " u'breaking',\n",
       " u'breasts',\n",
       " u'breath',\n",
       " u'breathed',\n",
       " u'breed',\n",
       " u'brethren',\n",
       " u'brick',\n",
       " u'brimstone',\n",
       " u'bring',\n",
       " u'brink',\n",
       " u'broken',\n",
       " u'brook',\n",
       " u'broth',\n",
       " u'brother',\n",
       " u'brought',\n",
       " u'brown',\n",
       " u'bruise',\n",
       " u'budded',\n",
       " u'build',\n",
       " u'builded',\n",
       " u'built',\n",
       " u'bulls',\n",
       " u'bundle',\n",
       " u'bundles',\n",
       " u'burdens',\n",
       " u'buried',\n",
       " u'burn',\n",
       " u'burning',\n",
       " u'burnt',\n",
       " u'bury',\n",
       " u'buryingplace',\n",
       " u'business',\n",
       " u'but',\n",
       " u'butler',\n",
       " u'butlers',\n",
       " u'butlership',\n",
       " u'butter',\n",
       " u'buy',\n",
       " u'by',\n",
       " u'cakes',\n",
       " u'calf',\n",
       " u'call',\n",
       " u'called',\n",
       " u'came',\n",
       " u'camel',\n",
       " u'camels',\n",
       " u'camest',\n",
       " u'can',\n",
       " u'cannot',\n",
       " u'canst',\n",
       " u'captain',\n",
       " u'captive',\n",
       " u'captives',\n",
       " u'carcases',\n",
       " u'carried',\n",
       " u'carry',\n",
       " u'cast',\n",
       " u'castles',\n",
       " u'catt',\n",
       " u'cattle',\n",
       " u'caught',\n",
       " u'cause',\n",
       " u'caused',\n",
       " u'cave',\n",
       " u'cease',\n",
       " u'ceased',\n",
       " u'certain',\n",
       " u'certainly',\n",
       " u'chain',\n",
       " u'chamber',\n",
       " u'change',\n",
       " u'changed',\n",
       " u'changes',\n",
       " u'charge',\n",
       " u'charged',\n",
       " u'chariot',\n",
       " u'chariots',\n",
       " u'chesnut',\n",
       " u'chi',\n",
       " u'chief',\n",
       " u'child',\n",
       " u'childless',\n",
       " u'childr',\n",
       " u'children',\n",
       " u'chode',\n",
       " u'choice',\n",
       " u'chose',\n",
       " u'circumcis',\n",
       " u'circumcise',\n",
       " u'circumcised',\n",
       " u'citi',\n",
       " u'cities',\n",
       " u'city',\n",
       " u'clave',\n",
       " u'clean',\n",
       " u'clear',\n",
       " u'cleave',\n",
       " u'clo',\n",
       " u'closed',\n",
       " u'clothed',\n",
       " u'clothes',\n",
       " u'cloud',\n",
       " u'clusters',\n",
       " u'co',\n",
       " u'coat',\n",
       " u'coats',\n",
       " u'coffin',\n",
       " u'cold',\n",
       " ...]"
      ]
     },
     "execution_count": 8,
     "metadata": {},
     "output_type": "execute_result"
    }
   ],
   "source": [
    "sorted(set(text3))"
   ]
  },
  {
   "cell_type": "code",
   "execution_count": 11,
   "metadata": {
    "collapsed": false
   },
   "outputs": [
    {
     "data": {
      "text/plain": [
       "0.007640067911714771"
      ]
     },
     "execution_count": 11,
     "metadata": {},
     "output_type": "execute_result"
    }
   ],
   "source": [
    "text3.count(\"a\")/len(text3)"
   ]
  },
  {
   "cell_type": "markdown",
   "metadata": {},
   "source": [
    "#### 每个词平均使用次数"
   ]
  },
  {
   "cell_type": "code",
   "execution_count": 10,
   "metadata": {
    "collapsed": false,
    "deletable": true,
    "editable": true
   },
   "outputs": [
    {
     "data": {
      "text/plain": [
       "13.502044830977896"
      ]
     },
     "execution_count": 10,
     "metadata": {},
     "output_type": "execute_result"
    }
   ],
   "source": [
    "from __future__ import division\n",
    "len(text1)/len(set(text1))"
   ]
  },
  {
   "cell_type": "markdown",
   "metadata": {},
   "source": [
    "### 1.2 文本是词汇的list"
   ]
  },
  {
   "cell_type": "markdown",
   "metadata": {
    "deletable": true,
    "editable": true
   },
   "source": [
    "词第一次出现的位置"
   ]
  },
  {
   "cell_type": "code",
   "execution_count": 12,
   "metadata": {
    "collapsed": false,
    "deletable": true,
    "editable": true
   },
   "outputs": [
    {
     "name": "stdout",
     "output_type": "stream",
     "text": [
      "awaken\n",
      "173\n"
     ]
    }
   ],
   "source": [
    "print text4[173]\n",
    "print text4.index(\"awaken\")"
   ]
  },
  {
   "cell_type": "markdown",
   "metadata": {
    "deletable": true,
    "editable": true
   },
   "source": [
    "字符串合并、分割"
   ]
  },
  {
   "cell_type": "code",
   "execution_count": 10,
   "metadata": {
    "collapsed": false,
    "deletable": true,
    "editable": true
   },
   "outputs": [
    {
     "data": {
      "text/plain": [
       "'a pretty'"
      ]
     },
     "execution_count": 10,
     "metadata": {},
     "output_type": "execute_result"
    }
   ],
   "source": [
    "' '.join(['a','pretty'])"
   ]
  },
  {
   "cell_type": "code",
   "execution_count": 11,
   "metadata": {
    "collapsed": false,
    "deletable": true,
    "editable": true
   },
   "outputs": [
    {
     "data": {
      "text/plain": [
       "['a', 'pretty']"
      ]
     },
     "execution_count": 11,
     "metadata": {},
     "output_type": "execute_result"
    }
   ],
   "source": [
    "'a pretty'.split()"
   ]
  },
  {
   "cell_type": "markdown",
   "metadata": {},
   "source": [
    "### 1.3 简单的统计"
   ]
  },
  {
   "cell_type": "markdown",
   "metadata": {
    "deletable": true,
    "editable": true
   },
   "source": [
    "频率分布"
   ]
  },
  {
   "cell_type": "code",
   "execution_count": 13,
   "metadata": {
    "collapsed": true,
    "deletable": true,
    "editable": true
   },
   "outputs": [],
   "source": [
    "fdist1 = FreqDist(text1)"
   ]
  },
  {
   "cell_type": "code",
   "execution_count": 14,
   "metadata": {
    "collapsed": false
   },
   "outputs": [
    {
     "data": {
      "text/plain": [
       "[u'funereal',\n",
       " u'unscientific',\n",
       " u'divinely',\n",
       " u'foul',\n",
       " u'four',\n",
       " u'gag',\n",
       " u'prefix',\n",
       " u'woods',\n",
       " u'clotted',\n",
       " u'Duck']"
      ]
     },
     "execution_count": 14,
     "metadata": {},
     "output_type": "execute_result"
    }
   ],
   "source": [
    "fdist1.keys()[:10]"
   ]
  },
  {
   "cell_type": "code",
   "execution_count": 15,
   "metadata": {
    "collapsed": false,
    "deletable": true,
    "editable": true
   },
   "outputs": [
    {
     "data": {
      "image/png": "[encoded data removed]",
      "text/plain": [
       "<matplotlib.figure.Figure at 0x7fbabb7782d0>"
      ]
     },
     "metadata": {},
     "output_type": "display_data"
    }
   ],
   "source": [
    "fdist1.plot(50, cumulative=True)"
   ]
  },
  {
   "cell_type": "code",
   "execution_count": 5,
   "metadata": {
    "collapsed": false,
    "deletable": true,
    "editable": true
   },
   "outputs": [
    {
     "data": {
      "text/plain": [
       "9002"
      ]
     },
     "execution_count": 5,
     "metadata": {},
     "output_type": "execute_result"
    }
   ],
   "source": [
    "len(fdist1.hapaxes())"
   ]
  },
  {
   "cell_type": "markdown",
   "metadata": {},
   "source": [
    "#### 长度超过15个字符的词"
   ]
  },
  {
   "cell_type": "code",
   "execution_count": 6,
   "metadata": {
    "collapsed": false,
    "deletable": true,
    "editable": true
   },
   "outputs": [
    {
     "data": {
      "text/plain": [
       "[u'CIRCUMNAVIGATION',\n",
       " u'Physiognomically',\n",
       " u'apprehensiveness',\n",
       " u'cannibalistically',\n",
       " u'characteristically',\n",
       " u'circumnavigating',\n",
       " u'circumnavigation',\n",
       " u'circumnavigations',\n",
       " u'comprehensiveness',\n",
       " u'hermaphroditical',\n",
       " u'indiscriminately',\n",
       " u'indispensableness',\n",
       " u'irresistibleness',\n",
       " u'physiognomically',\n",
       " u'preternaturalness',\n",
       " u'responsibilities',\n",
       " u'simultaneousness',\n",
       " u'subterraneousness',\n",
       " u'supernaturalness',\n",
       " u'superstitiousness',\n",
       " u'uncomfortableness',\n",
       " u'uncompromisedness',\n",
       " u'undiscriminating',\n",
       " u'uninterpenetratingly']"
      ]
     },
     "execution_count": 6,
     "metadata": {},
     "output_type": "execute_result"
    }
   ],
   "source": [
    "V = set(text1)\n",
    "long_words = [w for w in V if len(w)>15]\n",
    "sorted(long_words)"
   ]
  },
  {
   "cell_type": "markdown",
   "metadata": {},
   "source": [
    "#### 长度超过7个并且出现超过7次"
   ]
  },
  {
   "cell_type": "code",
   "execution_count": 17,
   "metadata": {
    "collapsed": false
   },
   "outputs": [
    {
     "data": {
      "text/plain": [
       "[u'#14-19teens',\n",
       " u'#talkcity_adults',\n",
       " u'((((((((((',\n",
       " u'........',\n",
       " u'Question',\n",
       " u'actually',\n",
       " u'anything',\n",
       " u'computer',\n",
       " u'cute.-ass',\n",
       " u'everyone',\n",
       " u'football',\n",
       " u'innocent',\n",
       " u'listening',\n",
       " u'remember',\n",
       " u'seriously',\n",
       " u'something',\n",
       " u'together',\n",
       " u'tomorrow',\n",
       " u'watching']"
      ]
     },
     "execution_count": 17,
     "metadata": {},
     "output_type": "execute_result"
    }
   ],
   "source": [
    "fdist5 = FreqDist(text5)\n",
    "sorted([w for w in set(text5) if len(w)>7 and fdist5[w]>7])"
   ]
  },
  {
   "cell_type": "markdown",
   "metadata": {},
   "source": [
    "#### 双连词"
   ]
  },
  {
   "cell_type": "code",
   "execution_count": 18,
   "metadata": {
    "collapsed": false
   },
   "outputs": [
    {
     "name": "stdout",
     "output_type": "stream",
     "text": [
      "United States; fellow citizens; four years; years ago; Federal\n",
      "Government; General Government; American people; Vice President; Old\n",
      "World; Almighty God; Fellow citizens; Chief Magistrate; Chief Justice;\n",
      "God bless; every citizen; Indian tribes; public debt; one another;\n",
      "foreign nations; political parties\n"
     ]
    }
   ],
   "source": [
    "text4.collocations()"
   ]
  },
  {
   "cell_type": "markdown",
   "metadata": {
    "deletable": true,
    "editable": true
   },
   "source": [
    "词长分布"
   ]
  },
  {
   "cell_type": "code",
   "execution_count": 12,
   "metadata": {
    "collapsed": false,
    "deletable": true,
    "editable": true
   },
   "outputs": [
    {
     "data": {
      "image/png": "[encoded data removed]",
      "text/plain": [
       "<matplotlib.figure.Figure at 0x7fb49ce76050>"
      ]
     },
     "metadata": {},
     "output_type": "display_data"
    }
   ],
   "source": [
    "fdist = FreqDist([len(w) for w in text1])\n",
    "fdist.plot()"
   ]
  },
  {
   "cell_type": "code",
   "execution_count": 13,
   "metadata": {
    "collapsed": false,
    "deletable": true,
    "editable": true
   },
   "outputs": [
    {
     "data": {
      "text/plain": [
       "[(1, 47933),\n",
       " (2, 38513),\n",
       " (3, 50223),\n",
       " (4, 42345),\n",
       " (5, 26597),\n",
       " (6, 17111),\n",
       " (7, 14399),\n",
       " (8, 9966),\n",
       " (9, 6428),\n",
       " (10, 3528),\n",
       " (11, 1873),\n",
       " (12, 1053),\n",
       " (13, 567),\n",
       " (14, 177),\n",
       " (15, 70),\n",
       " (16, 22),\n",
       " (17, 12),\n",
       " (18, 1),\n",
       " (20, 1)]"
      ]
     },
     "execution_count": 13,
     "metadata": {},
     "output_type": "execute_result"
    }
   ],
   "source": [
    "fdist.items()"
   ]
  },
  {
   "cell_type": "code",
   "execution_count": 14,
   "metadata": {
    "collapsed": false,
    "deletable": true,
    "editable": true
   },
   "outputs": [
    {
     "data": {
      "text/plain": [
       "0.19255882431878046"
      ]
     },
     "execution_count": 14,
     "metadata": {},
     "output_type": "execute_result"
    }
   ],
   "source": [
    "fdist.freq(3)"
   ]
  },
  {
   "cell_type": "code",
   "execution_count": 16,
   "metadata": {
    "collapsed": false,
    "deletable": true,
    "editable": true
   },
   "outputs": [
    {
     "data": {
      "text/plain": [
       "16948"
      ]
     },
     "execution_count": 16,
     "metadata": {},
     "output_type": "execute_result"
    }
   ],
   "source": [
    "len(set([w.lower() for w in text1 if w.isalpha()]))"
   ]
  },
  {
   "cell_type": "code",
   "execution_count": null,
   "metadata": {
    "collapsed": true,
    "deletable": true,
    "editable": true
   },
   "outputs": [],
   "source": []
  }
 ],
 "metadata": {
  "kernelspec": {
   "display_name": "Python 2",
   "language": "python",
   "name": "python2"
  },
  "language_info": {
   "codemirror_mode": {
    "name": "ipython",
    "version": 2
   },
   "file_extension": ".py",
   "mimetype": "text/x-python",
   "name": "python",
   "nbconvert_exporter": "python",
   "pygments_lexer": "ipython2",
   "version": "2.7.6"
  }
 },
 "nbformat": 4,
 "nbformat_minor": 2
}
