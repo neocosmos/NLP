{
 "cells": [
  {
   "cell_type": "markdown",
   "metadata": {
    "deletable": true,
    "editable": true
   },
   "source": [
    "### 处理原始文本"
   ]
  },
  {
   "cell_type": "code",
   "execution_count": 1,
   "metadata": {
    "collapsed": true,
    "deletable": true,
    "editable": true
   },
   "outputs": [],
   "source": [
    "import nltk, re, pprint"
   ]
  },
  {
   "cell_type": "markdown",
   "metadata": {
    "deletable": true,
    "editable": true
   },
   "source": [
    "### 3.1 网络和硬盘访问"
   ]
  },
  {
   "cell_type": "code",
   "execution_count": 2,
   "metadata": {
    "collapsed": true,
    "deletable": true,
    "editable": true
   },
   "outputs": [],
   "source": [
    "from urllib import urlopen"
   ]
  },
  {
   "cell_type": "code",
   "execution_count": 3,
   "metadata": {
    "collapsed": true,
    "deletable": true,
    "editable": true
   },
   "outputs": [],
   "source": [
    "url = \"http://www.gutenberg.org/files/2554/2554.txt\"\n",
    "raw = urlopen(url).read()"
   ]
  },
  {
   "cell_type": "code",
   "execution_count": 12,
   "metadata": {
    "collapsed": false,
    "deletable": true,
    "editable": true
   },
   "outputs": [
    {
     "data": {
      "text/plain": [
       "'The Project Gutenberg EBook of Crime and Punishment, by Fyodor Dostoevsky\\r\\n'"
      ]
     },
     "execution_count": 12,
     "metadata": {},
     "output_type": "execute_result"
    }
   ],
   "source": [
    "raw[:75]"
   ]
  },
  {
   "cell_type": "markdown",
   "metadata": {
    "deletable": true,
    "editable": true
   },
   "source": [
    "分词"
   ]
  },
  {
   "cell_type": "code",
   "execution_count": 7,
   "metadata": {
    "collapsed": false,
    "deletable": true,
    "editable": true
   },
   "outputs": [
    {
     "name": "stdout",
     "output_type": "stream",
     "text": [
      "['The', 'Project', 'Gutenberg', 'EBook', 'of', 'Crime', 'and', 'Punishment', ',', 'by']\n"
     ]
    }
   ],
   "source": [
    "tokens = nltk.word_tokenize(raw)\n",
    "print tokens[:10],"
   ]
  },
  {
   "cell_type": "code",
   "execution_count": 10,
   "metadata": {
    "collapsed": false,
    "deletable": true,
    "editable": true
   },
   "outputs": [],
   "source": [
    "text = nltk.Text(tokens)"
   ]
  },
  {
   "cell_type": "markdown",
   "metadata": {
    "deletable": true,
    "editable": true
   },
   "source": [
    "获取字符串切片 find/rfind"
   ]
  },
  {
   "cell_type": "code",
   "execution_count": 13,
   "metadata": {
    "collapsed": false,
    "deletable": true,
    "editable": true
   },
   "outputs": [
    {
     "name": "stdout",
     "output_type": "stream",
     "text": [
      "5338\n",
      "1157746\n"
     ]
    }
   ],
   "source": [
    "print raw.find(\"PART I\")\n",
    "print raw.rfind(\"End of Project\")"
   ]
  },
  {
   "cell_type": "markdown",
   "metadata": {
    "deletable": true,
    "editable": true
   },
   "source": [
    "#### 处理html"
   ]
  },
  {
   "cell_type": "code",
   "execution_count": 14,
   "metadata": {
    "collapsed": false,
    "deletable": true,
    "editable": true
   },
   "outputs": [
    {
     "data": {
      "text/plain": [
       "'<!doctype html public \"-//W3C//DTD HTML 4.0 Transitional//EN'"
      ]
     },
     "execution_count": 14,
     "metadata": {},
     "output_type": "execute_result"
    }
   ],
   "source": [
    "url = \"http://news.bbc.co.uk/2/hi/health/2284783.stm\"\n",
    "html = urlopen(url).read()\n",
    "html[:60]"
   ]
  },
  {
   "cell_type": "markdown",
   "metadata": {
    "deletable": true,
    "editable": true
   },
   "source": [
    "从 HTML 提取文本"
   ]
  },
  {
   "cell_type": "code",
   "execution_count": 15,
   "metadata": {
    "collapsed": false,
    "deletable": true,
    "editable": true
   },
   "outputs": [],
   "source": [
    "from bs4 import BeautifulSoup\n",
    "soup = BeautifulSoup(html, \"html5lib\")  \n",
    "raw = soup.get_text()  "
   ]
  },
  {
   "cell_type": "code",
   "execution_count": 17,
   "metadata": {
    "collapsed": false,
    "deletable": true,
    "editable": true
   },
   "outputs": [
    {
     "name": "stdout",
     "output_type": "stream",
     "text": [
      "Displaying 7 of 7 matches:\n",
      "hey say too few people now carry the gene for blondes to last beyond the next \n",
      "blonde hair is caused by a recessive gene . In order for a child to have blond\n",
      " have blonde hair , it must have the gene on both sides of the family in the g\n",
      "ere is a disadvantage of having that gene or by chance . They do n't disappear\n",
      "des would disappear is if having the gene was a disadvantage and I do not thin\n",
      "er's Polio campaign launched in Iraq Gene defect explains high blood pressure \n",
      "er's Polio campaign launched in Iraq Gene defect explains high blood pressure \n"
     ]
    }
   ],
   "source": [
    "tokens = nltk.word_tokenize(raw)\n",
    "text = nltk.Text(tokens)\n",
    "text.concordance('gene')"
   ]
  },
  {
   "cell_type": "markdown",
   "metadata": {
    "deletable": true,
    "editable": true
   },
   "source": [
    "#### RSS 订阅  --借助feedparser访问博客内容"
   ]
  },
  {
   "cell_type": "code",
   "execution_count": 18,
   "metadata": {
    "collapsed": false,
    "deletable": true,
    "editable": true
   },
   "outputs": [],
   "source": [
    "import feedparser"
   ]
  },
  {
   "cell_type": "code",
   "execution_count": 19,
   "metadata": {
    "collapsed": true,
    "deletable": true,
    "editable": true
   },
   "outputs": [],
   "source": [
    "llog = feedparser.parse(\"http://languagelog.ldc.upenn.edu/nll/?feed=atom\")"
   ]
  },
  {
   "cell_type": "code",
   "execution_count": 22,
   "metadata": {
    "collapsed": true,
    "deletable": true,
    "editable": true
   },
   "outputs": [
    {
     "data": {
      "text/plain": [
       "{'bozo': 0,\n",
       " 'encoding': u'UTF-8',\n",
       " 'entries': [{'author': u'Mark Liberman',\n",
       "   'author_detail': {'href': u'http://ling.upenn.edu/~myl',\n",
       "    'name': u'Mark Liberman'},\n",
       "   'authors': [{'href': u'http://ling.upenn.edu/~myl',\n",
       "     'name': u'Mark Liberman'}],\n",
       "   'content': [{'base': u'http://languagelog.ldc.upenn.edu/nll/?p=33387',\n",
       "     'language': u'en-US',\n",
       "     'type': u'text/html',\n",
       "     'value': u'<div id=\"fb-root\"></div>\\n<p>.. or at least six weeks of it, will be spent at the <a href=\"https://www.lti.cs.cmu.edu/2017-jelinek-workshop\" rel=\"noopener\" target=\"_blank\">2017 Jelinek Summer Workshop on Speech and Language Technology (JSALT)</a> at CMU in Pittsburgh. As the link explains, this</p>\\n<p style=\"padding-left: 30px;\">&#8230; is a continuation of the\\xa0<a href=\"https://www.clsp.jhu.edu/workshops/\" rel=\"noopener\" target=\"_blank\">Johns Hopkins University CLSP summer workshop series\\xa0</a>from 1995-2016. It consists of a two-week summer school, followed by a six-week workshop. Notable researchers and students come together to collaborate on selected research topics. The Workshop is named after the late\\xa0<a href=\"http://www.nytimes.com/2010/09/24/business/24jelinek.html?_r=0\" rel=\"noopener\" target=\"_blank\">Fred Jelinek</a>, its former director and head of the\\xa0<a href=\"https://www.clsp.jhu.edu/\" rel=\"noopener\" target=\"_blank\">Center for Speech and Language Processing</a>.</p>\\n<p><span id=\"more-33387\"></span></p>\\n<p>I took part in the <a href=\"https://www.clsp.jhu.edu/workshops/95-workshop/\" rel=\"noopener\" target=\"_blank\">first of these annual summer workshops</a>, back in 1995, as a member of the team focused on &#8220;<a href=\"https://www.clsp.jhu.edu/workshops/95-workshop/language-modeling-for-conversational-speech-recognition/\">Language Modeling for Conversational Speech Recognition</a>&#8220;.</p>\\n<p>This summer, I&#8217;ll be part of a group whose theme is described as &#8220;<a href=\"http://languagelog.ldc.upenn.edu/myl/Basic1.html\" rel=\"noopener\" target=\"_blank\">Enhancement and Analysis of Conversational Speech</a>&#8220;.</p>\\n<p>One of the group&#8217;s goals is to do a better job of &#8220;diarization&#8221;, i.e. keeping track of who spoke when in conversations. Existing systems do an especially bad job with overlapping speech, which can be extremely common.</p>\\n<p>Here&#8217;s a graphical representation of (accurate) diarization in a (real) conversation between Red and Blue:</p>\\n<p><a href=\"http://languagelog.ldc.upenn.edu/myl/Overlaps1a.png\"><img src=\"http://languagelog.ldc.upenn.edu/myl/Overlaps1a.png\" title=\"Click to embiggen\" width=\"490\" /></a></p>\\n<p>And the same thing continued for a while (though not to the end of the conversation):</p>\\n<p><a href=\"http://languagelog.ldc.upenn.edu/myl/Overlaps.png\"><img src=\"http://languagelog.ldc.upenn.edu/myl/Overlaps.png\" title=\"Click to embiggen\" width=\"490\" /></a></p>\\n<p>As discussed <a href=\"http://icphs2007.de/conference/Papers/1617/1617.pdf\" rel=\"noopener\" target=\"_blank\">here</a>, turn-taking overlaps are often cooperative rather than competitive &#8212; and it would be good to be able to supplement robust diarization with a functional analysis of conversational flow.</p>\\n<p>As the workshop progresses, I&#8217;ll post some updates.</p>\\n<p>&nbsp;</p>'}],\n",
       "   'guidislink': False,\n",
       "   'href': u'http://ling.upenn.edu/~myl',\n",
       "   'id': u'http://languagelog.ldc.upenn.edu/nll/?p=33387',\n",
       "   'link': u'http://languagelog.ldc.upenn.edu/nll/?p=33387',\n",
       "   'links': [{'href': u'http://languagelog.ldc.upenn.edu/nll/?p=33387',\n",
       "     'rel': u'alternate',\n",
       "     'type': u'text/html'},\n",
       "    {'count': u'1',\n",
       "     'href': u'http://languagelog.ldc.upenn.edu/nll/?p=33387#comments',\n",
       "     'rel': u'replies',\n",
       "     'thr:count': u'1',\n",
       "     'type': u'text/html'},\n",
       "    {'count': u'1',\n",
       "     'href': u'http://languagelog.ldc.upenn.edu/nll/?feed=atom&p=33387',\n",
       "     'rel': u'replies',\n",
       "     'thr:count': u'1',\n",
       "     'type': u'application/atom+xml'}],\n",
       "   'published': u'2017-06-22T11:37:42Z',\n",
       "   'published_parsed': time.struct_time(tm_year=2017, tm_mon=6, tm_mday=22, tm_hour=11, tm_min=37, tm_sec=42, tm_wday=3, tm_yday=173, tm_isdst=0),\n",
       "   'summary': u'.. or at least six weeks of it, will be spent at the 2017 Jelinek Summer Workshop on Speech and Language Technology (JSALT) at CMU in Pittsburgh. As the link explains, this &#8230; is a continuation of the\\xa0Johns Hopkins University CLSP summer workshop series\\xa0from 1995-2016. It consists of a two-week summer school, followed by a [&#8230;]',\n",
       "   'summary_detail': {'base': u'http://languagelog.ldc.upenn.edu/nll/wp-atom.php',\n",
       "    'language': u'en-US',\n",
       "    'type': u'text/html',\n",
       "    'value': u'.. or at least six weeks of it, will be spent at the 2017 Jelinek Summer Workshop on Speech and Language Technology (JSALT) at CMU in Pittsburgh. As the link explains, this &#8230; is a continuation of the\\xa0Johns Hopkins University CLSP summer workshop series\\xa0from 1995-2016. It consists of a two-week summer school, followed by a [&#8230;]'},\n",
       "   'tags': [{'label': None,\n",
       "     'scheme': u'http://languagelog.ldc.upenn.edu/nll',\n",
       "     'term': u'Uncategorized'}],\n",
       "   'thr_total': u'1',\n",
       "   'title': u'My summer',\n",
       "   'title_detail': {'base': u'http://languagelog.ldc.upenn.edu/nll/wp-atom.php',\n",
       "    'language': u'en-US',\n",
       "    'type': u'text/html',\n",
       "    'value': u'My summer'},\n",
       "   'updated': u'2017-06-22T11:37:42Z',\n",
       "   'updated_parsed': time.struct_time(tm_year=2017, tm_mon=6, tm_mday=22, tm_hour=11, tm_min=37, tm_sec=42, tm_wday=3, tm_yday=173, tm_isdst=0)},\n",
       "  {'author': u'Mark Liberman',\n",
       "   'author_detail': {'href': u'http://ling.upenn.edu/~myl',\n",
       "    'name': u'Mark Liberman'},\n",
       "   'authors': [{'href': u'http://ling.upenn.edu/~myl',\n",
       "     'name': u'Mark Liberman'}],\n",
       "   'content': [{'base': u'http://languagelog.ldc.upenn.edu/nll/?p=33394',\n",
       "     'language': u'en-US',\n",
       "     'type': u'text/html',\n",
       "     'value': u'<div id=\"fb-root\"></div>\\n<p>This strikes me as an unusual obituary: Margalit Fox, &#8220;<a href=\"https://www.nytimes.com/2017/06/20/arts/music/paul-zukofsky-dead-virtuoso-violinist-literary-executor.html?_r=0\" rel=\"noopener\" target=\"_blank\">Paul Zukofsky, Prodigy Who Became, Uneasily, a Virtuoso Violinist, Dies at 73</a>&#8220;, NYT 6/20/2017. It massively violates the precept <em>de mortuis nil nisi bonum</em>, describing its subject at great length as an &#8220;automaton&#8221; who was &#8220;deeply ill at ease with world&#8221;; an &#8220;arch-bridge troll&#8221;, full of &#8220;unbridled hubris&#8221;, &#8220;disdain for those less gifted than he&#8221;, and &#8220;an ample sense of self-worth&#8221;; &#8220;swift to run to judgment&#8221;, &#8220;meanspirited, sarcastic, rather bitter&#8221;; someone who would &#8220;look at [his audience] with utter contempt&#8221;, and on and on.</p>\\n<p>Margalit Fox certainly found plenty of sources for these judgments. But this litany of bitter score-settling is completely at odds with my own experience of Paul Zukofsky.</p>\\n<p><span id=\"more-33394\"></span></p>\\n<p>I first met Paul around 1976, when I was employed at Bell Labs in Murray Hill NJ, and he was the music director of the Colonial Symphony in Madison, a few miles west. He was planning to present <a href=\"https://www.youtube.com/watch?v=xrSKXgTks_w\" rel=\"noopener\" target=\"_blank\">Bach&#8217;s Fourth Brandenburg Concerto</a>, and he needed a continuo player. I owned a harpsichord, had once taken a conservatory course in figured bass realization, and occasionally performed with professional and semi-professional chamber groups in the area, so <a href=\"http://daily.redbullmusicacademy.com/2016/05/bell-labs-music-feature\" rel=\"noopener\" target=\"_blank\">Joan Miller</a> recommended me to him.</p>\\n<p>Paul was then teaching at Stony Brook, so I treked out there to audition. That was an amazing experience &#8212; while I played the continuo part, Paul, with an occasional glance at the score, played the parts of all three soloists and the rest of the orchestra all at once on the violin. It was amazing. I had never seen anything like it. I managed keep my jaw off the floor, and made my way through the audition well enough to get the part.</p>\\n<p>This situation was inherently intimidating, and my own musical gifts were far below Paul&#8217;s. But he was charming and friendly, interested in talking about Bach&#8217;s music, and about music theory and the psychology of music, and he left me with a positive feeling about the whole experience.</p>\\n<p>For a while around that time, Paul became a regular visitor at Bell Labs, where he contributed to some interesting work, including these publications:</p>\\n<p style=\"padding-left: 30px;\">Ronald Knoll, Saul Sternberg, and Paul Zukofsky, &#8220;<a href=\"http://asa.scitation.org/doi/abs/10.1121/1.2003333\" rel=\"noopener\" target=\"_blank\">Subdivision of the beat: Estimation and production of time ratio by skilled musicians</a>&#8220;, JASA 1976.<br />\\nMark Liberman, Joseph Olive, and Paul Zukofsky, &#8220;<a href=\"http://asa.scitation.org/doi/abs/10.1121/1.2016196\" rel=\"noopener\" target=\"_blank\">Studies of metric patterns</a>&#8220;, JASA 1977.<br />\\nSaul Sternberg, Ronald Knoll, and Paul Zukofsky, &#8220;<a href=\"https://books.google.com/books?id=YW1aBQAAQBAJ&amp;lpg=PA181&amp;ots=5nJs_WLAOP&amp;dq=Zukovsky%20Sternberg&amp;lr&amp;pg=PA181#v=onepage&amp;q&amp;f=false\" rel=\"noopener\" target=\"_blank\">Timing by Skilled Musicians</a>&#8220;, in Diana Deutsch, Ed., <em>Psychology of Music</em>, 1982.</p>\\n<p>Throughout those interactions, I never met the cold, mean, unpleasant man depicted in the NYT obituary. On the contrary, Paul was always smart, engaged, friendly, and even convivial.</p>\\n<p>Maybe I have a thicker skin than the people who supplied Margalit Fox with so much bile. Or maybe Paul was different in later life than he was when I knew him.</p>\\n<p>But looking over the obituary, I see two other factors that might be relevant. One is Paul&#8217;s role as executor of his father&#8217;s estate &#8212; that&#8217;s a side of him that I never saw, and one that would not have been relevant before Louis Zukofsky died in 1978, which was after most of my interactions with Paul.</p>\\n<p>And the other factor might be his apparent reluctance to take up the standard role of a violin virtuoso, or at least to limit himself to playing that part. Perhaps he saw me and others at Bell Labs as part of his self-liberation from that role, rather than as part of the world that he needed to escape, and perhaps he therefore interacted differently with us.</p>\\n<p>Still, I have a feeling that most people could be unlucky enough to be treated to an obituary like the one under discussion. The recipe is clear: \\xa0find people with a grudge, people on the other side of arguments, people who were offended on purpose or by accident, people who were disappointed, people with relevant prejudices, and select your quotes to play up the negatives and minimize the positives. The Paul Zukofsky I knew deserves better.</p>\\n<p>Update &#8212; a letter sent by <a href=\"http://www.psych.upenn.edu/~saul/\" rel=\"noopener\" target=\"_blank\">Saul Sternberg</a> to the New York Times:</p>\\n<p style=\"padding-left: 30px;\"><span style=\"color: #000080;\">I believe that this obituary gives a false impression of Zukofsky&#8217;s personality.\\xa0 The only indication that he could be a sweet, loving, caring person is the one quote (Kalish) &#8220;to those who understood him deeply&#8230;&#8221; \\xa0If you look at the comments on <a href=\"http://slippedisc.com/2017/06/death-of-an-important-american-violinist-73/\" rel=\"noopener\" target=\"_blank\">slippedisc.com/2017/06/death-of-an-important-american-violinist-73/</a> you&#8217;ll find many who loved him, and some for whom he was a kind and caring mentor. Surely they didn&#8217;t all &#8220;understand him deeply&#8221;. </span></p>\\n<p style=\"padding-left: 30px;\"><span style=\"color: #000080;\">It is as if, rather than providing a balanced description, the writer emphasized those aspects of his personality that would fit with her beliefs about his early life and her claims about his &#8220;emotional development&#8221; having been &#8220;sacrificed to professional prowess&#8221;. </span></p>\\n<p style=\"padding-left: 30px;\"><span style=\"color: #000080;\">I&#8217;ve known Paul Zukofsky for the past forty years, and although the names of many people have come up in our conversations and correspondence, I&#8217;ve seen no evidence of &#8220;his disdain for people less gifted than he&#8221;. </span></p>\\n<p style=\"padding-left: 30px;\"><span style=\"color: #000080;\">Also, the obit fails to mention the existence of the Zukofsky Quartet, named in his honor.</span></p>\\n<p>&nbsp;</p>'}],\n",
       "   'guidislink': False,\n",
       "   'href': u'http://ling.upenn.edu/~myl',\n",
       "   'id': u'http://languagelog.ldc.upenn.edu/nll/?p=33394',\n",
       "   'link': u'http://languagelog.ldc.upenn.edu/nll/?p=33394',\n",
       "   'links': [{'href': u'http://languagelog.ldc.upenn.edu/nll/?p=33394',\n",
       "     'rel': u'alternate',\n",
       "     'type': u'text/html'},\n",
       "    {'count': u'12',\n",
       "     'href': u'http://languagelog.ldc.upenn.edu/nll/?p=33394#comments',\n",
       "     'rel': u'replies',\n",
       "     'thr:count': u'12',\n",
       "     'type': u'text/html'},\n",
       "    {'count': u'12',\n",
       "     'href': u'http://languagelog.ldc.upenn.edu/nll/?feed=atom&p=33394',\n",
       "     'rel': u'replies',\n",
       "     'thr:count': u'12',\n",
       "     'type': u'application/atom+xml'}],\n",
       "   'published': u'2017-06-21T23:45:21Z',\n",
       "   'published_parsed': time.struct_time(tm_year=2017, tm_mon=6, tm_mday=21, tm_hour=23, tm_min=45, tm_sec=21, tm_wday=2, tm_yday=172, tm_isdst=0),\n",
       "   'summary': u'This strikes me as an unusual obituary: Margalit Fox, &#8220;Paul Zukofsky, Prodigy Who Became, Uneasily, a Virtuoso Violinist, Dies at 73&#8220;, NYT 6/20/2017. It massively violates the precept de mortuis nil nisi bonum, describing its subject at great length as an &#8220;automaton&#8221; who was &#8220;deeply ill at ease with world&#8221;; an &#8220;arch-bridge troll&#8221;, full of [&#8230;]',\n",
       "   'summary_detail': {'base': u'http://languagelog.ldc.upenn.edu/nll/wp-atom.php',\n",
       "    'language': u'en-US',\n",
       "    'type': u'text/html',\n",
       "    'value': u'This strikes me as an unusual obituary: Margalit Fox, &#8220;Paul Zukofsky, Prodigy Who Became, Uneasily, a Virtuoso Violinist, Dies at 73&#8220;, NYT 6/20/2017. It massively violates the precept de mortuis nil nisi bonum, describing its subject at great length as an &#8220;automaton&#8221; who was &#8220;deeply ill at ease with world&#8221;; an &#8220;arch-bridge troll&#8221;, full of [&#8230;]'},\n",
       "   'tags': [{'label': None,\n",
       "     'scheme': u'http://languagelog.ldc.upenn.edu/nll',\n",
       "     'term': u'Obituaries'}],\n",
       "   'thr_total': u'12',\n",
       "   'title': u'Paul Zukofsky',\n",
       "   'title_detail': {'base': u'http://languagelog.ldc.upenn.edu/nll/wp-atom.php',\n",
       "    'language': u'en-US',\n",
       "    'type': u'text/html',\n",
       "    'value': u'Paul Zukofsky'},\n",
       "   'updated': u'2017-06-22T00:05:52Z',\n",
       "   'updated_parsed': time.struct_time(tm_year=2017, tm_mon=6, tm_mday=22, tm_hour=0, tm_min=5, tm_sec=52, tm_wday=3, tm_yday=173, tm_isdst=0)},\n",
       "  {'author': u'Mark Seidenberg',\n",
       "   'author_detail': {'href': u'http://lcnl.wisc.edu/index.php/people/mark-s-seidenberg/',\n",
       "    'name': u'Mark Seidenberg'},\n",
       "   'authors': [{'href': u'http://lcnl.wisc.edu/index.php/people/mark-s-seidenberg/',\n",
       "     'name': u'Mark Seidenberg'}],\n",
       "   'content': [{'base': u'http://languagelog.ldc.upenn.edu/nll/?p=33364',\n",
       "     'language': u'en-US',\n",
       "     'type': u'text/html',\n",
       "     'value': u'<div id=\"fb-root\"></div>\\n<p>When the parents are psycholinguists, the children get exposed to some weird stuff.</p>\\n<p>For example, the Stroop effect (words interfere with naming colors, e.g. <span style=\"color: #ff0000;\">GREEN</span> <span style=\"color: #0000ff;\">RED</span> <span style=\"color: #339966;\">BLUE</span>) makes a great 4<sup>th</sup> grade science project; 9 year olds think it\\u2019s <em>hilarious</em>. There are lots of fun versions of the task (e.g., <span style=\"color: #339966;\">SKY</span> <span style=\"color: #ff0000;\">FROG</span> <span style=\"color: #0000ff;\">APPLE</span>) but prudence dictates avoiding <a href=\"https://link.springer.com/article/10.3758/BF03195840\">this</a> variant in which taboo words like <span style=\"color: #0000ff;\">FUCK</span> <span style=\"color: #339966;\">COCK</span> <span style=\"color: #ff0000;\">PUSSY</span> produced greater interference than neutral words like <span style=\"color: #0000ff;\">FLEW</span> <span style=\"color: #339966;\">COST</span> <span style=\"color: #ff0000;\">PASTA</span> (p &lt; .01).</p>\\n<p>Or, the kid knows that \\u201cI see that the clothes on the floor in your room have risen a couple of feet above sea level\\u201d means \\u201cclean up the mess, please\\u201d but also that this is an indirect speech act because the form of the utterance (an assertion) differs from its communicative intent (a request). \\xa0Thus enabling exchanges such as \\u201cCan you take out the garbage???\\u201d\\xa0 \\u201cIs that an indirect speech act?\\u201d</p>\\n<p><span id=\"more-33364\"></span></p>\\n<p>I confess that we have actually had dinner conversations about the Transposed Letter Effect, the finding that with brief exposure, subjects frequently misperceive a stimulus such as ODRER as ORDER. \\xa0It happens in real life, as in the sign on the left and the company logo (French Connection UK) on the right.</p>\\n<p><a href=\"http://languagelog.ldc.upenn.edu/nll/wp-content/uploads/2017/06/transposed-letter-sign.jpg\"><img alt=\"\" class=\"wp-image-33365 alignnone\" height=\"149\" src=\"http://languagelog.ldc.upenn.edu/nll/wp-content/uploads/2017/06/transposed-letter-sign.jpg\" width=\"236\" /> \\xa0\\xa0\\xa0\\xa0\\xa0 \\xa0\\xa0 </a><a href=\"http://languagelog.ldc.upenn.edu/nll/wp-content/uploads/2017/06/fcuk-shot.png\"><img alt=\"\" class=\"wp-image-33366 alignnone\" height=\"226\" src=\"http://languagelog.ldc.upenn.edu/nll/wp-content/uploads/2017/06/fcuk-shot.png\" width=\"213\" /></a></p>\\n<p>The explanation for the effect is interesting&#8211;well, I thought it was&#8211;having to do with statistical properties of English orthography and the fact that ODRER is closer to ORDER than to any other word. There&#8217;s a simple demo of the phenomenon <a href=\"https://markseidenberg.files.wordpress.com/2016/07/transposed-letter-demo-show.pps\">here</a>, if you&#8217;re interested.</p>\\n<p>For birthdays and other events greeting cards with terrible wordplay are just low hanging fruit. A recent Father\\u2019s Day card connected to my interest in accent and dialect:</p>\\n<p><a href=\"http://languagelog.ldc.upenn.edu/nll/wp-content/uploads/2017/06/nascar.jpg\"><img alt=\"\" class=\"wp-image-33367 aligncenter\" height=\"366\" src=\"http://languagelog.ldc.upenn.edu/nll/wp-content/uploads/2017/06/nascar.jpg\" width=\"274\" /></a></p>\\n<p>I\\u2019m told that this is an old joke, popular in summer camp several years ago. Still, it does manage to alert a person to how much American regional accents can differ. \\xa0On this occasion I psycholinguisplained that it also illustrates the folly of trying to reform English spelling to make the correspondences between spellings and pronunciations consistent, as in Finnish and most other alphabetic writing systems: there would need to be different spellings for each regional pronunciation of even simple words like NICE.</p>\\n<p>On the inside the card said I was \\u201cRat nas\\u201d.\\xa0 Which is what you call kids who participate in dinner conversations about speech acts and spelling reform.</p>\\n<p>&nbsp;</p>'}],\n",
       "   'guidislink': False,\n",
       "   'href': u'http://lcnl.wisc.edu/index.php/people/mark-s-seidenberg/',\n",
       "   'id': u'http://languagelog.ldc.upenn.edu/nll/?p=33364',\n",
       "   'link': u'http://languagelog.ldc.upenn.edu/nll/?p=33364',\n",
       "   'links': [{'href': u'http://languagelog.ldc.upenn.edu/nll/?p=33364',\n",
       "     'rel': u'alternate',\n",
       "     'type': u'text/html'},\n",
       "    {'count': u'4',\n",
       "     'href': u'http://languagelog.ldc.upenn.edu/nll/?p=33364#comments',\n",
       "     'rel': u'replies',\n",
       "     'thr:count': u'4',\n",
       "     'type': u'text/html'},\n",
       "    {'count': u'4',\n",
       "     'href': u'http://languagelog.ldc.upenn.edu/nll/?feed=atom&p=33364',\n",
       "     'rel': u'replies',\n",
       "     'thr:count': u'4',\n",
       "     'type': u'application/atom+xml'}],\n",
       "   'published': u'2017-06-21T17:07:02Z',\n",
       "   'published_parsed': time.struct_time(tm_year=2017, tm_mon=6, tm_mday=21, tm_hour=17, tm_min=7, tm_sec=2, tm_wday=2, tm_yday=172, tm_isdst=0),\n",
       "   'summary': u'When the parents are psycholinguists, the children get exposed to some weird stuff. For example, the Stroop effect (words interfere with naming colors, e.g. GREEN RED BLUE) makes a great 4th grade science project; 9 year olds think it\\u2019s hilarious. There are lots of fun versions of the task (e.g., SKY FROG APPLE) but prudence [&#8230;]',\n",
       "   'summary_detail': {'base': u'http://languagelog.ldc.upenn.edu/nll/wp-atom.php',\n",
       "    'language': u'en-US',\n",
       "    'type': u'text/html',\n",
       "    'value': u'When the parents are psycholinguists, the children get exposed to some weird stuff. For example, the Stroop effect (words interfere with naming colors, e.g. GREEN RED BLUE) makes a great 4th grade science project; 9 year olds think it\\u2019s hilarious. There are lots of fun versions of the task (e.g., SKY FROG APPLE) but prudence [&#8230;]'},\n",
       "   'tags': [{'label': None,\n",
       "     'scheme': u'http://languagelog.ldc.upenn.edu/nll',\n",
       "     'term': u'Humor'},\n",
       "    {'label': None,\n",
       "     'scheme': u'http://languagelog.ldc.upenn.edu/nll',\n",
       "     'term': u'Psycholinguistics'}],\n",
       "   'thr_total': u'4',\n",
       "   'title': u'Faimly Lfie',\n",
       "   'title_detail': {'base': u'http://languagelog.ldc.upenn.edu/nll/wp-atom.php',\n",
       "    'language': u'en-US',\n",
       "    'type': u'text/html',\n",
       "    'value': u'Faimly Lfie'},\n",
       "   'updated': u'2017-06-21T21:00:13Z',\n",
       "   'updated_parsed': time.struct_time(tm_year=2017, tm_mon=6, tm_mday=21, tm_hour=21, tm_min=0, tm_sec=13, tm_wday=2, tm_yday=172, tm_isdst=0)},\n",
       "  {'author': u'Mark Liberman',\n",
       "   'author_detail': {'href': u'http://ling.upenn.edu/~myl',\n",
       "    'name': u'Mark Liberman'},\n",
       "   'authors': [{'href': u'http://ling.upenn.edu/~myl',\n",
       "     'name': u'Mark Liberman'}],\n",
       "   'content': [{'base': u'http://languagelog.ldc.upenn.edu/nll/?p=33355',\n",
       "     'language': u'en-US',\n",
       "     'type': u'text/html',\n",
       "     'value': u'<div id=\"fb-root\"></div>\\n<p><a href=\"http://languagelog.ldc.upenn.edu/myl/FacebookGobble.png\"><img align=\"right\" src=\"http://languagelog.ldc.upenn.edu/myl/FacebookGobble.png\" title=\"Click to embiggen\" width=\"200\" /></a>Adrienne LaFrance, &#8220;<a href=\"https://www.theatlantic.com/technology/archive/2017/06/what-an-ais-non-human-language-actually-looks-like/530934/\" rel=\"noopener\" target=\"_blank\">What an AI&#8217;s Non-Human Language Actually Looks Like</a>&#8220;, <em>The Atlantic</em> 6/20/2017:</p>\\n<p style=\"padding-left: 30px;\"><span style=\"color: #000080;\">Something unexpected happened recently at the Facebook Artificial Intelligence Research lab. Researchers who had been training bots to negotiate with one another realized that the bots, left to their own devices, started communicating in a non-human language. \\xa0[&#8230;]</span></p>\\n<p><span id=\"more-33355\"></span></p>\\n<p style=\"padding-left: 30px;\"><span style=\"color: #000080;\">What does this language actually look like? Here\\u2019s an example of one of the bot negotiations that Facebook observed:</span></p>\\n<p style=\"padding-left: 30px;\"><span style=\"color: #000080;\"><strong>Bob:</strong> i can i i everything else . . . . . . . . . . . . . .</span><br />\\n<span style=\"color: #000080;\"><strong>Alice: </strong>balls have zero to me to me to me to me to me to me to me to me to</span><br />\\n<span style=\"color: #000080;\"><strong>Bob:</strong> you i everything else . . . . . . . . . . . . . .</span><br />\\n<span style=\"color: #000080;\"><strong>Alice: </strong>balls have a ball to me to me to me to me to me to me to me</span><br />\\n<span style=\"color: #000080;\"><strong>Bob:</strong> i i can i i i everything else . . . . . . . . . . . . . .</span><br />\\n<span style=\"color: #000080;\"><strong>Alice: </strong>balls have a ball to me to me to me to me to me to me to me</span><br />\\n<span style=\"color: #000080;\"><strong>Bob:</strong> i . . . . . . . . . . . . . . . . . . .</span><br />\\n<span style=\"color: #000080;\"><strong>Alice: </strong>balls have zero to me to me to me to me to me to me to me to me to</span><br />\\n<span style=\"color: #000080;\"><strong>Bob:</strong> you i i i i i everything else . . . . . . . . . . . . . .</span><br />\\n<span style=\"color: #000080;\"><strong>Alice:</strong> balls have 0 to me to me to me to me to me to me to me to me to</span><br />\\n<span style=\"color: #000080;\"><strong>Bob:</strong> you i i i everything else . . . . . . . . . . . . . .</span><br />\\n<span style=\"color: #000080;\"><strong>Alice: </strong>balls have zero to me to me to me to me to me to me to me to me to</span></p>\\n<p style=\"padding-left: 30px;\"><span style=\"color: #000080;\">Not only does this appear to be nonsense, but the bots don\\u2019t really seem to be getting anywhere in the negotiation. Alice isn\\u2019t budging from her original position, anyway. The weird thing is, Facebook\\u2019s data shows that conversations like this sometimes still led to successful negotiations between the bots in the end, a spokesperson from the AI lab told me. (In other cases, researchers adjusted their model and the bots would develop bad strategies for negotiating\\u2014even if their conversation remained interpretable by human standards.)\\xa0</span></p>\\n<p>This is strikingly reminiscent of Google Translate&#8217;s responses to certain sorts of nonsensical inputs &#8212; and for good reasons. See</p>\\n<p style=\"padding-left: 30px;\">\\u201c<a href=\"http://languagelog.ldc.upenn.edu/nll/?p=32170\" rel=\"noopener noreferrer\" target=\"_blank\">What a tangled web they weave</a>\\u201c, 4/15/2017<br />\\n\\u201c<a href=\"http://languagelog.ldc.upenn.edu/nll/?p=32189\" rel=\"noopener noreferrer\" target=\"_blank\">A long short-term memory of Gertrude Stein</a>\\u201c, 4/16/2017<br />\\n\\u201c<a href=\"http://languagelog.ldc.upenn.edu/nll/?p=32233\" rel=\"noopener noreferrer\" target=\"_blank\">Electric sheep</a>\\u201c, 4/18/2017<br />\\n\\u201c<a href=\"http://languagelog.ldc.upenn.edu/nll/?p=32285\" rel=\"noopener noreferrer\" target=\"_blank\">The sphere of the sphere is the sphere of the sphere</a>\\u201c, 4/22/2017<br />\\n\\u201c<a href=\"http://languagelog.ldc.upenn.edu/nll/?p=32412\" rel=\"noopener noreferrer\" target=\"_blank\">I have gone into my own way</a>\\u201c, 4/27/2017<br />\\n\\u201c<a href=\"http://languagelog.ldc.upenn.edu/nll/?p=32430\" rel=\"noopener noreferrer\" target=\"_blank\">Your gigantic crocodile!</a>\\u201c, 4/28/2017<br />\\n\\u201c<a href=\"http://languagelog.ldc.upenn.edu/nll/?p=32448\" rel=\"noopener noreferrer\" target=\"_blank\">More deep translation arcana</a>\\u201c, 4/30/2017</p>\\n<p>The article&#8217;s author wrote to me this morning to ask some sensible questions, to which I tried to give sensible answers, most of which are quoted &#8212; you should <a href=\"https://www.theatlantic.com/technology/archive/2017/06/what-an-ais-non-human-language-actually-looks-like/530934/\" rel=\"noopener\" target=\"_blank\">read the whole thing</a>. But if you&#8217;re in a hurry, here are her questions and my answers:</p>\\n<p style=\"padding-left: 30px;\"><span style=\"color: #800000;\"><em><strong>1.</strong> Does that truly count as language? </em></span></p>\\n<p style=\"padding-left: 60px;\"><span style=\"color: #800000;\">We have to start by admitting that it&#8217;s not up to linguists to decide how the word &#8220;language&#8221; can be used, though linguists certainly have opinions and arguments about the nature of human languages, and the boundaries of that natural class.</span></p>\\n<p style=\"padding-left: 60px;\"><span style=\"color: #800000;\">Are vernacular languages really capital-L languages, rather than just imperfect approximations to elite languages? All linguists would agree that they are. Are sign languages really Languages rather than just ways to use mime to communicate? Again, everyone agrees that they are. Is &#8220;body language&#8221; really Language in the same sense? Most linguists would say&#8221;no&#8221;, even if they continue to use the term &#8220;body language&#8221;, on the grounds that the gestural dimensions of human spoken communication are different in crucial ways from the core systems of human Language. What about computer languages? Again, it&#8217;s clear that Python and JavaScript are not Languages in the sense that English and Japanese are, but we go on calling them &#8220;computer languages&#8221;.</span></p>\\n<p style=\"padding-left: 60px;\"><span style=\"color: #800000;\">So let&#8217;s divide your question in two:</span></p>\\n<p style=\"padding-left: 30px;\"><span style=\"color: #800000;\"><em><strong>1a.</strong> Is it reasonable to use the ordinary-language word &#8220;language&#8221; to describe the system that the Facebook chatbots apparently evolved?</em></span></p>\\n<p style=\"padding-left: 60px;\"><span style=\"color: #800000;\">Answer: Apparently so. After all, we use that word to describe the ones and zeros of &#8220;machine language&#8221;, which is usually generated by compilers and assemblers for controlling digital hardware, without any humans involved in the process. Though my prediction would be that the Facebook chatbot&#8217;s communication process is pretty ephemeral, in the sense that it&#8217;s a sort of PR stunt built on an experimental accident, and in a few years it won&#8217;t exist even in the sense of having descendants connected by a direct evolutionary chain.</span></p>\\n<p style=\"padding-left: 30px;\"><span style=\"color: #800000;\"><em><strong>1b.</strong> Is the Facebook chatbot&#8217;s evolved version of English (&#8220;Facebotlish&#8221;?) like a new kind of human language, say a future version of English? </em></span></p>\\n<p style=\"padding-left: 60px;\"><span style=\"color: #800000;\">Answer: Probably not, though there&#8217;s not enough information available to tell. In the first place, it&#8217;s entirely text-based, while human languages are all basically spoken (or gestured), with text being an artificial overlay. And beyond that, it&#8217;s unclear that this process yields a system with the kind of word, phrase, and sentence structures characteristic of human languages.</span></p>\\n<p style=\"padding-left: 30px;\"><span style=\"color: #800000;\"><em><strong>2. </strong>Will machines eventually change the definition of &#8220;language&#8221; as we know it?</em></span></p>\\n<p style=\"padding-left: 60px;\"><span style=\"color: #800000;\">Well, there&#8217;s already the well-establish concept of &#8220;computer language&#8221;, which merits a new word sense &#8212; e.g. the OED&#8217;s sense <strong>1.d.</strong> &#8220;Computing. Any of numerous systems of precisely defined symbols and rules devised for writing programs or representing instructions and data that can be processed and executed by a computer.&#8221; And note that some of these systems are specifically devised to be written by computer programs and not by people.</span></p>\\n<p style=\"padding-left: 30px;\"><span style=\"color: #800000;\"><em><strong>3.</strong> Have they already?</em></span></p>\\n<p style=\"padding-left: 60px;\"><span style=\"color: #800000;\">In the above sense, yes.</span></p>\\n<p style=\"padding-left: 60px;\"><span style=\"color: #800000;\">But you should keep in mind that the Facebook chatbots, whatever their performance in specified tasks, are almost certainly not &#8220;intelligent&#8221; in the general sense, or even the leading edge of a durable approach to digital problem-solving. See e.g. <a href=\"http://www.earningmyturns.org/2017/06/a-computational-linguistic-farce-in.html\" rel=\"noopener\" target=\"_blank\">here</a> or <a href=\"http://languagelog.ldc.upenn.edu/nll/?p=32743\" rel=\"noopener\" target=\"_blank\">here</a>&#8230;</span></p>\\n<p style=\"padding-left: 60px;\"><span style=\"color: #800000;\">The &#8220;expert systems&#8221; style of AI programs of the 1970s are at best a historical curiosity now, like the clockwork automata of the 17th century. We can be pretty sure that in a few decades, today&#8217;s machine-learning AI will seem equally quaint.</span></p>\\n<p style=\"padding-left: 60px;\"><span style=\"color: #800000;\">It&#8217;s easy to set up artificial worlds full of algorithmic entities with communications procedures that evolve through a combination of random drift, social convergence, and optimizing selection &#8212; just as it&#8217;s easy to build a clockwork figurine that plays the clavier.</span></p>\\n<p style=\"padding-left: 60px;\"><span style=\"color: #800000;\">Are those Facebook chatbots an example of this? Apparently.</span></p>\\n<p style=\"padding-left: 60px;\"><span style=\"color: #800000;\">Could it be true that at some point digital self-organizing systems will become capable enough to develop their own inter-system communications procedures that evolve over a period of decades or centuries, rather than being scrapped and replaced by human developers starting over again from scratch every few years?</span></p>\\n<p style=\"padding-left: 60px;\"><span style=\"color: #800000;\">Sure. But are the Facebook chatbots the leading edge of this process?</span></p>\\n<p style=\"padding-left: 60px;\"><span style=\"color: #800000;\">I seriously doubt it. Are the bots themselves, and their evolved communication procedures, likely to be around in any directly derived form ten years from now?</span></p>\\n<p style=\"padding-left: 60px;\"><span style=\"color: #800000;\">I&#8217;m willing to bet a substantial sum that the answer is &#8220;no&#8221;.</span></p>\\n<p>I probably should have written &#8220;&#8230;clockwork automata of the 18th century&#8221; &#8212; I misdated the androids in\\xa0<a href=\"https://hss.sas.upenn.edu/people/adelheid-voskuhl\" rel=\"noopener\" target=\"_blank\">Adelheid Voskuhl&#8217;</a>s work (e.g. <a href=\"https://books.google.com/books?id=tcw2dd3uTl0C\" rel=\"noopener\" target=\"_blank\">Androids in the Enlightenment</a>) by assimilating it to Descartes&#8217; discussion of whether animals are automata.</p>\\n<p>&nbsp;</p>'}],\n",
       "   'guidislink': False,\n",
       "   'href': u'http://ling.upenn.edu/~myl',\n",
       "   'id': u'http://languagelog.ldc.upenn.edu/nll/?p=33355',\n",
       "   'link': u'http://languagelog.ldc.upenn.edu/nll/?p=33355',\n",
       "   'links': [{'href': u'http://languagelog.ldc.upenn.edu/nll/?p=33355',\n",
       "     'rel': u'alternate',\n",
       "     'type': u'text/html'},\n",
       "    {'count': u'7',\n",
       "     'href': u'http://languagelog.ldc.upenn.edu/nll/?p=33355#comments',\n",
       "     'rel': u'replies',\n",
       "     'thr:count': u'7',\n",
       "     'type': u'text/html'},\n",
       "    {'count': u'7',\n",
       "     'href': u'http://languagelog.ldc.upenn.edu/nll/?feed=atom&p=33355',\n",
       "     'rel': u'replies',\n",
       "     'thr:count': u'7',\n",
       "     'type': u'application/atom+xml'}],\n",
       "   'published': u'2017-06-20T21:29:17Z',\n",
       "   'published_parsed': time.struct_time(tm_year=2017, tm_mon=6, tm_mday=20, tm_hour=21, tm_min=29, tm_sec=17, tm_wday=1, tm_yday=171, tm_isdst=0),\n",
       "   'summary': u'Adrienne LaFrance, &#8220;What an AI&#8217;s Non-Human Language Actually Looks Like&#8220;, The Atlantic 6/20/2017: Something unexpected happened recently at the Facebook Artificial Intelligence Research lab. Researchers who had been training bots to negotiate with one another realized that the bots, left to their own devices, started communicating in a non-human language. \\xa0[&#8230;] What does this language [&#8230;]',\n",
       "   'summary_detail': {'base': u'http://languagelog.ldc.upenn.edu/nll/wp-atom.php',\n",
       "    'language': u'en-US',\n",
       "    'type': u'text/html',\n",
       "    'value': u'Adrienne LaFrance, &#8220;What an AI&#8217;s Non-Human Language Actually Looks Like&#8220;, The Atlantic 6/20/2017: Something unexpected happened recently at the Facebook Artificial Intelligence Research lab. Researchers who had been training bots to negotiate with one another realized that the bots, left to their own devices, started communicating in a non-human language. \\xa0[&#8230;] What does this language [&#8230;]'},\n",
       "   'tags': [{'label': None,\n",
       "     'scheme': u'http://languagelog.ldc.upenn.edu/nll',\n",
       "     'term': u'Computational linguistics'},\n",
       "    {'label': None,\n",
       "     'scheme': u'http://languagelog.ldc.upenn.edu/nll',\n",
       "     'term': u'Humor'}],\n",
       "   'thr_total': u'7',\n",
       "   'title': u'&#8220;balls have zero to me to me to me to me to me to me to me to me to&#8221;',\n",
       "   'title_detail': {'base': u'http://languagelog.ldc.upenn.edu/nll/wp-atom.php',\n",
       "    'language': u'en-US',\n",
       "    'type': u'text/html',\n",
       "    'value': u'&#8220;balls have zero to me to me to me to me to me to me to me to me to&#8221;'},\n",
       "   'updated': u'2017-06-20T22:09:19Z',\n",
       "   'updated_parsed': time.struct_time(tm_year=2017, tm_mon=6, tm_mday=20, tm_hour=22, tm_min=9, tm_sec=19, tm_wday=1, tm_yday=171, tm_isdst=0)},\n",
       "  {'author': u'Victor Mair',\n",
       "   'author_detail': {'href': u'https://www.sas.upenn.edu/ealc/mair',\n",
       "    'name': u'Victor Mair'},\n",
       "   'authors': [{'href': u'https://www.sas.upenn.edu/ealc/mair',\n",
       "     'name': u'Victor Mair'}],\n",
       "   'content': [{'base': u'http://languagelog.ldc.upenn.edu/nll/?p=33333',\n",
       "     'language': u'en-US',\n",
       "     'type': u'text/html',\n",
       "     'value': u'<div id=\"fb-root\"></div>\\n<p>I say &#8220;in Taiwan&#8221;, because this word, \\u963f\\u6c99\\u529b, is both in Taiwan Mandarin, where it is pronounced \\u0101sh\\u0101l\\xec, and in Taiwanese, where it is pronounced at<sub id=\"yui_3_16_0_1_1497247250481_6563\">3</sub>sa<sub id=\"yui_3_16_0_1_1497247250481_6564\">5</sub><sub id=\"yui_3_16_0_1_1497247250481_6565\">5</sub>lih<sub id=\"yui_3_16_0_1_1497247250481_6566\">3</sub>.</p>\\n<p>This is a very common expression in Taiwan, where it is used as the name of restaurants, for instant noodles, beverages, and other products, but most of all to describe someone&#8217;s personality.</p>\\n<p><span id=\"more-33333\"></span></p>\\n<p>Nick Kaldis says that it is a behavior to which he aspires and wonders whether it is originally Japanese (more about that later).\\xa0 He and his wife (from Hsinchu) are used to calling someone \\u0101sh\\u0101l\\xec \\u963f\\u6c99\\u529b in a very positive way, when their personality is assertive and also very much like this\\xa0<b>aSaLi</b>\\xa0stocking brand defines it:</p>\\n<p style=\"padding-left: 30px;\">&#8220;\\u0100sh\\u0101l\\xec&#8221; su\\u01d2 t\\u012bng q\\u01d0l\\xe1i de g\\u01cenju\\xe9 z\\xe9 sh\\xec x\\xedngr\\xf3ng w\\xe9i r\\xe9n ch\\u01d4sh\\xec h\\u01ceo xi\\u0101ngch\\u01d4, h\\xe1oshu\\u01ceng b\\xf9j\\u016b xi\\u01ceoji\\xe9 de t\\xe1iw\\u0101n r\\xe9n x\\xecngg\\xe9.</p>\\n<p style=\"padding-left: 30px;\">&#8220;\\u963f\\u6c99\\u529b&#8221;\\u6240\\u807d\\u8d77\\u4f86\\u7684\\u611f\\u89ba\\u5247\\u662f\\u5f62\\u5bb9\\u70ba\\u4eba\\u8655\\u4e8b\\u597d\\u76f8\\u8655\\u3001\\u8c6a\\u723d\\u4e0d\\u62d8\\u5c0f\\u7bc0\\u7684\\u53f0\\u7063\\u4eba\\u6027\\u683c.</p>\\n<p style=\"padding-left: 30px;\">&#8220;The feeling that you get when you hear the word &#8216;\\u0101sh\\u0101l\\xec&#8217; describes a person who does things in such a way that it is easy to get along with them, is forthright and doesn&#8217;t get hung up on trifles &#8212; the typical Taiwan personality.</p>\\n<p>Because it is so protean and ineffable, \\u0101sh\\u0101l\\xec \\u963f\\u6c99\\u529b is hard to define and all the harder to translate.</p>\\n<p>The first two comments below are characterizations of \\u0101sh\\u0101l\\xec \\u963f\\u6c99\\u529b by native Taiwanese.</p>\\n<p>Sophie Ling-chia Wei:</p>\\n<p style=\"padding-left: 30px;\">It is very commonly used in today&#8217;s daily conversation to indicate that someone is very sharp and decisive. Originally it should be a transliteration/ transcription of the word &#8220;assertive&#8221; into Japanese*. Then it kept being used very frequently in Taiwanese with the pronunciation &#8220;assari.&#8221; In modern society, in Taiwan Mandarin, it is transcribed with Chinese characters as \\u0101sh\\u0101l\\xec \\u963f\\u6c99\\u529b or \\u0101sh\\u0101l\\xec \\u963f\\u838e\\u529b to indicate someone is g\\u0101ncu\\xec \\u4e7e\\u8106 (&#8220;straightforward&#8221;), zh\\xedji\\u0113 \\u76f4\\u63a5 (&#8220;direct&#8221;), shu\\u01cengku\\xe0i \\u723d\\u5feb (&#8220;frank&#8221;), gu\\u01d2du\\xe0n \\u679c\\u65b7 (&#8220;decisive&#8221;), and b\\xf9 tu\\u014dn\\xedd\\xe0ishu\\u01d0 \\u4e0d\\u62d6\\u6ce5\\u5e36\\u6c34 (&#8220;doesn&#8217;t beat around the bush&#8221;). Interesting, now this term \\u0101sh\\u0101l\\xec \\u963f\\u838e\\u529b is even borrowed by Mainlanders as a brand name.</p>\\n<p style=\"padding-left: 30px;\">*VHM:\\xa0 This is a fairly common claim in Taiwan, but we shall call it into question later on in this post.</p>\\n<p>Melvin Lee:</p>\\n<p style=\"padding-left: 30px;\">As far as I know, \\u0101sh\\u0101l\\xec \\u963f\\u6c99\\u529b is definitely a loanword from the\\xa0Japanese word assari \\u3042\\u3063\\u3055\\u308a and is often used\\xa0to describe an &#8220;honest, direct, easy to get along with&#8221; personality. Here is <a href=\"http://words.chinese-linguipedia.org/viewtopic.php?f=4&amp;t=3023\">a link to the definition of this term</a>.</p>\\n<p style=\"padding-left: 30px;\">I am not sure if the\\xa0Japanese word\\xa0\\u3042\\u3063\\u3055\\u308a is in turn a loan word from the English word &#8220;assertive&#8221;. However, \\u0101sh\\u0101l\\xec \\u963f\\u6c99\\u529b does include the meaning of &#8220;being\\xa0assertive.&#8221; For example, when a person is having a difficult time making a decision, his/her friends may urge him/her to be more \\u0101sh\\u0101l\\xec \\u963f\\u6c99\\u529b. Interestingly though, this word is much more associated with males than females. I think this fact reflects the gender culture in Japan and maybe other Asian countries as well\\xa0where men are encouraged to be more straightforward and decisive.</p>\\n<p>Linda Chance:</p>\\n<p style=\"padding-left: 30px;\">This looks like an interesting case in which Taiwanese writers felt compelled to assign graphs and ended up with a conversion, if not perversion, of the meaning. I have never seen this word written with <a href=\"https://en.wikipedia.org/wiki/Ateji\">ateji</a> [VHM:\\xa0 kanji used to represent the sounds of native or borrowed words in Japanese without much regard to their meaning]), and those would not be the choice for them, certainly. Assari \\u3042\\u3063\\u3055\\u308a\\u3001assarishita \\u3042\\u3063\\u3055\\u308a\\u3057\\u305f are used to describe the kind of food one would want to eat today, when the temperature is going up over ninety, something light and refreshing, or people who are not bogged down in heavy emotions during some encounter. &#8220;Assertive&#8221; is on the other end of the continuum, if anywhere, with respect to assari \\u3042\\u3063\\u3055\\u308a.</p>\\n<p style=\"padding-left: 30px;\">As for coming from English, it could not be via Japanese, as it does not fulfill the most basic sound conversion rules. &#8220;Sa&#8221; would have to be &#8220;se&#8221; and &#8220;ri&#8221; would have to be &#8220;ru&#8221;, and I suspect that if the form were clipped, it would not be at the &#8220;ru&#8221; either, but after the &#8220;chi&#8221; that would be called for, even if it were a case of a borrowed onomatopoeic (for which I can&#8217;t think of an example).</p>\\n<p>Nathan Hopson</p>\\n<p style=\"padding-left: 30px;\">Assari \\u3042\\u3063\\u3055\\u308a is a mimetic word (<em>gitaigo</em> \\u64ec\\u614b\\u8a9e) in Japanese.<br />\\nAs a flavor, it is \\u201csimple and light, w/o acid\\u201d.<br />\\n* Add a bit of vinegar to get \\u3055\\u3063\\u3071\\u308a (<em>sappari</em>)<br />\\nPerhaps it is best described as the opposite of <em>shitsukoi</em> \\u3057\\u3064\\u3053\\u3044, which means \\u201cinsistent/persistent, cloying, repetitive, etc.\\u201d (all negative), because this applies to both flavor and attitude/personality.</p>\\n<p style=\"padding-left: 30px;\">My JC dictionary (Poketto puroguresshibu Nit-Ch\\u016b jiten \\u30dd\\u30b1\\u30c3\\u30c8\\u30d7\\u30ed\\u30b0\\u30ec\\u30c3\\u30b7\\u30d6\\u65e5\\u4e2d\\u8f9e\\u5178 (<em>Pocket Progressive JC Dictionary</em>) gives:</p>\\n<p style=\"padding-left: 60px;\">d\\xe0nb\\xf3 \\u6de1\\u6cca (\\u201cindifferent\\u201d);\\uff3b\\u304b\\u3093\\u305f\\u3093 \\u7c21\\u5358\\u306b\\uff3dji\\u01cend\\u0101n \\u7b80\\u5355 (\\u201csimple\\u201d)</p>\\n<p style=\"padding-left: 60px;\">\\uff5eshita s\\u016bpu \\u3057\\u305f\\u30b9\\u30fc\\u30d7<br />\\nq\\u012bngd\\xe0n de t\\u0101ng \\u6e05\\u6de1\\u7684\\u6c64 (\\u201csimple / light / plain soup\\u201d)<br />\\n\\uff5eto kotowarareru \\u3068\\u65ad(\\u3053\\u3068\\u308f)\\u3089\\u308c\\u308b<br />\\n\\u65ad\\u7136\\u62d2\\u7edd (\\u201cdecisively / categorically refuse\\u201d)</p>\\n<p style=\"padding-left: 30px;\">According to <em>Nihon kokugo daijiten</em> \\u65e5\\u672c\\u56fd\\u8a9e\\u5927\\u8f9e\\u5178 (Unabridged dictionary of the Japanese National Language), there are multiple etymological hypotheses for assari \\u3042\\u3063\\u3055\\u308a, among which is that it is a mimetic variation on asai \\u6d45\\u3044 (\\u201cshallow\\u201d). The \\u3063\\u308a [VHM: doubling of the consonant + -ri] is a common mimetic ending.</p>\\n<p style=\"padding-left: 30px;\">As to whether \\u0101sh\\u0101l\\xec \\u963f\\u838e\\u529b is a borrowing from English or Japanese, I don\\u2019t think there\\u2019s any doubt that it\\u2019s Japanese. Historically and linguistically, it makes more sense. It\\u2019s the standard explanation given by <a href=\"https://en.wiktionary.org/wiki/%E9%98%BF%E8%8E%8E%E5%8A%9B\">Wiktionary</a>, for example.</p>\\n<p style=\"padding-left: 30px;\">Here is an example from an article [<a href=\"https://ir.lib.hiroshima-u.ac.jp/files/public/3/32511/20141016190405397829/AjiaShakaiBunka-Kenkyu_13_173.pdf\">pdf</a>] in Japanese by a Taiwanese researcher on Sino-Taiwanese linguistic difference.\\xa0 I can translate the relevant section if necessary, but the basic point here is that assari is clearly marked as Japanese.</p>\\n<div>\\n<p>Although Mandarin \\u0101sh\\u0101l\\xec / Taiwanese at<sub id=\"yui_3_16_0_1_1497247250481_6563\">3</sub>sa<sub id=\"yui_3_16_0_1_1497247250481_6564\">5</sub><sub id=\"yui_3_16_0_1_1497247250481_6565\">5</sub>lih<sub id=\"yui_3_16_0_1_1497247250481_6566\">3 </sub>\\u963f\\u6c99\\u529b is derived from Japanese assari, its meaning has shifted significantly, from &#8220;easily; readily; quickly; frankly; openheartedly; lightly (flavored food, applied makeup)&#8221; in the latter to &#8220;straightforward; direct; frank; decisive; doesn&#8217;t beat around the bush&#8221; in the former.\\xa0 So far as I am aware, \\u0101sh\\u0101l\\xec / at<sub id=\"yui_3_16_0_1_1497247250481_6563\">3</sub>sa<sub id=\"yui_3_16_0_1_1497247250481_6564\">5</sub><sub id=\"yui_3_16_0_1_1497247250481_6565\">5</sub>lih<sub id=\"yui_3_16_0_1_1497247250481_6566\">3 </sub>\\u963f\\u6c99\\u529b is not used to describe a flavor or taste of food directly the way assari is (when \\u0101sh\\u0101l\\xec / at<sub id=\"yui_3_16_0_1_1497247250481_6563\">3</sub>sa<sub id=\"yui_3_16_0_1_1497247250481_6564\">5</sub><sub id=\"yui_3_16_0_1_1497247250481_6565\">5</sub>lih<sub id=\"yui_3_16_0_1_1497247250481_6566\">3 </sub>\\u963f\\u6c99\\u529b is applied to foods, restaurants, etc., it is not about the taste or flavor; rather, it is borrowing the positive personality trait to valorize the food, restaurant, etc.).\\xa0 Perhaps it would not be too far off the mark to say that every borrowing is an adaptation.</p>\\n</div>\\n<p>[Thanks to Grace Wu and Edward McDonald]</p>'}],\n",
       "   'guidislink': False,\n",
       "   'href': u'https://www.sas.upenn.edu/ealc/mair',\n",
       "   'id': u'http://languagelog.ldc.upenn.edu/nll/?p=33333',\n",
       "   'link': u'http://languagelog.ldc.upenn.edu/nll/?p=33333',\n",
       "   'links': [{'href': u'http://languagelog.ldc.upenn.edu/nll/?p=33333',\n",
       "     'rel': u'alternate',\n",
       "     'type': u'text/html'},\n",
       "    {'count': u'4',\n",
       "     'href': u'http://languagelog.ldc.upenn.edu/nll/?p=33333#comments',\n",
       "     'rel': u'replies',\n",
       "     'thr:count': u'4',\n",
       "     'type': u'text/html'},\n",
       "    {'count': u'4',\n",
       "     'href': u'http://languagelog.ldc.upenn.edu/nll/?feed=atom&p=33333',\n",
       "     'rel': u'replies',\n",
       "     'thr:count': u'4',\n",
       "     'type': u'application/atom+xml'}],\n",
       "   'published': u'2017-06-20T04:38:08Z',\n",
       "   'published_parsed': time.struct_time(tm_year=2017, tm_mon=6, tm_mday=20, tm_hour=4, tm_min=38, tm_sec=8, tm_wday=1, tm_yday=171, tm_isdst=0),\n",
       "   'summary': u'I say &#8220;in Taiwan&#8221;, because this word, \\u963f\\u6c99\\u529b, is both in Taiwan Mandarin, where it is pronounced \\u0101sh\\u0101l\\xec, and in Taiwanese, where it is pronounced at3sa55lih3. This is a very common expression in Taiwan, where it is used as the name of restaurants, for instant noodles, beverages, and other products, but most of all to [&#8230;]',\n",
       "   'summary_detail': {'base': u'http://languagelog.ldc.upenn.edu/nll/wp-atom.php',\n",
       "    'language': u'en-US',\n",
       "    'type': u'text/html',\n",
       "    'value': u'I say &#8220;in Taiwan&#8221;, because this word, \\u963f\\u6c99\\u529b, is both in Taiwan Mandarin, where it is pronounced \\u0101sh\\u0101l\\xec, and in Taiwanese, where it is pronounced at3sa55lih3. This is a very common expression in Taiwan, where it is used as the name of restaurants, for instant noodles, beverages, and other products, but most of all to [&#8230;]'},\n",
       "   'tags': [{'label': None,\n",
       "     'scheme': u'http://languagelog.ldc.upenn.edu/nll',\n",
       "     'term': u'Borrowing'},\n",
       "    {'label': None,\n",
       "     'scheme': u'http://languagelog.ldc.upenn.edu/nll',\n",
       "     'term': u'Onomatopoeia'},\n",
       "    {'label': None,\n",
       "     'scheme': u'http://languagelog.ldc.upenn.edu/nll',\n",
       "     'term': u'Semantics'}],\n",
       "   'thr_total': u'4',\n",
       "   'title': u'Assari &gt; ashali, a Japanese mimetic loanword in Taiwan',\n",
       "   'title_detail': {'base': u'http://languagelog.ldc.upenn.edu/nll/wp-atom.php',\n",
       "    'language': u'en-US',\n",
       "    'type': u'text/html',\n",
       "    'value': u'Assari &gt; ashali, a Japanese mimetic loanword in Taiwan'},\n",
       "   'updated': u'2017-06-20T04:38:08Z',\n",
       "   'updated_parsed': time.struct_time(tm_year=2017, tm_mon=6, tm_mday=20, tm_hour=4, tm_min=38, tm_sec=8, tm_wday=1, tm_yday=171, tm_isdst=0)},\n",
       "  {'author': u'Mark Liberman',\n",
       "   'author_detail': {'href': u'http://ling.upenn.edu/~myl',\n",
       "    'name': u'Mark Liberman'},\n",
       "   'authors': [{'href': u'http://ling.upenn.edu/~myl',\n",
       "     'name': u'Mark Liberman'}],\n",
       "   'content': [{'base': u'http://languagelog.ldc.upenn.edu/nll/?p=33344',\n",
       "     'language': u'en-US',\n",
       "     'type': u'text/html',\n",
       "     'value': u'<div id=\"fb-root\"></div>\\n<p>&#8220;<a href=\"http://www.espn.com/nfl/story/_/id/19678652/supreme-court-gives-washington-redskins-boost-name-fight\" rel=\"noopener\" target=\"_blank\">Supreme Court rules government can&#8217;t refuse disparaging trademarks</a>&#8220;, ESPN:</p>\\n<p style=\"padding-left: 30px;\"><span style=\"color: #000080;\">The Supreme Court on Monday struck down part of a law that bans offensive trademarks in a ruling that is expected to help the Redskins in their legal fight over the team name. </span></p>\\n<p style=\"padding-left: 30px;\"><span style=\"color: #000080;\">The justices ruled that the 71-year-old trademark law barring disparaging terms infringes free speech rights. </span></p>\\n<p style=\"padding-left: 30px;\"><span style=\"color: #000080;\">The ruling is a victory for the Asian-American rock band called the Slants, but the case was closely watched for the impact it would have on the separate dispute involving the Washington football team.</span></p>\\n<p><span id=\"more-33344\"></span></p>\\n<p>The opinion&#8217;s &#8220;syllabus&#8221; is <a href=\"https://www.supremecourt.gov/opinions/16pdf/15-1293_1o13.pdf\" rel=\"noopener\" target=\"_blank\">here:</a></p>\\n<p style=\"padding-left: 30px;\"><span style=\"color: #800000;\">Simon Tam, lead singer of the rock group \\u201cThe Slants,\\u201d chose this moniker in order to \\u201creclaim\\u201d the term and drain its denigrating force as a derogatory term for Asian persons. Tam sought federal registration of the mark \\u201cTHE SLANTS.\\u201d The Patent and Trademark Office (PTO) denied the application under a Lanham Act provision prohibiting the registration of trademarks that may \\u201cdisparage . . . or bring . . . into contemp[t] or disrepute\\u201d any \\u201cpersons, living or dead.\\u201d 15 U. S. C. \\xa71052(a). Tam contested the denial of registration through the administrative appeals process, to no avail. He then took the\\xa0</span><span style=\"color: #800000;\">case to federal court, where the en banc Federal Circuit ultimately found the disparagement clause facially unconstitutional under the First Amendment\\u2019s Free Speech Clause.</span></p>\\n<p style=\"padding-left: 30px;\"><span style=\"color: #800000;\">Held: The judgment is affirmed.</span></p>\\n<p>Some reelvant LLOG posts:</p>\\n<p>\\u201c<a href=\"http://itre.cis.upenn.edu/~myl/languagelog/archives/000029.html\" rel=\"noopener\" target=\"_blank\">Fenimore Cooper, call your office</a>\\u201c, 10/7/2003<br />\\n\\u201c<a href=\"http://itre.cis.upenn.edu/~myl/languagelog/archives/000035.html\" rel=\"noopener\" target=\"_blank\">The conventions for expressive content words</a>\\u201c, 10/11/2003<br />\\n\\u201c<a href=\"http://itre.cis.upenn.edu/~myl/languagelog/archives/000360.html\" rel=\"noopener\" target=\"_blank\">Of limes and racial epithets</a>\\u201c, 1/18/2004<br />\\n\\u201c<a href=\"http://itre.cis.upenn.edu/~myl/languagelog/archives/002194.html\" rel=\"noopener\" target=\"_blank\">Mascot names and etymology</a>\\u201c, 5/25/2004<br />\\n\\u201c<a href=\"http://itre.cis.upenn.edu/~myl/languagelog/archives/002333.html\" rel=\"noopener\" target=\"_blank\">Disparaging trademarks and the lexicography of tools</a>\\u201c, 7/16/2005<br />\\n\\u201c<a href=\"http://itre.cis.upenn.edu/~myl/languagelog/archives/002338.html\" rel=\"noopener\" target=\"_blank\">Adverbial license</a>\\u201c, 7/17/2005<br />\\n\\u201c<a href=\"http://itre.cis.upenn.edu/~myl/languagelog/archives/002961.html\" rel=\"noopener\" target=\"_blank\">The origin of redskin</a>\\u201c, 3/26/2006<br />\\n\\u201c<a href=\"http://languagelog.ldc.upenn.edu/nll/?p=1961\" rel=\"noopener\" target=\"_blank\">When should linguists disclose a conflict?</a>\\u201c, 12/15/2009<br />\\n\\u201c<a href=\"http://languagelog.ldc.upenn.edu/nll/?p=8001\" rel=\"noopener\" target=\"_blank\">The Slants vs. the USPTO</a>\\u201c, 8/21/2013<br />\\n&#8220;<a href=\"http://languagelog.ldc.upenn.edu/nll/?p=13042\" rel=\"noopener\" target=\"_blank\">&#8216;Redskins&#8217; ruled disparaging</a>&#8220;, 6/18/2014</p>\\n<p>&nbsp;</p>'}],\n",
       "   'guidislink': False,\n",
       "   'href': u'http://ling.upenn.edu/~myl',\n",
       "   'id': u'http://languagelog.ldc.upenn.edu/nll/?p=33344',\n",
       "   'link': u'http://languagelog.ldc.upenn.edu/nll/?p=33344',\n",
       "   'links': [{'href': u'http://languagelog.ldc.upenn.edu/nll/?p=33344',\n",
       "     'rel': u'alternate',\n",
       "     'type': u'text/html'},\n",
       "    {'count': u'16',\n",
       "     'href': u'http://languagelog.ldc.upenn.edu/nll/?p=33344#comments',\n",
       "     'rel': u'replies',\n",
       "     'thr:count': u'16',\n",
       "     'type': u'text/html'},\n",
       "    {'count': u'16',\n",
       "     'href': u'http://languagelog.ldc.upenn.edu/nll/?feed=atom&p=33344',\n",
       "     'rel': u'replies',\n",
       "     'thr:count': u'16',\n",
       "     'type': u'application/atom+xml'}],\n",
       "   'published': u'2017-06-19T15:19:31Z',\n",
       "   'published_parsed': time.struct_time(tm_year=2017, tm_mon=6, tm_mday=19, tm_hour=15, tm_min=19, tm_sec=31, tm_wday=0, tm_yday=170, tm_isdst=0),\n",
       "   'summary': u'&#8220;Supreme Court rules government can&#8217;t refuse disparaging trademarks&#8220;, ESPN: The Supreme Court on Monday struck down part of a law that bans offensive trademarks in a ruling that is expected to help the Redskins in their legal fight over the team name. The justices ruled that the 71-year-old trademark law barring disparaging terms infringes free [&#8230;]',\n",
       "   'summary_detail': {'base': u'http://languagelog.ldc.upenn.edu/nll/wp-atom.php',\n",
       "    'language': u'en-US',\n",
       "    'type': u'text/html',\n",
       "    'value': u'&#8220;Supreme Court rules government can&#8217;t refuse disparaging trademarks&#8220;, ESPN: The Supreme Court on Monday struck down part of a law that bans offensive trademarks in a ruling that is expected to help the Redskins in their legal fight over the team name. The justices ruled that the 71-year-old trademark law barring disparaging terms infringes free [&#8230;]'},\n",
       "   'tags': [{'label': None,\n",
       "     'scheme': u'http://languagelog.ldc.upenn.edu/nll',\n",
       "     'term': u'Language and the law'}],\n",
       "   'thr_total': u'16',\n",
       "   'title': u'Disparaging trademarks',\n",
       "   'title_detail': {'base': u'http://languagelog.ldc.upenn.edu/nll/wp-atom.php',\n",
       "    'language': u'en-US',\n",
       "    'type': u'text/html',\n",
       "    'value': u'Disparaging trademarks'},\n",
       "   'updated': u'2017-06-19T22:21:08Z',\n",
       "   'updated_parsed': time.struct_time(tm_year=2017, tm_mon=6, tm_mday=19, tm_hour=22, tm_min=21, tm_sec=8, tm_wday=0, tm_yday=170, tm_isdst=0)},\n",
       "  {'author': u'Mark Liberman',\n",
       "   'author_detail': {'href': u'http://ling.upenn.edu/~myl',\n",
       "    'name': u'Mark Liberman'},\n",
       "   'authors': [{'href': u'http://ling.upenn.edu/~myl',\n",
       "     'name': u'Mark Liberman'}],\n",
       "   'content': [{'base': u'http://languagelog.ldc.upenn.edu/nll/?p=33337',\n",
       "     'language': u'en-US',\n",
       "     'type': u'text/html',\n",
       "     'value': u'<div id=\"fb-root\"></div>\\n<p>In an interview yesterday with Chris Wallace, did Donald Trump&#8217;s lawyer Jay Sekulow state that the president is being investigated by Robert Mueller (&#8220;<a href=\"http://www.foxnews.com/transcript/2017/06/18/jay-sekulow-on-reports-bob-mueller-has-widened-investigation.html\" target=\"_blank\">Jay Sekulow on reports Bob Mueller has widened investigation</a>&#8220;, Fox News 6/18/2017)? It certainly sounds like he did:</p>\\n<p><audio controls=\"controls\" style=\"width: 230px;\"><source src=\"http://languagelog.ldc.upenn.edu/myl/WallaceSekulowX1a.wav\" type=\"audio/wav\" />Your browser does not support the audio element.</audio></p>\\n<p>But Chris Wallace is frustrated to find that a few seconds later, Sekulow nevertheless asserts that he didn&#8217;t say any such thing. </p>\\n<p><audio controls=\"controls\" style=\"width: 230px;\"><source src=\"http://languagelog.ldc.upenn.edu/myl/WallaceSekulowX1b.wav\" type=\"audio/wav\" />Your browser does not support the audio element.</audio><br />\\n<span id=\"more-33337\"></span></p>\\n<p>Sekulow has a plausible argument that his apparent factual assertion &#8220;&#8230;now he&#8217;s being investigated&#8230;&#8221; was in the middle of an implicitly hypothetical discussion of constitutional issues that would arise if he were being investigated.</p>\\n<p>It&#8217;s much less clear that Donald Trump&#8217;s tweeted statement &#8220;I am being investigated&#8221; was hypothetical:</p>\\n<blockquote class=\"twitter-tweet\">\\n<p dir=\"ltr\" lang=\"en\">I am being investigated for firing the FBI Director by the man who told me to fire the FBI Director! Witch Hunt</p>\\n<p>&mdash; Donald J. Trump (@realDonaldTrump) <a href=\"https://twitter.com/realDonaldTrump/status/875701471999864833\">June 16, 2017</a></p></blockquote>\\n<p></p>\\n<p>So Mr. Sekulow may not have directly contradicted himself within the span of a few seconds, but he certainly failed to prevent Chris Wallace from coming to that conclusion, and also failed to avoid supporting some negative stereotypes of lawyers.</p>\\n<p>Since Sekulow is not a stupid or verbally inept person, this puzzles me. Or was his purpose to focus attention on the question of whether or not there&#8217;s an investigation, and the meta-question of whether or not Sekulow admitted there&#8217;s an investigation, rather than on the issues that an investigation may be investigating?</p>\\n<p>Here&#8217;s the whole context, or at least the whole context as broadcast by Fox News:</p>\\n<p><noscript>Watch the latest video at <a href=\"http://video.foxnews.com\">video.foxnews.com</a></noscript></p>'}],\n",
       "   'guidislink': False,\n",
       "   'href': u'http://ling.upenn.edu/~myl',\n",
       "   'id': u'http://languagelog.ldc.upenn.edu/nll/?p=33337',\n",
       "   'link': u'http://languagelog.ldc.upenn.edu/nll/?p=33337',\n",
       "   'links': [{'href': u'http://languagelog.ldc.upenn.edu/nll/?p=33337',\n",
       "     'rel': u'alternate',\n",
       "     'type': u'text/html'},\n",
       "    {'href': u'http://languagelog.ldc.upenn.edu/myl/WallaceSekulowX1a.wav',\n",
       "     'length': u'729708',\n",
       "     'rel': u'enclosure',\n",
       "     'type': u'audio/wav'},\n",
       "    {'href': u'http://languagelog.ldc.upenn.edu/myl/WallaceSekulowX1b.wav',\n",
       "     'length': u'248590',\n",
       "     'rel': u'enclosure',\n",
       "     'type': u'audio/wav'},\n",
       "    {'count': u'7',\n",
       "     'href': u'http://languagelog.ldc.upenn.edu/nll/?p=33337#comments',\n",
       "     'rel': u'replies',\n",
       "     'thr:count': u'7',\n",
       "     'type': u'text/html'},\n",
       "    {'count': u'7',\n",
       "     'href': u'http://languagelog.ldc.upenn.edu/nll/?feed=atom&p=33337',\n",
       "     'rel': u'replies',\n",
       "     'thr:count': u'7',\n",
       "     'type': u'application/atom+xml'}],\n",
       "   'published': u'2017-06-19T11:26:12Z',\n",
       "   'published_parsed': time.struct_time(tm_year=2017, tm_mon=6, tm_mday=19, tm_hour=11, tm_min=26, tm_sec=12, tm_wday=0, tm_yday=170, tm_isdst=0),\n",
       "   'summary': u'In an interview yesterday with Chris Wallace, did Donald Trump&#8217;s lawyer Jay Sekulow state that the president is being investigated by Robert Mueller (&#8220;Jay Sekulow on reports Bob Mueller has widened investigation&#8220;, Fox News 6/18/2017)? It certainly sounds like he did: Your browser does not support the audio element. But Chris Wallace is frustrated to [&#8230;]',\n",
       "   'summary_detail': {'base': u'http://languagelog.ldc.upenn.edu/nll/wp-atom.php',\n",
       "    'language': u'en-US',\n",
       "    'type': u'text/html',\n",
       "    'value': u'In an interview yesterday with Chris Wallace, did Donald Trump&#8217;s lawyer Jay Sekulow state that the president is being investigated by Robert Mueller (&#8220;Jay Sekulow on reports Bob Mueller has widened investigation&#8220;, Fox News 6/18/2017)? It certainly sounds like he did: Your browser does not support the audio element. But Chris Wallace is frustrated to [&#8230;]'},\n",
       "   'tags': [{'label': None,\n",
       "     'scheme': u'http://languagelog.ldc.upenn.edu/nll',\n",
       "     'term': u'Language and the law'}],\n",
       "   'thr_total': u'7',\n",
       "   'title': u'Investigations, hypothetical and otherwise',\n",
       "   'title_detail': {'base': u'http://languagelog.ldc.upenn.edu/nll/wp-atom.php',\n",
       "    'language': u'en-US',\n",
       "    'type': u'text/html',\n",
       "    'value': u'Investigations, hypothetical and otherwise'},\n",
       "   'updated': u'2017-06-19T11:28:20Z',\n",
       "   'updated_parsed': time.struct_time(tm_year=2017, tm_mon=6, tm_mday=19, tm_hour=11, tm_min=28, tm_sec=20, tm_wday=0, tm_yday=170, tm_isdst=0)},\n",
       "  {'author': u'Victor Mair',\n",
       "   'author_detail': {'href': u'https://www.sas.upenn.edu/ealc/mair',\n",
       "    'name': u'Victor Mair'},\n",
       "   'authors': [{'href': u'https://www.sas.upenn.edu/ealc/mair',\n",
       "     'name': u'Victor Mair'}],\n",
       "   'content': [{'base': u'http://languagelog.ldc.upenn.edu/nll/?p=33286',\n",
       "     'language': u'en-US',\n",
       "     'type': u'text/html',\n",
       "     'value': u'<div id=\"fb-root\"></div>\\n<p>In the &#8220;<span class=\"flytitle-and-title__flytitle\">Cultural disappropriation&#8221; section of the current <i>The Economist</i>, there&#8217;s an entertaining and informative article on the latest attempt to purify Turkish:</span></p>\\n<p class=\"blog-post__rubric\" style=\"padding-left: 30px;\">&#8220;<a href=\"http://www.economist.com/news/europe/21723448-new-step-recep-tayyip-erdogans-campaign-against-foreign-influences-turkeys-president-wants\"><span class=\"flytitle-and-title__title\">Turkey\\u2019s president wants to purge Western words from its language</span></a>:\\xa0 A new step in Recep Tayyip Erdogan\\u2019s campaign against foreign influences&#8221;</p>\\n<p>The whole business is both humorous and hopeless:</p>\\n<p><span id=\"more-33286\"></span></p>\\n<p style=\"padding-left: 30px;\">Mr Erdogan started by ordering the word \\u201carena\\u201d, which reminded him of ancient Roman depravity, removed from sports venues across the country. Turkey\\u2019s biggest teams complied overnight. Vodafone Arena, home of the Besiktas football club, woke up as \\u201cVodafone Stadyumu\\u201d. Critics wondered what the Turkish language had gained by replacing one foreign-derived word with another.</p>\\n<p>This is not the first time in modern Turkish history that a strong leader has set out to purify the Turkish language of alien elements.\\xa0 The founder of the Turkish Republic, Kemal Ataturk, did it in the thirties, when he attempted to rid the mother tongue not only of words having Arabic or Persian roots, but discarding the Perso-Arabic alphabet in which they were written as well.\\xa0 For details see Geoffrey Lewis, <i>The Turkish Language Reform: A Catastrophic Success</i> (Oxford Linguistics) (1999; new ed., 2002).</p>\\n<p>Here are the last two paragraphs of <i>The Economist</i> article:</p>\\n<p style=\"padding-left: 30px;\">Because so much abstract vocabulary had come from Arabic and Persian, this in effect created a new language. From one generation to the next, the country\\u2019s cultural history was cut off. Mr Erdogan seems to want to turn the clock back, complete with imperial nostalgia and resentment towards the West. In 2014 he proposed introducing mandatory high-school classes in Ottoman Turkish, which survives today only among linguists, historians and clerics. The plan was shelved after a popular backlash.</p>\\n<p style=\"padding-left: 30px;\">The offensive against Western loanwords will probably meet a similar fate. In an interview, the TDK\\u2019s* head, Mustafa Kacalin, clarified that it would apply only to \\u201cbizarre\\u201d foreign words incomprehensible to most Turks. The limits became clear in Mr Erdogan\\u2019s own speech on May 23rd, in which he denounced loanwords by using a loanword. They were not, he said, \\u201c<em class=\"Italic\">sik</em>\\u201d (\\u201cchic\\u201d). Many Turks no doubt consider the whole thing a load of bosh\\u2014from the Turkish <em class=\"Italic\">bos</em>, \\u201cnonsense\\u201d.</p>\\n<p style=\"padding-left: 30px;\">*TDK = Turkish Language Institute</p>\\n<p>I&#8217;m afraid that, no matter how hard Erdogan or any other purist huffs and puffs, they will not be able to blow away the foreign building blocks which have been used in the construction of the house that is Turkish.\\xa0 I am the proud owner of the big Redhouse Turkish-English dictionary (I also have on the shelves of my library the Redhouse English-Turkish dictionary which is nearly as large &#8212; both of them are around twelve hundred pages in length).\\xa0 Looking through the pages of Redhouse, I see an enormous number of words from Persian, Arabic, Greek, French, Spanish, English, German, Albanian, Armenian, Hebrew, Russian, Polish, Hungarian, Bulgarian, Serbo-Croatian, Romany, Chinese, Japanese, and Malay (sorry if I missed something).</p>\\n<p>The same is true of other modern Turkic languages besides Anatolian Turkish.\\xa0 Henry G. Schwarz&#8217;s <i>An Uyghur-English Dictionary</i>, about a thousand pages long, is full of words borrowed from Arabic and Persian.\\xa0 As much as 75% of the vocabulary of Uyghur is Perso-Arabic.\\xa0 During the 20th century Russian words came flooding in, and now Chinese is having a heavy impact.</p>\\n<p>If we go back to the earliest traceable stage of the Turkic lexicon, as collected in Gerard Clauson&#8217;s <i>An Etymological Dictionary of Pre-thirteenth-century Turkish</i> (Clarendon, 1972) and other works of scholarship on early Turkic,\\xa0 we find words derived from many languages, including Indic (Sanskrit), Iranic (Sogdian, Khotanese), Mongolic / Khitan, Samoyedic, and Sinitic (here again I may have missed some).\\xa0 The language that served as the source of a number of Old Turkic words that intrigued me the most when I was perusing Clauson was Tocharian, since it may have been derived from the speech of the Bronze Age mummies of Eastern Central Asia and plays such an important role in discussions of the early development of Indo-European (&#8220;<a href=\"http://languagelog.ldc.upenn.edu/nll/?p=843\" rel=\"bookmark\" title=\"Permanent link to Early Indo-Europeans in Xinjiang\">Early Indo-Europeans in Xinjiang</a>&#8221; [11/19/08]).</p>\\n<p>Is there any language on earth today that is &#8220;pure&#8221; in the sense of having no lexical borrowings or other types of influences of any sort from other languages?</p>\\n<p>[Thanks to Juha Janhunen and Marcel Erdal]</p>'}],\n",
       "   'guidislink': False,\n",
       "   'href': u'https://www.sas.upenn.edu/ealc/mair',\n",
       "   'id': u'http://languagelog.ldc.upenn.edu/nll/?p=33286',\n",
       "   'link': u'http://languagelog.ldc.upenn.edu/nll/?p=33286',\n",
       "   'links': [{'href': u'http://languagelog.ldc.upenn.edu/nll/?p=33286',\n",
       "     'rel': u'alternate',\n",
       "     'type': u'text/html'},\n",
       "    {'count': u'24',\n",
       "     'href': u'http://languagelog.ldc.upenn.edu/nll/?p=33286#comments',\n",
       "     'rel': u'replies',\n",
       "     'thr:count': u'24',\n",
       "     'type': u'text/html'},\n",
       "    {'count': u'24',\n",
       "     'href': u'http://languagelog.ldc.upenn.edu/nll/?feed=atom&p=33286',\n",
       "     'rel': u'replies',\n",
       "     'thr:count': u'24',\n",
       "     'type': u'application/atom+xml'}],\n",
       "   'published': u'2017-06-19T02:35:59Z',\n",
       "   'published_parsed': time.struct_time(tm_year=2017, tm_mon=6, tm_mday=19, tm_hour=2, tm_min=35, tm_sec=59, tm_wday=0, tm_yday=170, tm_isdst=0),\n",
       "   'summary': u'In the &#8220;Cultural disappropriation&#8221; section of the current The Economist, there&#8217;s an entertaining and informative article on the latest attempt to purify Turkish: &#8220;Turkey\\u2019s president wants to purge Western words from its language:\\xa0 A new step in Recep Tayyip Erdogan\\u2019s campaign against foreign influences&#8221; The whole business is both humorous and hopeless: Mr Erdogan started [&#8230;]',\n",
       "   'summary_detail': {'base': u'http://languagelog.ldc.upenn.edu/nll/wp-atom.php',\n",
       "    'language': u'en-US',\n",
       "    'type': u'text/html',\n",
       "    'value': u'In the &#8220;Cultural disappropriation&#8221; section of the current The Economist, there&#8217;s an entertaining and informative article on the latest attempt to purify Turkish: &#8220;Turkey\\u2019s president wants to purge Western words from its language:\\xa0 A new step in Recep Tayyip Erdogan\\u2019s campaign against foreign influences&#8221; The whole business is both humorous and hopeless: Mr Erdogan started [&#8230;]'},\n",
       "   'tags': [{'label': None,\n",
       "     'scheme': u'http://languagelog.ldc.upenn.edu/nll',\n",
       "     'term': u'Borrowing'},\n",
       "    {'label': None,\n",
       "     'scheme': u'http://languagelog.ldc.upenn.edu/nll',\n",
       "     'term': u'Etymology'},\n",
       "    {'label': None,\n",
       "     'scheme': u'http://languagelog.ldc.upenn.edu/nll',\n",
       "     'term': u'Evolution of language'},\n",
       "    {'label': None,\n",
       "     'scheme': u'http://languagelog.ldc.upenn.edu/nll',\n",
       "     'term': u'Language reform'}],\n",
       "   'thr_total': u'24',\n",
       "   'title': u'Putting the kibosh on bosh',\n",
       "   'title_detail': {'base': u'http://languagelog.ldc.upenn.edu/nll/wp-atom.php',\n",
       "    'language': u'en-US',\n",
       "    'type': u'text/html',\n",
       "    'value': u'Putting the kibosh on bosh'},\n",
       "   'updated': u'2017-06-19T02:35:59Z',\n",
       "   'updated_parsed': time.struct_time(tm_year=2017, tm_mon=6, tm_mday=19, tm_hour=2, tm_min=35, tm_sec=59, tm_wday=0, tm_yday=170, tm_isdst=0)},\n",
       "  {'author': u'Mark Liberman',\n",
       "   'author_detail': {'href': u'http://ling.upenn.edu/~myl',\n",
       "    'name': u'Mark Liberman'},\n",
       "   'authors': [{'href': u'http://ling.upenn.edu/~myl',\n",
       "     'name': u'Mark Liberman'}],\n",
       "   'content': [{'base': u'http://languagelog.ldc.upenn.edu/nll/?p=33321',\n",
       "     'language': u'en-US',\n",
       "     'type': u'text/html',\n",
       "     'value': u'<div id=\"fb-root\"></div>\\n<p>A reader from India, apparently not satisfied with the responses from <a href=\"http://www.salon.com/2015/04/10/anne_lamott_shares_all_that_she_knows_everyone_is_screwed_up_broken_clingy_and_scared/\" rel=\"noopener\" target=\"_blank\">WordReference</a> and <a href=\"https://ell.stackexchange.com/questions/132089/they-kill-as-many-people-as-not-what-words-are-omitted\" rel=\"noopener\" target=\"_blank\">StackExchange</a>, writes to express his problem with the phrase &#8220;They kill as many people as not&#8221;, found in an article by Anne Lamott (&#8220;<a href=\"http://www.salon.com/2015/04/10/anne_lamott_shares_all_that_she_knows_everyone_is_screwed_up_broken_clingy_and_scared/\" rel=\"noopener\" target=\"_blank\">Anne Lamott shares all that she knows: &#8216;Everyone is screwed up, broken, clingy, and scared&#8217;</a>&#8220;, <em>Salon</em> 4/10/2015).</p>\\n<p>&#8220;As many people as __&#8221; is routine, so presumably the problem is &#8220;as not&#8221;.</p>\\n<p><span id=\"more-33321\"></span></p>\\n<p>And in fact &#8220;as not&#8221; is also routine, though it&#8217;s an example of a somewhat restricted construction &#8212; sometimes <em>not</em> can be the elliptical remnant of a negative verb phrase or a whole negative clause:</p>\\n<p style=\"padding-left: 10px;\">This kills as many people as it does not kill. = This kills as many people as not.<br />\\nAs many people agreed as did not agree. = As many people agreed as not.</p>\\n<p>This kind of ellipsis doesn&#8217;t work in all contexts:</p>\\n<p style=\"padding-left: 10px;\">*We registered the people who agreed and also the people who not.</p>\\n<p>Particular instances have become common collocations, or even idioms &#8212; thus <em>as often as not</em> can be used as a pre-predicate adverb, as in this passage from M.R. James, &#8220;<a href=\"https://books.google.com/books?id=VPsLAAAAIAAJ&amp;lpg=PA346&amp;ots=tYKtOzQXfh&amp;dq=%22as%20often%20as%20not%22&amp;pg=PA346#v=onepage&amp;q=%22as%20often%20as%20not%22&amp;f=false\" rel=\"noopener\" target=\"_blank\">The Austin Canons in England in the Twelfth Century</a>&#8220;,\\xa0<em>Journal of Theological Studies</em> 1904:</p>\\n<p style=\"padding-left: 30px;\"><span style=\"color: #000080;\">Nor most we be led away by the term Minster, and imagine that there were numerous small isolated monasteries in the kingdom. In the time of Beda we know that there were settlements of a vague kind of monasticism, but the head of these houses was <strong>as often as not</strong> married and the churches had been handed down from Either to son, and they had by this time fallen into the hands of those who were called secular clergy and were <strong>as often as not</strong> married men. The term Minster, as we have it in Ilminster, Charminster, Axminster, Banwell Minster, Cheddar Minster, seems to denote a church to which a resident priest was attached. The several Whitchurches in the south-west of England are all called Album Mooasterium and <strong>as often as no</strong>t Whytminster.</span></p>\\n<p>In &#8220;<a href=\"https://books.google.com/books?id=6O3DAgAAQBAJ&amp;lpg=PA301&amp;ots=LTQFj1FFhw&amp;dq=%22as%20often%20as%20not%22&amp;pg=PA301#v=onepage&amp;f=false\" rel=\"noopener\" target=\"_blank\">A Vocabulary of Thinking</a>&#8221; Gertrude Stein turned this into a sort of verbal finger spinner: &#8220;As often as not as often as not they as often as not were to be going away.&#8221;</p>\\n<p>But anyhow, &#8220;as many people as not&#8221; is Out There:</p>\\n<p style=\"padding-left: 30px;\">[<a href=\"https://www.theproducersperspective.com/my_weblog/2014/03/why-i-enjoyed-broadway-shows-more-as-a-kid.html#comment-98040\" rel=\"noopener\" target=\"_blank\">link</a>] Hype cuts both ways and may turn off as many people as not.</p>\\n<p style=\"padding-left: 30px;\">[<a href=\"http://sustainablecities.org.nz/wp-content/uploads/Build120-Pg42-43.pdf\" rel=\"noopener\" target=\"_blank\">link</a>] Three times as many people as not favour mixed-use, smart growth communities, but most still want to live in a stand-alone house.</p>\\n<p style=\"padding-left: 30px;\">[<a href=\"http://theinboxjaunt.com/2015/03/05/why-so-many-of-us-cant-stipple-or-meander/\" rel=\"noopener\" target=\"_blank\">link</a>] These methods work for just as many people as not.</p>\\n<p style=\"padding-left: 30px;\">[<a href=\"https://www.tripadvisor.com/ShowTopic-g147365-i261-k3478260-Bringing_a_cooler_of_frozen_meats-Grand_Cayman_Cayman_Islands.html\" rel=\"noopener\" target=\"_blank\">link</a>] It seems that as many people as not who go there do the same &#8211; I actually got the idea from reading the Bahamas forums here on Tripadvisor.</p>\\n<p>And &#8220;as many X as not&#8221; is of course more common:</p>\\n<p style=\"padding-left: 30px;\">[<a href=\"https://drhurd.com/2012/11/05/obama-once-stood-for-change-now-stagnation/\" rel=\"noopener\" target=\"_blank\">link</a>] Either way, the verdict already seems clear that as many Americans as not are defaulting to the mediocre in principle, not merely in practice.</p>\\n<p style=\"padding-left: 30px;\">[<a href=\"http://smileypete.com/business/2013-03-19-commentary-annual-sessions-of-legislature-have-proven-a-failure/\" rel=\"noopener\" target=\"_blank\">link</a>] So almost as many voters as not were seasoned enough in Kentucky politics to know that the mention of an efficient and effective Frankfort is no more than an oxymoron.</p>\\n<p style=\"padding-left: 30px;\">[<a href=\"http://roadsandkingdoms.com/2014/15-things-to-know-before-you-go-vienna/\" rel=\"noopener\" target=\"_blank\">link</a>] Nudist beaches and camps (Freie Koerper Kultur or \\u2018free body culture\\u2019) are common all over the county, and in most public swimming places, as many women as not will be topless.</p>\\n<p>So I hope that the curious person from India will be satisfied with this explanation. But <a href=\"https://genius.com/Car-seat-headrest-if-not-then-oh-well-lyrics\" rel=\"noopener\" target=\"_blank\">If Not, Then Oh Well</a>.</p>'}],\n",
       "   'guidislink': False,\n",
       "   'href': u'http://ling.upenn.edu/~myl',\n",
       "   'id': u'http://languagelog.ldc.upenn.edu/nll/?p=33321',\n",
       "   'link': u'http://languagelog.ldc.upenn.edu/nll/?p=33321',\n",
       "   'links': [{'href': u'http://languagelog.ldc.upenn.edu/nll/?p=33321',\n",
       "     'rel': u'alternate',\n",
       "     'type': u'text/html'},\n",
       "    {'count': u'12',\n",
       "     'href': u'http://languagelog.ldc.upenn.edu/nll/?p=33321#comments',\n",
       "     'rel': u'replies',\n",
       "     'thr:count': u'12',\n",
       "     'type': u'text/html'},\n",
       "    {'count': u'12',\n",
       "     'href': u'http://languagelog.ldc.upenn.edu/nll/?feed=atom&p=33321',\n",
       "     'rel': u'replies',\n",
       "     'thr:count': u'12',\n",
       "     'type': u'application/atom+xml'}],\n",
       "   'published': u'2017-06-18T13:49:55Z',\n",
       "   'published_parsed': time.struct_time(tm_year=2017, tm_mon=6, tm_mday=18, tm_hour=13, tm_min=49, tm_sec=55, tm_wday=6, tm_yday=169, tm_isdst=0),\n",
       "   'summary': u'A reader from India, apparently not satisfied with the responses from WordReference and StackExchange, writes to express his problem with the phrase &#8220;They kill as many people as not&#8221;, found in an article by Anne Lamott (&#8220;Anne Lamott shares all that she knows: &#8216;Everyone is screwed up, broken, clingy, and scared&#8217;&#8220;, Salon 4/10/2015). &#8220;As many [&#8230;]',\n",
       "   'summary_detail': {'base': u'http://languagelog.ldc.upenn.edu/nll/wp-atom.php',\n",
       "    'language': u'en-US',\n",
       "    'type': u'text/html',\n",
       "    'value': u'A reader from India, apparently not satisfied with the responses from WordReference and StackExchange, writes to express his problem with the phrase &#8220;They kill as many people as not&#8221;, found in an article by Anne Lamott (&#8220;Anne Lamott shares all that she knows: &#8216;Everyone is screwed up, broken, clingy, and scared&#8217;&#8220;, Salon 4/10/2015). &#8220;As many [&#8230;]'},\n",
       "   'tags': [{'label': None,\n",
       "     'scheme': u'http://languagelog.ldc.upenn.edu/nll',\n",
       "     'term': u'Usage'}],\n",
       "   'thr_total': u'12',\n",
       "   'title': u'&#8220;As many people as not&#8221;',\n",
       "   'title_detail': {'base': u'http://languagelog.ldc.upenn.edu/nll/wp-atom.php',\n",
       "    'language': u'en-US',\n",
       "    'type': u'text/html',\n",
       "    'value': u'&#8220;As many people as not&#8221;'},\n",
       "   'updated': u'2017-06-18T13:49:55Z',\n",
       "   'updated_parsed': time.struct_time(tm_year=2017, tm_mon=6, tm_mday=18, tm_hour=13, tm_min=49, tm_sec=55, tm_wday=6, tm_yday=169, tm_isdst=0)},\n",
       "  {'author': u'Geoffrey K. Pullum',\n",
       "   'author_detail': {'href': u'http://ling.ed.ac.uk/~gpullum/index.html',\n",
       "    'name': u'Geoffrey K. Pullum'},\n",
       "   'authors': [{'href': u'http://ling.ed.ac.uk/~gpullum/index.html',\n",
       "     'name': u'Geoffrey K. Pullum'}],\n",
       "   'content': [{'base': u'http://languagelog.ldc.upenn.edu/nll/?p=33308',\n",
       "     'language': u'en-US',\n",
       "     'type': u'text/html',\n",
       "     'value': u'<div id=\"fb-root\"></div>\\n<p>The <em>Daily Telegraph</em> did not do much for its reputation, at least in my eyes, when it <a href=\"http://languagelog.ldc.upenn.edu/nll/?p=33300\">confused the defense with the prosecution after a celebrity sexual assault mistrial</a>. Nor when it recently consulted me about whether there were grammar mistakes on a banknote, learned that there clearly were not, but <a href=\"http://www.chronicle.com/blogs/linguafranca/2017/05/03/grammar-blunders-and-journalistic-discourtesy/\">went ahead and published the claim that there were anyway</a>.  Now for a <a href=\"http://www.telegraph.co.uk/health-fitness/nutrition/diet/eating-chips-doubles-chances-death-study/?WT.mc_id=tmgoff_fb_tmg\">sample of the <em>Telegraph</em>&#8216;s science reporting</a>, written by Adam Boult, who I suspect didn&#8217;t complete his statistics course:<br />\\n <a href=\"http://languagelog.ldc.upenn.edu/nll/wp-content/uploads/2017/06/chipdeath.png\"><img alt=\"\" class=\"alignleft size-full wp-image-33309\" height=\"245\" src=\"http://languagelog.ldc.upenn.edu/nll/wp-content/uploads/2017/06/chipdeath.png\" width=\"500\" /></a><br /><span id=\"more-33308\"></span></p>\\n<p>That&#8217;s right: although your probability of dying is one hundred percent, just like mine, the <em>Telegraph</em> has found a study saying you can double it by eating french fries. </p>\\n<p><a href=\"http://languagelog.ldc.upenn.edu/nll/wp-content/uploads/2017/06/may_eating_chips.png\"><img alt=\"\" class=\"alignleft size-full wp-image-33315\" height=\"223\" src=\"http://languagelog.ldc.upenn.edu/nll/wp-content/uploads/2017/06/may_eating_chips.png\" style=\"border: 8px solid white;\" width=\"235\" /></a></p>\\n<p>On the left you can see the <em>Telegraph</em>&#8216;s picture of Britain&#8217;s brave prime minister courting death by eating fries regardless (why antagonize the fast food industry when you lack a majority in parliament).  I will not bother to go through the business of correcting the math and explaining what the study really said, because that has been nicely done in an <a href=\"https://health.spectator.co.uk/ignore-the-lazy-headlines-chips-dont-double-your-chances-of-death/\">article in <em>The Spectator</em> by Christopher Snowdon</a>. Suffice it to say that just when I think I&#8217;ve seen the dumbest science story headline ever, along comes a dumber one.</p>'}],\n",
       "   'guidislink': False,\n",
       "   'href': u'http://ling.ed.ac.uk/~gpullum/index.html',\n",
       "   'id': u'http://languagelog.ldc.upenn.edu/nll/?p=33308',\n",
       "   'link': u'http://languagelog.ldc.upenn.edu/nll/?p=33308',\n",
       "   'links': [{'href': u'http://languagelog.ldc.upenn.edu/nll/?p=33308',\n",
       "     'rel': u'alternate',\n",
       "     'type': u'text/html'}],\n",
       "   'published': u'2017-06-18T11:00:48Z',\n",
       "   'published_parsed': time.struct_time(tm_year=2017, tm_mon=6, tm_mday=18, tm_hour=11, tm_min=0, tm_sec=48, tm_wday=6, tm_yday=169, tm_isdst=0),\n",
       "   'summary': u'The Daily Telegraph did not do much for its reputation, at least in my eyes, when it confused the defense with the prosecution after a celebrity sexual assault mistrial. Nor when it recently consulted me about whether there were grammar mistakes on a banknote, learned that there clearly were not, but went ahead and published [&#8230;]',\n",
       "   'summary_detail': {'base': u'http://languagelog.ldc.upenn.edu/nll/wp-atom.php',\n",
       "    'language': u'en-US',\n",
       "    'type': u'text/html',\n",
       "    'value': u'The Daily Telegraph did not do much for its reputation, at least in my eyes, when it confused the defense with the prosecution after a celebrity sexual assault mistrial. Nor when it recently consulted me about whether there were grammar mistakes on a banknote, learned that there clearly were not, but went ahead and published [&#8230;]'},\n",
       "   'tags': [{'label': None,\n",
       "     'scheme': u'http://languagelog.ldc.upenn.edu/nll',\n",
       "     'term': u'Language and science'},\n",
       "    {'label': None,\n",
       "     'scheme': u'http://languagelog.ldc.upenn.edu/nll',\n",
       "     'term': u'Language and the media'},\n",
       "    {'label': None,\n",
       "     'scheme': u'http://languagelog.ldc.upenn.edu/nll',\n",
       "     'term': u'Silliness'},\n",
       "    {'label': None,\n",
       "     'scheme': u'http://languagelog.ldc.upenn.edu/nll',\n",
       "     'term': u'The language of science'}],\n",
       "   'title': u'Death by french fries',\n",
       "   'title_detail': {'base': u'http://languagelog.ldc.upenn.edu/nll/wp-atom.php',\n",
       "    'language': u'en-US',\n",
       "    'type': u'text/html',\n",
       "    'value': u'Death by french fries'},\n",
       "   'updated': u'2017-06-18T11:00:48Z',\n",
       "   'updated_parsed': time.struct_time(tm_year=2017, tm_mon=6, tm_mday=18, tm_hour=11, tm_min=0, tm_sec=48, tm_wday=6, tm_yday=169, tm_isdst=0)},\n",
       "  {'author': u'Mark Liberman',\n",
       "   'author_detail': {'href': u'http://ling.upenn.edu/~myl',\n",
       "    'name': u'Mark Liberman'},\n",
       "   'authors': [{'href': u'http://ling.upenn.edu/~myl',\n",
       "     'name': u'Mark Liberman'}],\n",
       "   'content': [{'base': u'http://languagelog.ldc.upenn.edu/nll/?p=33295',\n",
       "     'language': u'en-US',\n",
       "     'type': u'text/html',\n",
       "     'value': u'<div id=\"fb-root\"></div>\\n<p></p>\\n<p>Of course there are many words in any language that are similarly protean. In English, try &#8220;Okay&#8221;. Or just &#8220;mm&#8221;&#8230;</p>'}],\n",
       "   'guidislink': False,\n",
       "   'href': u'http://ling.upenn.edu/~myl',\n",
       "   'id': u'http://languagelog.ldc.upenn.edu/nll/?p=33295',\n",
       "   'link': u'http://languagelog.ldc.upenn.edu/nll/?p=33295',\n",
       "   'links': [{'href': u'http://languagelog.ldc.upenn.edu/nll/?p=33295',\n",
       "     'rel': u'alternate',\n",
       "     'type': u'text/html'},\n",
       "    {'count': u'12',\n",
       "     'href': u'http://languagelog.ldc.upenn.edu/nll/?p=33295#comments',\n",
       "     'rel': u'replies',\n",
       "     'thr:count': u'12',\n",
       "     'type': u'text/html'},\n",
       "    {'count': u'12',\n",
       "     'href': u'http://languagelog.ldc.upenn.edu/nll/?feed=atom&p=33295',\n",
       "     'rel': u'replies',\n",
       "     'thr:count': u'12',\n",
       "     'type': u'application/atom+xml'}],\n",
       "   'published': u'2017-06-17T17:53:02Z',\n",
       "   'published_parsed': time.struct_time(tm_year=2017, tm_mon=6, tm_mday=17, tm_hour=17, tm_min=53, tm_sec=2, tm_wday=5, tm_yday=168, tm_isdst=0),\n",
       "   'summary': u'Of course there are many words in any language that are similarly protean. In English, try &#8220;Okay&#8221;. Or just &#8220;mm&#8221;&#8230;',\n",
       "   'summary_detail': {'base': u'http://languagelog.ldc.upenn.edu/nll/wp-atom.php',\n",
       "    'language': u'en-US',\n",
       "    'type': u'text/html',\n",
       "    'value': u'Of course there are many words in any language that are similarly protean. In English, try &#8220;Okay&#8221;. Or just &#8220;mm&#8221;&#8230;'},\n",
       "   'tags': [{'label': None,\n",
       "     'scheme': u'http://languagelog.ldc.upenn.edu/nll',\n",
       "     'term': u'Humor'},\n",
       "    {'label': None,\n",
       "     'scheme': u'http://languagelog.ldc.upenn.edu/nll',\n",
       "     'term': u'Lost in translation'}],\n",
       "   'thr_total': u'12',\n",
       "   'title': u'The most important word in Finnish',\n",
       "   'title_detail': {'base': u'http://languagelog.ldc.upenn.edu/nll/wp-atom.php',\n",
       "    'language': u'en-US',\n",
       "    'type': u'text/html',\n",
       "    'value': u'The most important word in Finnish'},\n",
       "   'updated': u'2017-06-17T17:53:02Z',\n",
       "   'updated_parsed': time.struct_time(tm_year=2017, tm_mon=6, tm_mday=17, tm_hour=17, tm_min=53, tm_sec=2, tm_wday=5, tm_yday=168, tm_isdst=0)},\n",
       "  {'author': u'Geoffrey K. Pullum',\n",
       "   'author_detail': {'href': u'http://ling.ed.ac.uk/~gpullum/index.html',\n",
       "    'name': u'Geoffrey K. Pullum'},\n",
       "   'authors': [{'href': u'http://ling.ed.ac.uk/~gpullum/index.html',\n",
       "     'name': u'Geoffrey K. Pullum'}],\n",
       "   'content': [{'base': u'http://languagelog.ldc.upenn.edu/nll/?p=33300',\n",
       "     'language': u'en-US',\n",
       "     'type': u'text/html',\n",
       "     'value': u'<div id=\"fb-root\"></div>\\n<p>A truly Freudian slip in a <a href=\"http://www.telegraph.co.uk/news/2017/06/17/bill-cosby-case-ends-mistrial-jury-fail-agree-verdict-sexual/\">story in the UK conservative newspaper the <em>Daily Telegraph</em></a>, speaking volumes about what goes wrong with so many rape and sexual assault prosecutions: </p>\\n<blockquote>\\n<p>Camille Cosby, wife of the entertainer, issued a statement, read out by an associate on the court steps in a dramatically-delivered speech. </p>\\n<p>She attacked the judge as biased, and said the defence were &#8220;totally unethical.&#8221; </p>\\n</blockquote>\\n<p>The defense? Andrea Constand and the other brave women who have accused Bill Cosby (they say he drugged them so he could enjoy sexual gratification without their consent) were not in the dock, and the lawyers arguing their case were not the defense team, but the prosecutors. The <em>Telegraph</em> journalist, Harriet Alexander, has apparently reversed the roles of the accused&#8217;s defense and the district attorney.<span id=\"more-33300\"></span></p>\\n<p>Women who have been assaulted have often reported feeling like they are the ones on trial. Here is the <em>Telegraph</em> actually putting it that way in cold newsprint (attributed wrongly to Camille Cosby).</p>\\n<p>The error is apparently down to Harriet Alexander (and of course the <em>Telegraph</em> editors who failed to spot what she had written). <a href=\"http://abcnews.go.com/Entertainment/camille-cosby-calls-district-attorney-exploitively-ambitious-celebs/story?id=48103303\">ABC News</a>, for example, reports Mrs Cosby as saying: &#8220;How do I describe the counsels for the accusers? Totally unethical.&#8221; In the UK, the <a href=\"https://www.theguardian.com/world/2017/jun/17/bill-cosby-sexual-assault-case-ends-mistrial-hung-jury\">Guardian</a> also has it right. Likewise all other accounts I can find.</p>\\n<p>I don&#8217;t know whether the <em>Telegraph</em> is yet aware of the slip, but at 5 p.m. UK time (noon Eastern time) it is still online. I conclude with the obligatory screenshot:</p>\\n<p><a href=\"http://languagelog.ldc.upenn.edu/nll/wp-content/uploads/2017/06/cosbyslip.png\"><img alt=\"\" class=\"alignleft size-full wp-image-33301\" height=\"131\" src=\"http://languagelog.ldc.upenn.edu/nll/wp-content/uploads/2017/06/cosbyslip.png\" width=\"570\" /></a></p>'}],\n",
       "   'guidislink': False,\n",
       "   'href': u'http://ling.ed.ac.uk/~gpullum/index.html',\n",
       "   'id': u'http://languagelog.ldc.upenn.edu/nll/?p=33300',\n",
       "   'link': u'http://languagelog.ldc.upenn.edu/nll/?p=33300',\n",
       "   'links': [{'href': u'http://languagelog.ldc.upenn.edu/nll/?p=33300',\n",
       "     'rel': u'alternate',\n",
       "     'type': u'text/html'}],\n",
       "   'published': u'2017-06-17T16:27:55Z',\n",
       "   'published_parsed': time.struct_time(tm_year=2017, tm_mon=6, tm_mday=17, tm_hour=16, tm_min=27, tm_sec=55, tm_wday=5, tm_yday=168, tm_isdst=0),\n",
       "   'summary': u'A truly Freudian slip in a story in the UK conservative newspaper the Daily Telegraph, speaking volumes about what goes wrong with so many rape and sexual assault prosecutions: Camille Cosby, wife of the entertainer, issued a statement, read out by an associate on the court steps in a dramatically-delivered speech. She attacked the judge [&#8230;]',\n",
       "   'summary_detail': {'base': u'http://languagelog.ldc.upenn.edu/nll/wp-atom.php',\n",
       "    'language': u'en-US',\n",
       "    'type': u'text/html',\n",
       "    'value': u'A truly Freudian slip in a story in the UK conservative newspaper the Daily Telegraph, speaking volumes about what goes wrong with so many rape and sexual assault prosecutions: Camille Cosby, wife of the entertainer, issued a statement, read out by an associate on the court steps in a dramatically-delivered speech. She attacked the judge [&#8230;]'},\n",
       "   'tags': [{'label': None,\n",
       "     'scheme': u'http://languagelog.ldc.upenn.edu/nll',\n",
       "     'term': u'Errors'},\n",
       "    {'label': None,\n",
       "     'scheme': u'http://languagelog.ldc.upenn.edu/nll',\n",
       "     'term': u'Language and politics'},\n",
       "    {'label': None,\n",
       "     'scheme': u'http://languagelog.ldc.upenn.edu/nll',\n",
       "     'term': u'Language and the law'},\n",
       "    {'label': None,\n",
       "     'scheme': u'http://languagelog.ldc.upenn.edu/nll',\n",
       "     'term': u'Language and the media'},\n",
       "    {'label': None,\n",
       "     'scheme': u'http://languagelog.ldc.upenn.edu/nll',\n",
       "     'term': u'Semantics'}],\n",
       "   'title': u'Defense counsel for the victim?',\n",
       "   'title_detail': {'base': u'http://languagelog.ldc.upenn.edu/nll/wp-atom.php',\n",
       "    'language': u'en-US',\n",
       "    'type': u'text/html',\n",
       "    'value': u'Defense counsel for the victim?'},\n",
       "   'updated': u'2017-06-17T16:29:07Z',\n",
       "   'updated_parsed': time.struct_time(tm_year=2017, tm_mon=6, tm_mday=17, tm_hour=16, tm_min=29, tm_sec=7, tm_wday=5, tm_yday=168, tm_isdst=0)},\n",
       "  {'author': u'Mark Liberman',\n",
       "   'author_detail': {'href': u'http://ling.upenn.edu/~myl',\n",
       "    'name': u'Mark Liberman'},\n",
       "   'authors': [{'href': u'http://ling.upenn.edu/~myl',\n",
       "     'name': u'Mark Liberman'}],\n",
       "   'content': [{'base': u'http://languagelog.ldc.upenn.edu/nll/?p=33291',\n",
       "     'language': u'en-US',\n",
       "     'type': u'text/html',\n",
       "     'value': u'<div id=\"fb-root\"></div>\\n\\n<p>&nbsp;</p>\\n<p>&nbsp;</p>'}],\n",
       "   'guidislink': False,\n",
       "   'href': u'http://ling.upenn.edu/~myl',\n",
       "   'id': u'http://languagelog.ldc.upenn.edu/nll/?p=33291',\n",
       "   'link': u'http://languagelog.ldc.upenn.edu/nll/?p=33291',\n",
       "   'links': [{'href': u'http://languagelog.ldc.upenn.edu/nll/?p=33291',\n",
       "     'rel': u'alternate',\n",
       "     'type': u'text/html'},\n",
       "    {'count': u'3',\n",
       "     'href': u'http://languagelog.ldc.upenn.edu/nll/?p=33291#comments',\n",
       "     'rel': u'replies',\n",
       "     'thr:count': u'3',\n",
       "     'type': u'text/html'},\n",
       "    {'count': u'3',\n",
       "     'href': u'http://languagelog.ldc.upenn.edu/nll/?feed=atom&p=33291',\n",
       "     'rel': u'replies',\n",
       "     'thr:count': u'3',\n",
       "     'type': u'application/atom+xml'}],\n",
       "   'published': u'2017-06-17T14:52:25Z',\n",
       "   'published_parsed': time.struct_time(tm_year=2017, tm_mon=6, tm_mday=17, tm_hour=14, tm_min=52, tm_sec=25, tm_wday=5, tm_yday=168, tm_isdst=0),\n",
       "   'summary': u'&#160; &#160;',\n",
       "   'summary_detail': {'base': u'http://languagelog.ldc.upenn.edu/nll/wp-atom.php',\n",
       "    'language': u'en-US',\n",
       "    'type': u'text/html',\n",
       "    'value': u'&#160; &#160;'},\n",
       "   'tags': [{'label': None,\n",
       "     'scheme': u'http://languagelog.ldc.upenn.edu/nll',\n",
       "     'term': u'Announcements'}],\n",
       "   'thr_total': u'3',\n",
       "   'title': u'Steven Bird&#8217;s new job',\n",
       "   'title_detail': {'base': u'http://languagelog.ldc.upenn.edu/nll/wp-atom.php',\n",
       "    'language': u'en-US',\n",
       "    'type': u'text/html',\n",
       "    'value': u'Steven Bird&#8217;s new job'},\n",
       "   'updated': u'2017-06-17T14:59:57Z',\n",
       "   'updated_parsed': time.struct_time(tm_year=2017, tm_mon=6, tm_mday=17, tm_hour=14, tm_min=59, tm_sec=57, tm_wday=5, tm_yday=168, tm_isdst=0)}],\n",
       " 'etag': u'\"f07e6c91686185ef2c2c10579a222026\"',\n",
       " 'feed': {'guidislink': False,\n",
       "  'id': u'http://languagelog.ldc.upenn.edu/nll/?feed=atom',\n",
       "  'language': u'en-US',\n",
       "  'link': u'http://languagelog.ldc.upenn.edu/nll',\n",
       "  'links': [{'href': u'http://languagelog.ldc.upenn.edu/nll',\n",
       "    'rel': u'alternate',\n",
       "    'type': u'text/html'},\n",
       "   {'href': u'http://languagelog.ldc.upenn.edu/nll/?feed=atom',\n",
       "    'rel': u'self',\n",
       "    'type': u'application/atom+xml'}],\n",
       "  'subtitle': u'',\n",
       "  'subtitle_detail': {'base': u'http://languagelog.ldc.upenn.edu/nll/wp-atom.php',\n",
       "   'language': u'en-US',\n",
       "   'type': u'text/plain',\n",
       "   'value': u''},\n",
       "  'title': u'Language Log',\n",
       "  'title_detail': {'base': u'http://languagelog.ldc.upenn.edu/nll/wp-atom.php',\n",
       "   'language': u'en-US',\n",
       "   'type': u'text/plain',\n",
       "   'value': u'Language Log'},\n",
       "  'updated': u'2017-06-22T11:37:42Z',\n",
       "  'updated_parsed': time.struct_time(tm_year=2017, tm_mon=6, tm_mday=22, tm_hour=11, tm_min=37, tm_sec=42, tm_wday=3, tm_yday=173, tm_isdst=0)},\n",
       " 'headers': {'connection': 'close',\n",
       "  'content-type': 'application/atom+xml; charset=UTF-8',\n",
       "  'date': 'Thu, 22 Jun 2017 15:11:47 GMT',\n",
       "  'etag': '\"f07e6c91686185ef2c2c10579a222026\"',\n",
       "  'last-modified': 'Thu, 22 Jun 2017 11:37:42 GMT',\n",
       "  'link': '<http://languagelog.ldc.upenn.edu/nll/?rest_route=/>; rel=\"https://api.w.org/\"',\n",
       "  'server': 'Apache/2.2.16 (Debian)',\n",
       "  'set-cookie': 'wfvt_4158676223=594bde33bd2a7; expires=Thu, 22-Jun-2017 15:41:47 GMT; path=/; httponly',\n",
       "  'transfer-encoding': 'chunked',\n",
       "  'x-powered-by': 'PHP/5.3.3-7+squeeze25'},\n",
       " 'href': u'http://languagelog.ldc.upenn.edu/nll/?feed=atom',\n",
       " 'namespaces': {'': u'http://www.w3.org/2005/Atom',\n",
       "  u'thr': u'http://purl.org/syndication/thread/1.0'},\n",
       " 'status': 200,\n",
       " 'updated': 'Thu, 22 Jun 2017 11:37:42 GMT',\n",
       " 'updated_parsed': time.struct_time(tm_year=2017, tm_mon=6, tm_mday=22, tm_hour=11, tm_min=37, tm_sec=42, tm_wday=3, tm_yday=173, tm_isdst=0),\n",
       " 'version': u'atom10'}"
      ]
     },
     "execution_count": 22,
     "metadata": {},
     "output_type": "execute_result"
    }
   ],
   "source": [
    "llog"
   ]
  },
  {
   "cell_type": "code",
   "execution_count": 23,
   "metadata": {
    "collapsed": false,
    "deletable": true,
    "editable": true
   },
   "outputs": [
    {
     "data": {
      "text/plain": [
       "u'Language Log'"
      ]
     },
     "execution_count": 23,
     "metadata": {},
     "output_type": "execute_result"
    }
   ],
   "source": [
    "llog['feed']['title']"
   ]
  },
  {
   "cell_type": "code",
   "execution_count": 26,
   "metadata": {
    "collapsed": true,
    "deletable": true,
    "editable": true
   },
   "outputs": [],
   "source": [
    "post = llog.entries[0]"
   ]
  },
  {
   "cell_type": "code",
   "execution_count": 28,
   "metadata": {
    "collapsed": false,
    "deletable": true,
    "editable": true
   },
   "outputs": [
    {
     "data": {
      "text/plain": [
       "u'<div id=\"fb-root\"></div>\\n<p>.. or at least six weeks of it, will be sp'"
      ]
     },
     "execution_count": 28,
     "metadata": {},
     "output_type": "execute_result"
    }
   ],
   "source": [
    "content = post.content[0].value\n",
    "content[:70]"
   ]
  },
  {
   "cell_type": "markdown",
   "metadata": {
    "collapsed": true,
    "deletable": true,
    "editable": true
   },
   "source": [
    "#### 读取本地文件"
   ]
  },
  {
   "cell_type": "code",
   "execution_count": 32,
   "metadata": {
    "collapsed": false,
    "deletable": true,
    "editable": true
   },
   "outputs": [
    {
     "data": {
      "text/plain": [
       "'Today is May 25th, 2017\\n@School of Physics\\nPeking University\\n'"
      ]
     },
     "execution_count": 32,
     "metadata": {},
     "output_type": "execute_result"
    }
   ],
   "source": [
    "f = open('document.txt', 'rU')  # U表示通用，忽略不同的换行符公约\n",
    "raw = f.read()\n",
    "raw"
   ]
  },
  {
   "cell_type": "code",
   "execution_count": 33,
   "metadata": {
    "collapsed": false,
    "deletable": true,
    "editable": true
   },
   "outputs": [
    {
     "name": "stdout",
     "output_type": "stream",
     "text": [
      "Today is May 25th, 2017\n",
      "@School of Physics\n",
      "Peking University\n"
     ]
    }
   ],
   "source": [
    "f = open('document.txt', 'rU')\n",
    "for line in f:\n",
    "    print line.strip()"
   ]
  },
  {
   "cell_type": "markdown",
   "metadata": {
    "collapsed": true,
    "deletable": true,
    "editable": true
   },
   "source": [
    "#### 捕获用户输入"
   ]
  },
  {
   "cell_type": "code",
   "execution_count": 34,
   "metadata": {
    "collapsed": false,
    "deletable": true,
    "editable": true
   },
   "outputs": [
    {
     "name": "stdout",
     "output_type": "stream",
     "text": [
      "Enter some text: NLP is fun.\n"
     ]
    }
   ],
   "source": [
    "s = raw_input(\"Enter some text: \")"
   ]
  },
  {
   "cell_type": "markdown",
   "metadata": {
    "collapsed": true,
    "deletable": true,
    "editable": true
   },
   "source": [
    "### 3.3 Unicode 文字处理"
   ]
  },
  {
   "cell_type": "markdown",
   "metadata": {
    "deletable": true,
    "editable": true
   },
   "source": [
    "使用Unicode处理非ASCII字符集"
   ]
  },
  {
   "cell_type": "markdown",
   "metadata": {
    "deletable": true,
    "editable": true
   },
   "source": [
    "每个字符分配有一个编号，编码点，\\uXXXX形式"
   ]
  },
  {
   "cell_type": "code",
   "execution_count": 2,
   "metadata": {
    "collapsed": true,
    "deletable": true,
    "editable": true
   },
   "outputs": [],
   "source": [
    "path = nltk.data.find('corpora/unicode_samples/polish-lat2.txt')\n",
    "import codecs\n",
    "f = codecs.open(path, encoding = 'latin2')"
   ]
  },
  {
   "cell_type": "code",
   "execution_count": 3,
   "metadata": {
    "collapsed": false,
    "deletable": true,
    "editable": true
   },
   "outputs": [
    {
     "name": "stdout",
     "output_type": "stream",
     "text": [
      "Pruska Biblioteka Pa\\u0144stwowa. Jej dawne zbiory znane pod nazw\\u0105\n",
      "\"Berlinka\" to skarb kultury i sztuki niemieckiej. Przewiezione przez\n",
      "Niemc\\xf3w pod koniec II wojny \\u015bwiatowej na Dolny \\u015al\\u0105sk, zosta\\u0142y\n",
      "odnalezione po 1945 r. na terytorium Polski. Trafi\\u0142y do Biblioteki\n",
      "Jagiello\\u0144skiej w Krakowie, obejmuj\\u0105 ponad 500 tys. zabytkowych\n",
      "archiwali\\xf3w, m.in. manuskrypty Goethego, Mozarta, Beethovena, Bacha.\n"
     ]
    }
   ],
   "source": [
    "for line in f:\n",
    "    line = line.strip()\n",
    "    print line.encode('unicode_escape')"
   ]
  },
  {
   "cell_type": "code",
   "execution_count": 4,
   "metadata": {
    "collapsed": false,
    "deletable": true,
    "editable": true
   },
   "outputs": [
    {
     "data": {
      "text/plain": [
       "97"
      ]
     },
     "execution_count": 4,
     "metadata": {},
     "output_type": "execute_result"
    }
   ],
   "source": [
    "ord('a')"
   ]
  },
  {
   "cell_type": "markdown",
   "metadata": {
    "deletable": true,
    "editable": true
   },
   "source": [
    "### 3.4-3.5 正则表达式\n",
    "#### 查找词干\n",
    "去掉任何看起来像后缀的字符"
   ]
  },
  {
   "cell_type": "code",
   "execution_count": 6,
   "metadata": {
    "collapsed": false,
    "deletable": true,
    "editable": true
   },
   "outputs": [
    {
     "data": {
      "text/plain": [
       "[('process', 'es')]"
      ]
     },
     "execution_count": 6,
     "metadata": {},
     "output_type": "execute_result"
    }
   ],
   "source": [
    "re.findall(r'^(.*?)(ing|ly|ed|ious|ies|ive|es|s|ment)?$', 'processes')"
   ]
  },
  {
   "cell_type": "code",
   "execution_count": 8,
   "metadata": {
    "collapsed": true,
    "deletable": true,
    "editable": true
   },
   "outputs": [],
   "source": [
    "def stem(word):\n",
    "    regexp = r'^(.*?)(ing|ly|ed|ious|ies|ive|es|s|ment)?$'\n",
    "    stem, suffix = re.findall(regexp, word)[0]\n",
    "    return stem"
   ]
  },
  {
   "cell_type": "code",
   "execution_count": 9,
   "metadata": {
    "collapsed": false,
    "deletable": true,
    "editable": true
   },
   "outputs": [
    {
     "name": "stdout",
     "output_type": "stream",
     "text": [
      "['DENNIS', ',', 'Listen', ',', 'strange', 'women', 'ly', 'in', 'pond', 'distribut', 'sword', 'i', 'no', 'basi', 'for', 'a', 'system', 'of', 'gover', '.', 'Supreme', 'execut', 'power', 'deriv', 'from', 'a', 'mandate', 'from', 'the', 'mass', ',', 'not', 'from', 'some', 'farcical', 'aquatic', 'ceremony', '.']\n"
     ]
    }
   ],
   "source": [
    "raw = \"\"\"DENNIS, Listen, strange women lying in ponds distributing swords is no basis for a system of goverment. Supreme\n",
    "executive power derives from a mandate from the masses, not from some farcical aquatic ceremony.\"\"\"\n",
    "tokens = nltk.word_tokenize(raw)\n",
    "print [stem(t) for t in tokens]"
   ]
  },
  {
   "cell_type": "markdown",
   "metadata": {
    "deletable": true,
    "editable": true
   },
   "source": [
    "搜索文本"
   ]
  },
  {
   "cell_type": "code",
   "execution_count": 9,
   "metadata": {
    "collapsed": true,
    "deletable": true,
    "editable": true
   },
   "outputs": [],
   "source": [
    "from nltk.corpus import nps_chat"
   ]
  },
  {
   "cell_type": "code",
   "execution_count": 11,
   "metadata": {
    "collapsed": false,
    "deletable": true,
    "editable": true
   },
   "outputs": [
    {
     "name": "stdout",
     "output_type": "stream",
     "text": [
      "lol lol lol; lmao lol lol; lol lol lol; la la la la la; la la la; la\n",
      "la la; lovely lol lol love; lol lol lol.; la la la; la la la\n"
     ]
    }
   ],
   "source": [
    "chat = nltk.Text(nps_chat.words())\n",
    "chat.findall(r\"<l.*>{3,}\")"
   ]
  },
  {
   "cell_type": "code",
   "execution_count": 12,
   "metadata": {
    "collapsed": false,
    "deletable": true,
    "editable": true
   },
   "outputs": [
    {
     "name": "stdout",
     "output_type": "stream",
     "text": [
      "a bisexual man; a real man\n"
     ]
    }
   ],
   "source": [
    "chat.findall(r\"<a><.*><man>\")"
   ]
  },
  {
   "cell_type": "markdown",
   "metadata": {
    "deletable": true,
    "editable": true
   },
   "source": [
    "### 3.6 规范化文本"
   ]
  },
  {
   "cell_type": "markdown",
   "metadata": {
    "deletable": true,
    "editable": true
   },
   "source": [
    "词干提取器"
   ]
  },
  {
   "cell_type": "code",
   "execution_count": 2,
   "metadata": {
    "collapsed": true,
    "deletable": true,
    "editable": true
   },
   "outputs": [],
   "source": [
    "#索引文本\n",
    "class IndexedText(object):\n",
    "    def __init__(self, stemmer, text):\n",
    "        self._text = text\n",
    "        self._stemmer = stemmer\n",
    "        self._index = nltk.Index((self._stem(word), i) for (i, word) in enumerate(text))\n",
    "    def concordance(self, word, width=40):\n",
    "        key = self._stem(word)\n",
    "        wc = width/4\n",
    "        for i in self._index[key]:\n",
    "            lcontext = ' '.join(self._text[i-wc:i])\n",
    "            rcontext = ' '.join(self._text[i:i+wc])\n",
    "            ldisplay = '%*s' % (width, lcontext[-width:])\n",
    "            rdisplay = '%-*s' % (width, rcontext[:width])\n",
    "            print ldisplay, rdisplay\n",
    "    def _stem(self, word):\n",
    "        return self._stemmer.stem(word).lower()"
   ]
  },
  {
   "cell_type": "code",
   "execution_count": 3,
   "metadata": {
    "collapsed": true,
    "deletable": true,
    "editable": true
   },
   "outputs": [],
   "source": [
    "porter = nltk.PorterStemmer()\n",
    "grail = nltk.corpus.webtext.words('grail.txt')\n",
    "text = IndexedText(porter, grail)"
   ]
  },
  {
   "cell_type": "code",
   "execution_count": 5,
   "metadata": {
    "collapsed": false,
    "deletable": true,
    "editable": true
   },
   "outputs": [
    {
     "name": "stdout",
     "output_type": "stream",
     "text": [
      "r king ! DENNIS : Listen , strange women lying in ponds distributing swords is no\n",
      " beat a very brave retreat . ROBIN : All lies ! MINSTREL : [ singing ] Bravest of\n",
      "       Nay . Nay . Come . Come . You may lie here . Oh , but you are wounded !   \n",
      "doctors immediately ! No , no , please ! Lie down . [ clap clap ] PIGLET : Well  \n",
      "ere is much danger , for beyond the cave lies the Gorge of Eternal Peril , which \n",
      "   you . Oh ... TIM : To the north there lies a cave -- the cave of Caerbannog --\n",
      "h it and lived ! Bones of full fifty men lie strewn about its lair . So , brave k\n",
      "not stop our fight ' til each one of you lies dead , and the Holy Grail returns t\n"
     ]
    }
   ],
   "source": [
    "text.concordance('lie')"
   ]
  },
  {
   "cell_type": "markdown",
   "metadata": {
    "deletable": true,
    "editable": true
   },
   "source": [
    "词形归并  \n",
    "WordNet 词形归并器删除词缀产生的词"
   ]
  },
  {
   "cell_type": "code",
   "execution_count": 7,
   "metadata": {
    "collapsed": true,
    "deletable": true,
    "editable": true
   },
   "outputs": [],
   "source": [
    "wnl = nltk.WordNetLemmatizer()"
   ]
  },
  {
   "cell_type": "code",
   "execution_count": 11,
   "metadata": {
    "collapsed": false,
    "deletable": true,
    "editable": true
   },
   "outputs": [
    {
     "name": "stdout",
     "output_type": "stream",
     "text": [
      "['DENNIS', ',', 'Listen', ',', 'strange', u'woman', 'lying', 'in', u'pond', 'distributing', u'sword', 'is', 'no', 'basis', 'for', 'a', 'system', 'of', 'goverment', '.', 'Supreme', 'executive', 'power', 'derives', 'from', 'a', 'mandate', 'from', 'the', u'mass', ',', 'not', 'from', 'some', 'farcical', 'aquatic', 'ceremony', '.']\n"
     ]
    }
   ],
   "source": [
    "print [wnl.lemmatize(t) for t in tokens]"
   ]
  },
  {
   "cell_type": "markdown",
   "metadata": {
    "collapsed": true,
    "deletable": true,
    "editable": true
   },
   "source": [
    "### 3.7 正则表达式分词"
   ]
  },
  {
   "cell_type": "code",
   "execution_count": 142,
   "metadata": {
    "collapsed": true,
    "deletable": true,
    "editable": true
   },
   "outputs": [],
   "source": [
    "text = 'That U.S.A. poster-print is of 80% quality and cost $12.40... '"
   ]
  },
  {
   "cell_type": "code",
   "execution_count": 137,
   "metadata": {
    "collapsed": false,
    "deletable": true,
    "editable": true
   },
   "outputs": [],
   "source": [
    "pattern = r'''(?x)\n",
    "         \\w+[-\\w+]*\n",
    "        | \\$?\\d+\\.?\\d+%?\n",
    "        | \\.\\.\\.\n",
    "       '''"
   ]
  },
  {
   "cell_type": "code",
   "execution_count": 139,
   "metadata": {
    "collapsed": false,
    "deletable": true,
    "editable": true
   },
   "outputs": [
    {
     "name": "stdout",
     "output_type": "stream",
     "text": [
      "['That', 'U', 'S', 'A', 'poster-print', 'is', 'of', '80', 'quality', 'and', 'cost', '$12.40', '...']\n"
     ]
    }
   ],
   "source": [
    "print nltk.regexp_tokenize(text, pattern)"
   ]
  },
  {
   "cell_type": "code",
   "execution_count": 178,
   "metadata": {
    "collapsed": false,
    "deletable": true,
    "editable": true
   },
   "outputs": [
    {
     "data": {
      "text/plain": [
       "['U.', 'S.', 'A.']"
      ]
     },
     "execution_count": 178,
     "metadata": {},
     "output_type": "execute_result"
    }
   ],
   "source": [
    "nltk.regexp_tokenize(text, pattern)"
   ]
  },
  {
   "cell_type": "code",
   "execution_count": 177,
   "metadata": {
    "collapsed": false,
    "deletable": true,
    "editable": true
   },
   "outputs": [],
   "source": [
    "pattern = r'[A-Z]\\.+'"
   ]
  },
  {
   "cell_type": "markdown",
   "metadata": {
    "deletable": true,
    "editable": true
   },
   "source": [
    "### 3.8 分割\n",
    "#### 断句"
   ]
  },
  {
   "cell_type": "code",
   "execution_count": 179,
   "metadata": {
    "collapsed": true,
    "deletable": true,
    "editable": true
   },
   "outputs": [],
   "source": [
    "sent_tokenizer = nltk.data.load('tokenizers/punkt/english.pickle')\n",
    "text = nltk.corpus.gutenberg.raw('chesterton-thursday.txt')"
   ]
  },
  {
   "cell_type": "code",
   "execution_count": 181,
   "metadata": {
    "collapsed": false,
    "deletable": true,
    "editable": true
   },
   "outputs": [],
   "source": [
    "sents = sent_tokenizer.tokenize(text)"
   ]
  },
  {
   "cell_type": "code",
   "execution_count": 183,
   "metadata": {
    "collapsed": false,
    "deletable": true,
    "editable": true
   },
   "outputs": [
    {
     "data": {
      "text/plain": [
       "[u\"For the first time a red patch appeared on Gregory's forehead.\",\n",
       " u'\"You don\\'t expect me,\" he said, \"to revolutionise society on this\\nlawn ?\"']"
      ]
     },
     "execution_count": 183,
     "metadata": {},
     "output_type": "execute_result"
    }
   ],
   "source": [
    "sents[123:125]"
   ]
  },
  {
   "cell_type": "markdown",
   "metadata": {
    "deletable": true,
    "editable": true
   },
   "source": [
    "#### 分词"
   ]
  },
  {
   "cell_type": "code",
   "execution_count": 2,
   "metadata": {
    "collapsed": true,
    "deletable": true,
    "editable": true
   },
   "outputs": [],
   "source": [
    "def segment(text, segs):\n",
    "    words = []\n",
    "    last = 0\n",
    "    for i in range(len(segs)):\n",
    "        if segs[i] == '1':\n",
    "            words.append(text[last:i+1])\n",
    "            last = i+1\n",
    "    words.append(text[last:])\n",
    "    return words"
   ]
  },
  {
   "cell_type": "code",
   "execution_count": 4,
   "metadata": {
    "collapsed": false,
    "deletable": true,
    "editable": true
   },
   "outputs": [
    {
     "name": "stdout",
     "output_type": "stream",
     "text": [
      "['do', 'you', 'see', 'the', 'kitty', 'see', 'the', 'doggy', 'do', 'you', 'like', 'the', 'kitty']\n"
     ]
    }
   ],
   "source": [
    "text = \"doyouseethekittyseethedoggydoyoulikethekitty\"\n",
    "seg = \"0100100100100001001001000010100100010010000\"\n",
    "print segment(text, seg)"
   ]
  },
  {
   "cell_type": "code",
   "execution_count": 5,
   "metadata": {
    "collapsed": true,
    "deletable": true,
    "editable": true
   },
   "outputs": [],
   "source": [
    "def evaluate(text, segs):\n",
    "    words = segment(text, segs)\n",
    "    text_size = len(words)\n",
    "    lexicon_size = len(' '.join(list(set(words))))\n",
    "    return text_size + lexicon_size"
   ]
  },
  {
   "cell_type": "code",
   "execution_count": 9,
   "metadata": {
    "collapsed": false,
    "deletable": true,
    "editable": true
   },
   "outputs": [
    {
     "data": {
      "text/plain": [
       "'do like kitty see you doggy the'"
      ]
     },
     "execution_count": 9,
     "metadata": {},
     "output_type": "execute_result"
    }
   ],
   "source": [
    "' '.join(list(set(segment(text, seg))))"
   ]
  },
  {
   "cell_type": "code",
   "execution_count": 10,
   "metadata": {
    "collapsed": false,
    "deletable": true,
    "editable": true
   },
   "outputs": [
    {
     "data": {
      "text/plain": [
       "44"
      ]
     },
     "execution_count": 10,
     "metadata": {},
     "output_type": "execute_result"
    }
   ],
   "source": [
    "evaluate(text, seg)"
   ]
  },
  {
   "cell_type": "markdown",
   "metadata": {
    "deletable": true,
    "editable": true
   },
   "source": [
    "#### 模拟退火算法"
   ]
  },
  {
   "cell_type": "code",
   "execution_count": 11,
   "metadata": {
    "collapsed": true,
    "deletable": true,
    "editable": true
   },
   "outputs": [],
   "source": [
    "from random import randint"
   ]
  },
  {
   "cell_type": "code",
   "execution_count": 23,
   "metadata": {
    "collapsed": true,
    "deletable": true,
    "editable": true
   },
   "outputs": [],
   "source": [
    "def flip(segs, pos):\n",
    "    return segs[:pos] + str(1-int(segs[pos])) + segs[pos+1:]\n",
    "def flip_n(segs, n):\n",
    "    for i in range(n):\n",
    "        segs = flip(segs, randint(0,len(segs)-1))\n",
    "    return segs\n",
    "def anneal(text, segs, iterations, cooling_rate):  \n",
    "    temperature = float(len(segs))  \n",
    "    while temperature > 0.5:  \n",
    "        best_segs, best = segs, evaluate(text, segs)  \n",
    "        for i in range(iterations):  \n",
    "            guess = flip_n(segs, int(round(temperature)))  \n",
    "            score = evaluate(text, guess)  \n",
    "            if score < best:  \n",
    "                best, best_segs = score, guess  \n",
    "        score, segs = best, best_segs  \n",
    "        temperature = temperature / cooling_rate  \n",
    "        print evaluate(text, segs), segment(text, segs)  \n",
    "    print  \n",
    "    return segs  "
   ]
  },
  {
   "cell_type": "code",
   "execution_count": 24,
   "metadata": {
    "collapsed": false,
    "deletable": true,
    "editable": true
   },
   "outputs": [
    {
     "name": "stdout",
     "output_type": "stream",
     "text": [
      "63 ['doyouseethekitty', 'seethedoggy', 'doyoulikethekitty', 'likethedoggy']\n",
      "63 ['doyouseethekitty', 'seethedoggy', 'doyoulikethekitty', 'likethedoggy']\n",
      "63 ['doyouseethekitty', 'seethedoggy', 'doyoulikethekitty', 'likethedoggy']\n",
      "63 ['doyouseethekitty', 'seethedoggy', 'doyoulikethekitty', 'likethedoggy']\n",
      "63 ['doyouseethekitty', 'seethedoggy', 'doyoulikethekitty', 'likethedoggy']\n",
      "63 ['doyouseethekitty', 'seethedoggy', 'doyoulikethekitty', 'likethedoggy']\n",
      "63 ['doyouseethekitty', 'seethedoggy', 'doyoulikethekitty', 'likethedoggy']\n",
      "63 ['doyouseethekitty', 'seethedoggy', 'doyoulikethekitty', 'likethedoggy']\n",
      "58 ['doyouseeth', 'ekitty', 'seet', 'hedoggy', 'doyo', 'uliketh', 'ekitty', 'liket', 'hedoggy']\n",
      "58 ['doyouseeth', 'ekitty', 'seet', 'hedoggy', 'doyo', 'uliketh', 'ekitty', 'liket', 'hedoggy']\n",
      "58 ['doyouseeth', 'ekitty', 'seet', 'hedoggy', 'doyo', 'uliketh', 'ekitty', 'liket', 'hedoggy']\n",
      "54 ['doyo', 'u', 'seet', 'h', 'ekitty', 'seet', 'hedoggy', 'doyo', 'uliketh', 'ekitty', 'liket', 'hedoggy']\n",
      "54 ['doyo', 'u', 'seet', 'h', 'ekitty', 'seet', 'hedoggy', 'doyo', 'uliketh', 'ekitty', 'liket', 'hedoggy']\n",
      "54 ['doyo', 'u', 'seet', 'h', 'ekitty', 'seet', 'hedoggy', 'doyo', 'uliketh', 'ekitty', 'liket', 'hedoggy']\n",
      "54 ['doyo', 'u', 'seet', 'h', 'ekitty', 'seet', 'hedoggy', 'doyo', 'uliketh', 'ekitty', 'liket', 'hedoggy']\n",
      "54 ['doyo', 'u', 'seet', 'h', 'ekitty', 'seet', 'hedoggy', 'doyo', 'uliketh', 'ekitty', 'liket', 'hedoggy']\n",
      "53 ['doyo', 'u', 'seeth', 'ekitty', 'seet', 'hedoggy', 'doyo', 'u', 'liket', 'h', 'ekitty', 'liket', 'hedoggy']\n",
      "50 ['doyou', 'seeth', 'ekitty', 'seet', 'hedoggy', 'doyou', 'liket', 'h', 'ekitty', 'liket', 'hedoggy']\n",
      "50 ['doyou', 'seeth', 'ekitty', 'seet', 'hedoggy', 'doyou', 'liket', 'h', 'ekitty', 'liket', 'hedoggy']\n",
      "50 ['doyou', 'seeth', 'ekitty', 'seet', 'hedoggy', 'doyou', 'liket', 'h', 'ekitty', 'liket', 'hedoggy']\n",
      "45 ['doyou', 'seet', 'h', 'ekitty', 'seet', 'hedoggy', 'doyou', 'liket', 'h', 'ekitty', 'liket', 'hedoggy']\n",
      "45 ['doyou', 'seet', 'h', 'ekitty', 'seet', 'hedoggy', 'doyou', 'liket', 'h', 'ekitty', 'liket', 'hedoggy']\n",
      "45 ['doyou', 'seet', 'h', 'ekitty', 'seet', 'hedoggy', 'doyou', 'liket', 'h', 'ekitty', 'liket', 'hedoggy']\n",
      "45 ['doyou', 'seet', 'h', 'ekitty', 'seet', 'hedoggy', 'doyou', 'liket', 'h', 'ekitty', 'liket', 'hedoggy']\n",
      "45 ['doyou', 'seet', 'h', 'ekitty', 'seet', 'hedoggy', 'doyou', 'liket', 'h', 'ekitty', 'liket', 'hedoggy']\n",
      "45 ['doyou', 'seet', 'h', 'ekitty', 'seet', 'hedoggy', 'doyou', 'liket', 'h', 'ekitty', 'liket', 'hedoggy']\n",
      "\n"
     ]
    },
    {
     "data": {
      "text/plain": [
       "'0000100011000001000100000010000100001100000100001000000'"
      ]
     },
     "execution_count": 24,
     "metadata": {},
     "output_type": "execute_result"
    }
   ],
   "source": [
    "text = \"doyouseethekittyseethedoggydoyoulikethekittylikethedoggy\"\n",
    "seg0= \"0000000000000001000000000010000000000000000100000000000\"\n",
    "anneal(text, seg0, 5000, 1.2)"
   ]
  },
  {
   "cell_type": "code",
   "execution_count": null,
   "metadata": {
    "collapsed": true,
    "deletable": true,
    "editable": true
   },
   "outputs": [],
   "source": []
  }
 ],
 "metadata": {
  "kernelspec": {
   "display_name": "Python 2",
   "language": "python",
   "name": "python2"
  },
  "language_info": {
   "codemirror_mode": {
    "name": "ipython",
    "version": 2
   },
   "file_extension": ".py",
   "mimetype": "text/x-python",
   "name": "python",
   "nbconvert_exporter": "python",
   "pygments_lexer": "ipython2",
   "version": "2.7.6"
  }
 },
 "nbformat": 4,
 "nbformat_minor": 2
}
