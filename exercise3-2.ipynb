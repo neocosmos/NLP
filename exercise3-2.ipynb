{
 "cells": [
  {
   "cell_type": "markdown",
   "metadata": {
    "deletable": true,
    "editable": true
   },
   "source": [
    "Q21 提取html小写字母字符串，并且词不在corpus.words语料库"
   ]
  },
  {
   "cell_type": "code",
   "execution_count": 1,
   "metadata": {
    "collapsed": false,
    "deletable": true,
    "editable": true,
    "scrolled": true
   },
   "outputs": [],
   "source": [
    "from bs4 import BeautifulSoup\n",
    "import re\n",
    "import nltk\n",
    "from urllib import urlopen\n",
    "from nltk import word_tokenize\n",
    "from nltk.corpus import words\n",
    "\n",
    "def unknown(url, start):\n",
    "\n",
    "    html = urlopen(url).read()\n",
    "    soup = BeautifulSoup(html, \"html5lib\") \n",
    "    raw = soup.get_text() \n",
    "    \n",
    "    tokens = nltk.word_tokenize(raw[start:])\n",
    "    text = nltk.Text(tokens)\n",
    "    low_words = set(re.findall(r'\\b[a-z]+', ' '.join(text)))\n",
    "    \n",
    "    corpus_words = set(words.words())    \n",
    "    unknowns = [word for word in low_words if word not in corpus_words]\n",
    "    return unknowns"
   ]
  },
  {
   "cell_type": "code",
   "execution_count": 60,
   "metadata": {
    "collapsed": false,
    "deletable": true,
    "editable": true
   },
   "outputs": [],
   "source": [
    "unknown('http://www.nltk.org/book/ch00.html', 10834)"
   ]
  },
  {
   "cell_type": "markdown",
   "metadata": {
    "deletable": true,
    "editable": true
   },
   "source": [
    "Q22"
   ]
  },
  {
   "cell_type": "code",
   "execution_count": 2,
   "metadata": {
    "collapsed": true,
    "deletable": true,
    "editable": true
   },
   "outputs": [],
   "source": [
    "url = \"http://news.bbc.co.uk\"\n",
    "html = urlopen(url).read()\n",
    "soup = BeautifulSoup(html, \"html5lib\") \n",
    "for script in soup.find_all('script'):\n",
    "    script.clear()\n",
    "raw = soup.get_text() \n",
    "\n",
    "tokens = nltk.word_tokenize(raw[53084:])\n",
    "text = nltk.Text(tokens)\n",
    "low_words = set(re.findall(r'\\b[a-z]+', ' '.join(text)))"
   ]
  },
  {
   "cell_type": "code",
   "execution_count": 4,
   "metadata": {
    "collapsed": false,
    "deletable": true,
    "editable": true
   },
   "outputs": [],
   "source": [
    "corpus_words = set(words.words())    \n",
    "unknowns = [word for word in low_words if word not in corpus_words]"
   ]
  },
  {
   "cell_type": "markdown",
   "metadata": {
    "deletable": true,
    "editable": true
   },
   "source": [
    "Q23"
   ]
  },
  {
   "cell_type": "code",
   "execution_count": 84,
   "metadata": {
    "collapsed": false,
    "deletable": true,
    "editable": true
   },
   "outputs": [
    {
     "data": {
      "text/plain": [
       "['cann', 't']"
      ]
     },
     "execution_count": 84,
     "metadata": {},
     "output_type": "execute_result"
    }
   ],
   "source": [
    "re.findall(r\"n't|\\w+\", \"cann't\")"
   ]
  },
  {
   "cell_type": "code",
   "execution_count": 97,
   "metadata": {
    "collapsed": false,
    "deletable": true,
    "editable": true
   },
   "outputs": [
    {
     "data": {
      "text/plain": [
       "['can', \"n't\"]"
      ]
     },
     "execution_count": 97,
     "metadata": {},
     "output_type": "execute_result"
    }
   ],
   "source": [
    "re.findall(r\"can|n't\", \"cann't\")"
   ]
  },
  {
   "cell_type": "markdown",
   "metadata": {
    "collapsed": true,
    "deletable": true,
    "editable": true
   },
   "source": [
    "Q24"
   ]
  },
  {
   "cell_type": "code",
   "execution_count": 6,
   "metadata": {
    "collapsed": true,
    "deletable": true,
    "editable": true
   },
   "outputs": [],
   "source": [
    "test_str = 'eIOsl s.ate'"
   ]
  },
  {
   "cell_type": "code",
   "execution_count": 16,
   "metadata": {
    "collapsed": true,
    "deletable": true,
    "editable": true
   },
   "outputs": [],
   "source": [
    "words = test_str.lower().split()"
   ]
  },
  {
   "cell_type": "code",
   "execution_count": 29,
   "metadata": {
    "collapsed": false,
    "deletable": true,
    "editable": true
   },
   "outputs": [],
   "source": [
    "new_txt = []\n",
    "for word in words:\n",
    "    if 'ate' in word:\n",
    "        word = word.replace('ate', '8')\n",
    "    if 'e' in word:\n",
    "        word = word.replace('e', '3')\n",
    "    if 'i' in word:\n",
    "        word = word.replace('i', '1')\n",
    "    if 'o' in word:\n",
    "        word = word.replace('l', '|')\n",
    "    if '.' in word:\n",
    "        word = word.replace('.', '5w33t!')\n",
    "    if 's' in word:\n",
    "        if word.startswith('s'):\n",
    "            word = word.replace('s', '$')\n",
    "        else:\n",
    "            word = word.replace('s', '5')\n",
    "    new_txt.append(word)"
   ]
  },
  {
   "cell_type": "code",
   "execution_count": 30,
   "metadata": {
    "collapsed": false,
    "deletable": true,
    "editable": true
   },
   "outputs": [
    {
     "data": {
      "text/plain": [
       "['31o5|', '$5w33t!8']"
      ]
     },
     "execution_count": 30,
     "metadata": {},
     "output_type": "execute_result"
    }
   ],
   "source": [
    "new_txt"
   ]
  },
  {
   "cell_type": "markdown",
   "metadata": {
    "deletable": true,
    "editable": true
   },
   "source": [
    "Q25 Pig Latin"
   ]
  },
  {
   "cell_type": "code",
   "execution_count": 46,
   "metadata": {
    "collapsed": false,
    "deletable": true,
    "editable": true
   },
   "outputs": [],
   "source": [
    "#a\n",
    "def pig_word(word):\n",
    "    pattern = re.compile(r'^[^aeiouAEIOU]+')\n",
    "    if re.findall(pattern, word):\n",
    "        word = pattern.sub('', word) + re.findall(pattern, word)[0] + 'ay'\n",
    "    return word"
   ]
  },
  {
   "cell_type": "code",
   "execution_count": 41,
   "metadata": {
    "collapsed": false,
    "deletable": true,
    "editable": true
   },
   "outputs": [
    {
     "data": {
      "text/plain": [
       "'oodstay'"
      ]
     },
     "execution_count": 41,
     "metadata": {},
     "output_type": "execute_result"
    }
   ],
   "source": [
    "pig_word('stood')"
   ]
  },
  {
   "cell_type": "code",
   "execution_count": 48,
   "metadata": {
    "collapsed": false,
    "deletable": true,
    "editable": true
   },
   "outputs": [],
   "source": [
    "#b\n",
    "def pig_txt(txt):\n",
    "    pattern_all = re.compile(r'[a-zA-Z]+') # it's a word not ',' \n",
    "    pig_text = ''\n",
    "    for word in word_tokenize(txt):\n",
    "        if re.findall(pattern_all, word):\n",
    "            word = pig_word(word)\n",
    "            pig_text += ' '+ word\n",
    "        else:\n",
    "            pig_text += word\n",
    "    return pig_text"
   ]
  },
  {
   "cell_type": "code",
   "execution_count": 50,
   "metadata": {
    "collapsed": false,
    "deletable": true,
    "editable": true
   },
   "outputs": [
    {
     "data": {
      "text/plain": [
       "' isThay is a esttay. It is upposedsay otay orkway.'"
      ]
     },
     "execution_count": 50,
     "metadata": {},
     "output_type": "execute_result"
    }
   ],
   "source": [
    "text = \"This is a test. It is supposed to work.\"\n",
    "pig_txt(text)"
   ]
  },
  {
   "cell_type": "code",
   "execution_count": 55,
   "metadata": {
    "collapsed": true,
    "deletable": true,
    "editable": true
   },
   "outputs": [],
   "source": [
    "#c\n",
    "def pig_txt(txt):\n",
    "    pattern_all = re.compile(r'[a-zA-Z]+') # it's a word not ',' \n",
    "    pattern_A = re.compile(r'^[A-Z]+|^qu')\n",
    "    \n",
    "    pig_text = ''\n",
    "    for word in word_tokenize(txt):\n",
    "        if re.findall(pattern_A, word):\n",
    "            pig_text += ' '+ word\n",
    "        elif re.findall(pattern_all, word):\n",
    "            word = pig_word(word)\n",
    "            pig_text += ' '+ word\n",
    "        else:\n",
    "            pig_text += word\n",
    "    return pig_text"
   ]
  },
  {
   "cell_type": "code",
   "execution_count": 56,
   "metadata": {
    "collapsed": false,
    "deletable": true,
    "editable": true
   },
   "outputs": [
    {
     "data": {
      "text/plain": [
       "' This is a esttay. It is upposedsay otay orkway quite astfay.'"
      ]
     },
     "execution_count": 56,
     "metadata": {},
     "output_type": "execute_result"
    }
   ],
   "source": [
    "text = \"This is a test. It is supposed to work quite fast.\"\n",
    "pig_txt(text)"
   ]
  },
  {
   "cell_type": "markdown",
   "metadata": {
    "collapsed": true,
    "deletable": true,
    "editable": true
   },
   "source": [
    "Q27"
   ]
  },
  {
   "cell_type": "code",
   "execution_count": 3,
   "metadata": {
    "collapsed": true,
    "deletable": true,
    "editable": true
   },
   "outputs": [],
   "source": [
    "import random"
   ]
  },
  {
   "cell_type": "code",
   "execution_count": 15,
   "metadata": {
    "collapsed": false,
    "deletable": true,
    "editable": true
   },
   "outputs": [],
   "source": [
    "string = []\n",
    "for i in range(0,100):\n",
    "    string.append(random.choice(\"aehh \"))"
   ]
  },
  {
   "cell_type": "code",
   "execution_count": 16,
   "metadata": {
    "collapsed": false,
    "deletable": true,
    "editable": true
   },
   "outputs": [
    {
     "data": {
      "text/plain": [
       "'hhhe hh aheeehhaah ea aahaahhhea hhhhaheehh ahhahhhhahhe  hehaahh hhhheeh eahhhhaehaa hehh ehhahhaae'"
      ]
     },
     "execution_count": 16,
     "metadata": {},
     "output_type": "execute_result"
    }
   ],
   "source": [
    "''.join(string)"
   ]
  },
  {
   "cell_type": "markdown",
   "metadata": {
    "deletable": true,
    "editable": true
   },
   "source": [
    "处理连续空格"
   ]
  },
  {
   "cell_type": "code",
   "execution_count": 17,
   "metadata": {
    "collapsed": false,
    "deletable": true,
    "editable": true
   },
   "outputs": [],
   "source": [
    "word = ''.join(string).split()"
   ]
  },
  {
   "cell_type": "code",
   "execution_count": 18,
   "metadata": {
    "collapsed": false,
    "deletable": true,
    "editable": true
   },
   "outputs": [
    {
     "data": {
      "text/plain": [
       "'hhhe hh aheeehhaah ea aahaahhhea hhhhaheehh ahhahhhhahhe hehaahh hhhheeh eahhhhaehaa hehh ehhahhaae'"
      ]
     },
     "execution_count": 18,
     "metadata": {},
     "output_type": "execute_result"
    }
   ],
   "source": [
    "' '.join(word)"
   ]
  },
  {
   "cell_type": "markdown",
   "metadata": {
    "collapsed": true,
    "deletable": true,
    "editable": true
   },
   "source": [
    "Q29"
   ]
  },
  {
   "cell_type": "code",
   "execution_count": 11,
   "metadata": {
    "collapsed": false,
    "deletable": true,
    "editable": true
   },
   "outputs": [],
   "source": [
    "from nltk.corpus import brown"
   ]
  },
  {
   "cell_type": "code",
   "execution_count": 19,
   "metadata": {
    "collapsed": false,
    "deletable": true,
    "editable": true
   },
   "outputs": [],
   "source": [
    "def ave_words(category):\n",
    "    sent_num = len(brown.sents(categories=category))\n",
    "    word_num = len(brown.words(categories=category))\n",
    "    return word_num*1./sent_num\n",
    "\n",
    "def ave_letters(category):\n",
    "    word_num = len(brown.words(categories=category))\n",
    "    letter_num =  len(''.join(brown.words(categories=category)))\n",
    "    return letter_num*1./word_num\n",
    "    \n",
    "def ari(category):\n",
    "    uw = ave_letters(category)\n",
    "    us = ave_words(category)\n",
    "    ari = 4.71*uw + 0.5*us - 21.43\n",
    "    return ari"
   ]
  },
  {
   "cell_type": "code",
   "execution_count": 21,
   "metadata": {
    "collapsed": false,
    "deletable": true,
    "editable": true
   },
   "outputs": [
    {
     "data": {
      "text/plain": [
       "4.34922419804213"
      ]
     },
     "execution_count": 21,
     "metadata": {},
     "output_type": "execute_result"
    }
   ],
   "source": [
    "ari('romance')"
   ]
  },
  {
   "cell_type": "markdown",
   "metadata": {
    "deletable": true,
    "editable": true
   },
   "source": [
    "Q30"
   ]
  },
  {
   "cell_type": "code",
   "execution_count": 22,
   "metadata": {
    "collapsed": true,
    "deletable": true,
    "editable": true
   },
   "outputs": [],
   "source": [
    "porter = nltk.PorterStemmer()\n",
    "lancaster = nltk.LancasterStemmer()"
   ]
  },
  {
   "cell_type": "code",
   "execution_count": 30,
   "metadata": {
    "collapsed": false,
    "deletable": true,
    "editable": true
   },
   "outputs": [],
   "source": [
    "from nltk.corpus import brown\n",
    "words = brown.words(categories='romance')"
   ]
  },
  {
   "cell_type": "code",
   "execution_count": 33,
   "metadata": {
    "collapsed": false,
    "deletable": true,
    "editable": true
   },
   "outputs": [
    {
     "name": "stdout",
     "output_type": "stream",
     "text": [
      "neither neither neith\n",
      "liked like lik\n",
      "have have hav\n",
      "broken broken brok\n",
      "bell bell bel\n",
      "tower tower tow\n",
      "before befor bef\n",
      "after after aft\n",
      "evening even ev\n",
      "tone tone ton\n",
      "never never nev\n",
      "streets street streets\n",
      "was wa was\n",
      "were were wer\n",
      "there there ther\n"
     ]
    }
   ],
   "source": [
    "cnt =0\n",
    "for t in words:\n",
    "    p_stem = porter.stem(t.lower())\n",
    "    l_stem = lancaster.stem(t.lower())\n",
    "    if p_stem != l_stem and cnt<15:\n",
    "        cnt += 1\n",
    "        print t, p_stem, l_stem"
   ]
  },
  {
   "cell_type": "markdown",
   "metadata": {
    "deletable": true,
    "editable": true
   },
   "source": [
    "Q31"
   ]
  },
  {
   "cell_type": "code",
   "execution_count": 37,
   "metadata": {
    "collapsed": true,
    "deletable": true,
    "editable": true
   },
   "outputs": [],
   "source": [
    "saying = ['After', 'all', 'is', 'said', 'and', 'done', ',', 'is', 'said', 'than', 'done', '.']\n",
    "lengths = []\n",
    "for word in saying:\n",
    "    lengths.append(len(word))"
   ]
  },
  {
   "cell_type": "code",
   "execution_count": 38,
   "metadata": {
    "collapsed": false,
    "deletable": true,
    "editable": true
   },
   "outputs": [
    {
     "data": {
      "text/plain": [
       "[5, 3, 2, 4, 3, 4, 1, 2, 4, 4, 4, 1]"
      ]
     },
     "execution_count": 38,
     "metadata": {},
     "output_type": "execute_result"
    }
   ],
   "source": [
    "lengths"
   ]
  },
  {
   "cell_type": "markdown",
   "metadata": {
    "deletable": true,
    "editable": true
   },
   "source": [
    "Q32"
   ]
  },
  {
   "cell_type": "code",
   "execution_count": 39,
   "metadata": {
    "collapsed": true,
    "deletable": true,
    "editable": true
   },
   "outputs": [],
   "source": [
    "silly = 'newly formed bland ideas are inexpressible in an infuriating way'"
   ]
  },
  {
   "cell_type": "code",
   "execution_count": 40,
   "metadata": {
    "collapsed": true,
    "deletable": true,
    "editable": true
   },
   "outputs": [],
   "source": [
    "bland = silly.split()"
   ]
  },
  {
   "cell_type": "code",
   "execution_count": 44,
   "metadata": {
    "collapsed": false,
    "deletable": true,
    "editable": true
   },
   "outputs": [
    {
     "name": "stdout",
     "output_type": "stream",
     "text": [
      "eoldrnnnna\n"
     ]
    }
   ],
   "source": [
    "string =''\n",
    "for word in bland:\n",
    "    string += word[1]\n",
    "print string"
   ]
  },
  {
   "cell_type": "code",
   "execution_count": 45,
   "metadata": {
    "collapsed": false,
    "deletable": true,
    "editable": true
   },
   "outputs": [
    {
     "data": {
      "text/plain": [
       "'newly formed bland ideas are inexpressible in an infuriating way'"
      ]
     },
     "execution_count": 45,
     "metadata": {},
     "output_type": "execute_result"
    }
   ],
   "source": [
    "' '.join(bland)"
   ]
  },
  {
   "cell_type": "code",
   "execution_count": 47,
   "metadata": {
    "collapsed": false,
    "deletable": true,
    "editable": true
   },
   "outputs": [
    {
     "name": "stdout",
     "output_type": "stream",
     "text": [
      "an\n",
      "are\n",
      "bland\n",
      "formed\n",
      "ideas\n",
      "in\n",
      "inexpressible\n",
      "infuriating\n",
      "newly\n",
      "way\n"
     ]
    }
   ],
   "source": [
    "for word in sorted(bland):\n",
    "    print word"
   ]
  },
  {
   "cell_type": "markdown",
   "metadata": {
    "deletable": true,
    "editable": true
   },
   "source": [
    "Q33"
   ]
  },
  {
   "cell_type": "code",
   "execution_count": 48,
   "metadata": {
    "collapsed": false,
    "deletable": true,
    "editable": true
   },
   "outputs": [
    {
     "data": {
      "text/plain": [
       "5"
      ]
     },
     "execution_count": 48,
     "metadata": {},
     "output_type": "execute_result"
    }
   ],
   "source": [
    "'inexpressible'.index('re')"
   ]
  },
  {
   "cell_type": "code",
   "execution_count": 50,
   "metadata": {
    "collapsed": false,
    "deletable": true,
    "editable": true
   },
   "outputs": [
    {
     "data": {
      "text/plain": [
       "3"
      ]
     },
     "execution_count": 50,
     "metadata": {},
     "output_type": "execute_result"
    }
   ],
   "source": [
    "bland.index('ideas')"
   ]
  },
  {
   "cell_type": "code",
   "execution_count": 53,
   "metadata": {
    "collapsed": false,
    "deletable": true,
    "editable": true
   },
   "outputs": [
    {
     "name": "stdout",
     "output_type": "stream",
     "text": [
      "['newly', 'formed', 'bland', 'ideas', 'are', 'inexpressible']\n"
     ]
    }
   ],
   "source": [
    "phrase = bland[:bland.index('in')]\n",
    "print phrase"
   ]
  },
  {
   "cell_type": "markdown",
   "metadata": {
    "collapsed": true,
    "deletable": true,
    "editable": true
   },
   "source": [
    "Q34"
   ]
  },
  {
   "cell_type": "code",
   "execution_count": 7,
   "metadata": {
    "collapsed": false
   },
   "outputs": [],
   "source": [
    "import pycountry"
   ]
  },
  {
   "cell_type": "code",
   "execution_count": 3,
   "metadata": {
    "collapsed": true
   },
   "outputs": [],
   "source": [
    "countries = [country.name for country in pycountry.countries]"
   ]
  },
  {
   "cell_type": "code",
   "execution_count": 41,
   "metadata": {
    "collapsed": true
   },
   "outputs": [],
   "source": [
    "patterns = ['ese', 'ian', 'an', 'ean', 'n', 'ic', 'ern']\n",
    "suffixes = ['a', 'o', 'ia']"
   ]
  },
  {
   "cell_type": "code",
   "execution_count": 43,
   "metadata": {
    "collapsed": false
   },
   "outputs": [],
   "source": [
    "def convert(country):\n",
    "    for pattern in patterns:\n",
    "        spl = re.findall(r'^(.*)('+pattern+')', country)\n",
    "        \n",
    "        if spl:\n",
    "            if spl[0][0] in countries:\n",
    "                country = spl[0][0]\n",
    "            else:\n",
    "                for suf in suffixes:\n",
    "                    if (spl[0][0] + suf) in countries:\n",
    "                        country = (spl[0][0] + suf)\n",
    "            return country"
   ]
  },
  {
   "cell_type": "code",
   "execution_count": 44,
   "metadata": {
    "collapsed": false
   },
   "outputs": [
    {
     "name": "stdout",
     "output_type": "stream",
     "text": [
      "Canada China Australia\n"
     ]
    }
   ],
   "source": [
    "print convert('Canadian'), convert('Chinese'), convert('Australian')"
   ]
  },
  {
   "cell_type": "markdown",
   "metadata": {},
   "source": [
    "Q35"
   ]
  },
  {
   "cell_type": "markdown",
   "metadata": {},
   "source": [
    "Read http://itre.cis.upenn.edu/~myl/languagelog/archives/002733.html"
   ]
  },
  {
   "cell_type": "markdown",
   "metadata": {},
   "source": [
    "Q36"
   ]
  },
  {
   "cell_type": "markdown",
   "metadata": {},
   "source": [
    "http://www.lolcatbible.com/index.php?title=How_to_speak_lolcat"
   ]
  },
  {
   "cell_type": "code",
   "execution_count": 53,
   "metadata": {
    "collapsed": true
   },
   "outputs": [],
   "source": [
    "text = nltk.corpus.genesis.words('lolcat.txt')"
   ]
  },
  {
   "cell_type": "code",
   "execution_count": 54,
   "metadata": {
    "collapsed": false
   },
   "outputs": [
    {
     "data": {
      "text/plain": [
       "[u'Oh', u'hai', u'.', u'In', u'teh', u'beginnin', ...]"
      ]
     },
     "execution_count": 54,
     "metadata": {},
     "output_type": "execute_result"
    }
   ],
   "source": [
    "text"
   ]
  }
 ],
 "metadata": {
  "kernelspec": {
   "display_name": "Python 2",
   "language": "python",
   "name": "python2"
  },
  "language_info": {
   "codemirror_mode": {
    "name": "ipython",
    "version": 2
   },
   "file_extension": ".py",
   "mimetype": "text/x-python",
   "name": "python",
   "nbconvert_exporter": "python",
   "pygments_lexer": "ipython2",
   "version": "2.7.6"
  }
 },
 "nbformat": 4,
 "nbformat_minor": 2
}
